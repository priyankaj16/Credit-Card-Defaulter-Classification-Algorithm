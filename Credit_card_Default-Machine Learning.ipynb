{
 "cells": [
  {
   "cell_type": "markdown",
   "metadata": {},
   "source": [
    "<center><h1>MIS 6341 - ML Project 1</h1></center>\n",
    "\n",
    "\n",
    "\n",
    "<center><b> Group 6 : Anugya, Atul Kotecha </b></center>\n"
   ]
  },
  {
   "cell_type": "markdown",
   "metadata": {},
   "source": [
    "<center><h1>Classification Task</h1></center>"
   ]
  },
  {
   "cell_type": "markdown",
   "metadata": {},
   "source": [
    "<h1>Default of Credit card</h1>\n",
    "\n",
    "<p>This research aimed at the case of customers default payments in Taiwan and compares the predictive accuracy of probability of default among six data mining methods.</p>"
   ]
  },
  {
   "cell_type": "markdown",
   "metadata": {},
   "source": [
    "<h2>Attribute Information</h2>\n",
    "\n",
    "<p>This dataset contains information on default payments, demographic factors, credit data, history of payment, and bill statements of credit card clients in Taiwan from April 2005 to September 2005.</p>\n",
    "\n",
    "<p>This dataset includes 30,000 records and 25 attributes.</p>\n",
    "\n",
    "<h3>Columns</h3>\n",
    "\n",
    "   1. <b>ID </b> : ID of each client\n",
    "   2. <b>LIMIT_BAL </b> : Amount of given credit in NT dollars (includes individual and family/supplementary credit\n",
    "   3. <b>SEX</b> : Gender (1=male, 2=female)\n",
    "   4. <b>EDUCATION</b> : (1=graduate school, 2=university, 3=high school, 4=others, 5=unknown, 6=unknown)\n",
    "   5. <b>MARRIAGE</b> : Marital status (1=married, 2=single, 3=others)\n",
    "   6. <b>AGE</b> : Age in years\n",
    "   7. <b>PAY_0</b> : Repayment status in September, 2005 (-1=pay duly, 1=payment delay for one month, 2=payment delay for two months, ... 8=payment delay for eight months, 9=payment delay for nine months and above)\n",
    "   8. <b>PAY_2</b> : Repayment status in August, 2005 (scale same as above)\n",
    "   9. <b>PAY_3</b> : Repayment status in July, 2005 (scale same as above)\n",
    "   10. <b>PAY_4</b> : Repayment status in June, 2005 (scale same as above)\n",
    "   11. <b>PAY_5</b> : Repayment status in May, 2005 (scale same as above)\n",
    "   12. <b>PAY_6</b> : Repayment status in April, 2005 (scale same as above)\n",
    "   13. <b>BILL_AMT1</b> : Amount of bill statement in September, 2005 (NT dollar)\n",
    "   14. <b>BILL_AMT2</b> : Amount of bill statement in August, 2005 (NT dollar)\n",
    "   15. <b>BILL_AMT3</b> : Amount of bill statement in July, 2005 (NT dollar)\n",
    "   16. <b>BILL_AMT4</b> : Amount of bill statement in June, 2005 (NT dollar)\n",
    "   17. <b>BILL_AMT5</b> : Amount of bill statement in May, 2005 (NT dollar)\n",
    "   18. <b>BILL_AMT6</b> : Amount of bill statement in April, 2005 (NT dollar)\n",
    "   19. <b>PAY_AMT1</b> : Amount of previous payment in September, 2005 (NT dollar)\n",
    "   20. <b>PAY_AMT2</b> : Amount of previous payment in August, 2005 (NT dollar)\n",
    "   21. <b>PAY_AMT3</b> : Amount of previous payment in July, 2005 (NT dollar)\n",
    "   22. <b>PAY_AMT4</b> : Amount of previous payment in June, 2005 (NT dollar)\n",
    "   23. <b>PAY_AMT5</b> :  Amount of previous payment in May, 2005 (NT dollar)\n",
    "   24. <b>PAY_AMT6</b> : Amount of previous payment in April, 2005 (NT dollar)\n",
    "   25. <b>default.payment.next.month</b> : Default payment (1=yes, 0=no)"
   ]
  },
  {
   "cell_type": "markdown",
   "metadata": {},
   "source": [
    "<h3>Source of Dataset</h3>\n",
    "\n",
    "https://archive.ics.uci.edu/ml/datasets/default+of+credit+card+clients"
   ]
  },
  {
   "cell_type": "markdown",
   "metadata": {},
   "source": [
    "<h2><center>Pre-process Data</h2></center>\n",
    "\n",
    "<b>1. Import Libraries and setup</b>"
   ]
  },
  {
   "cell_type": "code",
   "execution_count": 35,
   "metadata": {},
   "outputs": [],
   "source": [
    "import numpy as np \n",
    "import pandas as pd \n",
    "\n",
    "import matplotlib.pyplot as plt\n",
    "%matplotlib inline\n",
    "\n",
    "#visualization\n",
    "import seaborn as sns\n",
    "from sklearn import model_selection\n",
    "from sklearn.preprocessing import MinMaxScaler,StandardScaler\n",
    "from sklearn.model_selection import train_test_split\n",
    "\n",
    "from sklearn.linear_model import LogisticRegression\n",
    "from sklearn.tree import DecisionTreeClassifier\n",
    "from sklearn.neighbors import KNeighborsClassifier\n",
    "from sklearn.svm import SVC\n",
    "from mlxtend.plotting import plot_decision_regions\n",
    "import matplotlib.gridspec as gridspec\n",
    "\n",
    "from sklearn.metrics import classification_report\n",
    "from sklearn.metrics import confusion_matrix\n",
    "from sklearn.metrics import accuracy_score\n",
    "from sklearn.model_selection import cross_val_score\n",
    "from sklearn.model_selection import GridSearchCV\n",
    "from sklearn.metrics import recall_score , precision_score, f1_score\n",
    "from sklearn.metrics import precision_recall_curve\n",
    "import warnings\n",
    "warnings.filterwarnings(\"ignore\")\n",
    "\n",
    "import seaborn as sns\n",
    "from sklearn.model_selection import StratifiedShuffleSplit\n",
    "from sklearn.impute import SimpleImputer # used for handling missing data\n"
   ]
  },
  {
   "cell_type": "code",
   "execution_count": 36,
   "metadata": {},
   "outputs": [],
   "source": [
    "#import sys\n",
    "#!conda install --yes --prefix {sys.prefix} pandas-profiling"
   ]
  },
  {
   "cell_type": "code",
   "execution_count": 37,
   "metadata": {},
   "outputs": [],
   "source": [
    "import pandas_profiling as pp"
   ]
  },
  {
   "cell_type": "markdown",
   "metadata": {},
   "source": [
    "<b>2. Data Extraction</b>"
   ]
  },
  {
   "cell_type": "code",
   "execution_count": 38,
   "metadata": {
    "scrolled": true
   },
   "outputs": [
    {
     "name": "stdout",
     "output_type": "stream",
     "text": [
      "Shape of the Dataset :  (30000, 25)\n"
     ]
    }
   ],
   "source": [
    "cc_df = pd.read_excel('default of credit card clients.xls',header= 1, sheet_name= 'Data') #using first row as header\n",
    "print(\"Shape of the Dataset : \",cc_df.shape)"
   ]
  },
  {
   "cell_type": "markdown",
   "metadata": {},
   "source": [
    "<b>3. Dataset Overview</b>"
   ]
  },
  {
   "cell_type": "code",
   "execution_count": 39,
   "metadata": {
    "scrolled": true
   },
   "outputs": [
    {
     "data": {
      "text/html": [
       "<div>\n",
       "<style scoped>\n",
       "    .dataframe tbody tr th:only-of-type {\n",
       "        vertical-align: middle;\n",
       "    }\n",
       "\n",
       "    .dataframe tbody tr th {\n",
       "        vertical-align: top;\n",
       "    }\n",
       "\n",
       "    .dataframe thead th {\n",
       "        text-align: right;\n",
       "    }\n",
       "</style>\n",
       "<table border=\"1\" class=\"dataframe\">\n",
       "  <thead>\n",
       "    <tr style=\"text-align: right;\">\n",
       "      <th></th>\n",
       "      <th>ID</th>\n",
       "      <th>LIMIT_BAL</th>\n",
       "      <th>SEX</th>\n",
       "      <th>EDUCATION</th>\n",
       "      <th>MARRIAGE</th>\n",
       "      <th>AGE</th>\n",
       "      <th>PAY_0</th>\n",
       "      <th>PAY_2</th>\n",
       "      <th>PAY_3</th>\n",
       "      <th>PAY_4</th>\n",
       "      <th>...</th>\n",
       "      <th>BILL_AMT4</th>\n",
       "      <th>BILL_AMT5</th>\n",
       "      <th>BILL_AMT6</th>\n",
       "      <th>PAY_AMT1</th>\n",
       "      <th>PAY_AMT2</th>\n",
       "      <th>PAY_AMT3</th>\n",
       "      <th>PAY_AMT4</th>\n",
       "      <th>PAY_AMT5</th>\n",
       "      <th>PAY_AMT6</th>\n",
       "      <th>default payment next month</th>\n",
       "    </tr>\n",
       "  </thead>\n",
       "  <tbody>\n",
       "    <tr>\n",
       "      <th>0</th>\n",
       "      <td>1</td>\n",
       "      <td>20000</td>\n",
       "      <td>2</td>\n",
       "      <td>2</td>\n",
       "      <td>1</td>\n",
       "      <td>24</td>\n",
       "      <td>2</td>\n",
       "      <td>2</td>\n",
       "      <td>-1</td>\n",
       "      <td>-1</td>\n",
       "      <td>...</td>\n",
       "      <td>0</td>\n",
       "      <td>0</td>\n",
       "      <td>0</td>\n",
       "      <td>0</td>\n",
       "      <td>689</td>\n",
       "      <td>0</td>\n",
       "      <td>0</td>\n",
       "      <td>0</td>\n",
       "      <td>0</td>\n",
       "      <td>1</td>\n",
       "    </tr>\n",
       "    <tr>\n",
       "      <th>1</th>\n",
       "      <td>2</td>\n",
       "      <td>120000</td>\n",
       "      <td>2</td>\n",
       "      <td>2</td>\n",
       "      <td>2</td>\n",
       "      <td>26</td>\n",
       "      <td>-1</td>\n",
       "      <td>2</td>\n",
       "      <td>0</td>\n",
       "      <td>0</td>\n",
       "      <td>...</td>\n",
       "      <td>3272</td>\n",
       "      <td>3455</td>\n",
       "      <td>3261</td>\n",
       "      <td>0</td>\n",
       "      <td>1000</td>\n",
       "      <td>1000</td>\n",
       "      <td>1000</td>\n",
       "      <td>0</td>\n",
       "      <td>2000</td>\n",
       "      <td>1</td>\n",
       "    </tr>\n",
       "    <tr>\n",
       "      <th>2</th>\n",
       "      <td>3</td>\n",
       "      <td>90000</td>\n",
       "      <td>2</td>\n",
       "      <td>2</td>\n",
       "      <td>2</td>\n",
       "      <td>34</td>\n",
       "      <td>0</td>\n",
       "      <td>0</td>\n",
       "      <td>0</td>\n",
       "      <td>0</td>\n",
       "      <td>...</td>\n",
       "      <td>14331</td>\n",
       "      <td>14948</td>\n",
       "      <td>15549</td>\n",
       "      <td>1518</td>\n",
       "      <td>1500</td>\n",
       "      <td>1000</td>\n",
       "      <td>1000</td>\n",
       "      <td>1000</td>\n",
       "      <td>5000</td>\n",
       "      <td>0</td>\n",
       "    </tr>\n",
       "    <tr>\n",
       "      <th>3</th>\n",
       "      <td>4</td>\n",
       "      <td>50000</td>\n",
       "      <td>2</td>\n",
       "      <td>2</td>\n",
       "      <td>1</td>\n",
       "      <td>37</td>\n",
       "      <td>0</td>\n",
       "      <td>0</td>\n",
       "      <td>0</td>\n",
       "      <td>0</td>\n",
       "      <td>...</td>\n",
       "      <td>28314</td>\n",
       "      <td>28959</td>\n",
       "      <td>29547</td>\n",
       "      <td>2000</td>\n",
       "      <td>2019</td>\n",
       "      <td>1200</td>\n",
       "      <td>1100</td>\n",
       "      <td>1069</td>\n",
       "      <td>1000</td>\n",
       "      <td>0</td>\n",
       "    </tr>\n",
       "    <tr>\n",
       "      <th>4</th>\n",
       "      <td>5</td>\n",
       "      <td>50000</td>\n",
       "      <td>1</td>\n",
       "      <td>2</td>\n",
       "      <td>1</td>\n",
       "      <td>57</td>\n",
       "      <td>-1</td>\n",
       "      <td>0</td>\n",
       "      <td>-1</td>\n",
       "      <td>0</td>\n",
       "      <td>...</td>\n",
       "      <td>20940</td>\n",
       "      <td>19146</td>\n",
       "      <td>19131</td>\n",
       "      <td>2000</td>\n",
       "      <td>36681</td>\n",
       "      <td>10000</td>\n",
       "      <td>9000</td>\n",
       "      <td>689</td>\n",
       "      <td>679</td>\n",
       "      <td>0</td>\n",
       "    </tr>\n",
       "    <tr>\n",
       "      <th>5</th>\n",
       "      <td>6</td>\n",
       "      <td>50000</td>\n",
       "      <td>1</td>\n",
       "      <td>1</td>\n",
       "      <td>2</td>\n",
       "      <td>37</td>\n",
       "      <td>0</td>\n",
       "      <td>0</td>\n",
       "      <td>0</td>\n",
       "      <td>0</td>\n",
       "      <td>...</td>\n",
       "      <td>19394</td>\n",
       "      <td>19619</td>\n",
       "      <td>20024</td>\n",
       "      <td>2500</td>\n",
       "      <td>1815</td>\n",
       "      <td>657</td>\n",
       "      <td>1000</td>\n",
       "      <td>1000</td>\n",
       "      <td>800</td>\n",
       "      <td>0</td>\n",
       "    </tr>\n",
       "    <tr>\n",
       "      <th>6</th>\n",
       "      <td>7</td>\n",
       "      <td>500000</td>\n",
       "      <td>1</td>\n",
       "      <td>1</td>\n",
       "      <td>2</td>\n",
       "      <td>29</td>\n",
       "      <td>0</td>\n",
       "      <td>0</td>\n",
       "      <td>0</td>\n",
       "      <td>0</td>\n",
       "      <td>...</td>\n",
       "      <td>542653</td>\n",
       "      <td>483003</td>\n",
       "      <td>473944</td>\n",
       "      <td>55000</td>\n",
       "      <td>40000</td>\n",
       "      <td>38000</td>\n",
       "      <td>20239</td>\n",
       "      <td>13750</td>\n",
       "      <td>13770</td>\n",
       "      <td>0</td>\n",
       "    </tr>\n",
       "    <tr>\n",
       "      <th>7</th>\n",
       "      <td>8</td>\n",
       "      <td>100000</td>\n",
       "      <td>2</td>\n",
       "      <td>2</td>\n",
       "      <td>2</td>\n",
       "      <td>23</td>\n",
       "      <td>0</td>\n",
       "      <td>-1</td>\n",
       "      <td>-1</td>\n",
       "      <td>0</td>\n",
       "      <td>...</td>\n",
       "      <td>221</td>\n",
       "      <td>-159</td>\n",
       "      <td>567</td>\n",
       "      <td>380</td>\n",
       "      <td>601</td>\n",
       "      <td>0</td>\n",
       "      <td>581</td>\n",
       "      <td>1687</td>\n",
       "      <td>1542</td>\n",
       "      <td>0</td>\n",
       "    </tr>\n",
       "    <tr>\n",
       "      <th>8</th>\n",
       "      <td>9</td>\n",
       "      <td>140000</td>\n",
       "      <td>2</td>\n",
       "      <td>3</td>\n",
       "      <td>1</td>\n",
       "      <td>28</td>\n",
       "      <td>0</td>\n",
       "      <td>0</td>\n",
       "      <td>2</td>\n",
       "      <td>0</td>\n",
       "      <td>...</td>\n",
       "      <td>12211</td>\n",
       "      <td>11793</td>\n",
       "      <td>3719</td>\n",
       "      <td>3329</td>\n",
       "      <td>0</td>\n",
       "      <td>432</td>\n",
       "      <td>1000</td>\n",
       "      <td>1000</td>\n",
       "      <td>1000</td>\n",
       "      <td>0</td>\n",
       "    </tr>\n",
       "    <tr>\n",
       "      <th>9</th>\n",
       "      <td>10</td>\n",
       "      <td>20000</td>\n",
       "      <td>1</td>\n",
       "      <td>3</td>\n",
       "      <td>2</td>\n",
       "      <td>35</td>\n",
       "      <td>-2</td>\n",
       "      <td>-2</td>\n",
       "      <td>-2</td>\n",
       "      <td>-2</td>\n",
       "      <td>...</td>\n",
       "      <td>0</td>\n",
       "      <td>13007</td>\n",
       "      <td>13912</td>\n",
       "      <td>0</td>\n",
       "      <td>0</td>\n",
       "      <td>0</td>\n",
       "      <td>13007</td>\n",
       "      <td>1122</td>\n",
       "      <td>0</td>\n",
       "      <td>0</td>\n",
       "    </tr>\n",
       "  </tbody>\n",
       "</table>\n",
       "<p>10 rows × 25 columns</p>\n",
       "</div>"
      ],
      "text/plain": [
       "   ID  LIMIT_BAL  SEX  EDUCATION  MARRIAGE  AGE  PAY_0  PAY_2  PAY_3  PAY_4  \\\n",
       "0   1      20000    2          2         1   24      2      2     -1     -1   \n",
       "1   2     120000    2          2         2   26     -1      2      0      0   \n",
       "2   3      90000    2          2         2   34      0      0      0      0   \n",
       "3   4      50000    2          2         1   37      0      0      0      0   \n",
       "4   5      50000    1          2         1   57     -1      0     -1      0   \n",
       "5   6      50000    1          1         2   37      0      0      0      0   \n",
       "6   7     500000    1          1         2   29      0      0      0      0   \n",
       "7   8     100000    2          2         2   23      0     -1     -1      0   \n",
       "8   9     140000    2          3         1   28      0      0      2      0   \n",
       "9  10      20000    1          3         2   35     -2     -2     -2     -2   \n",
       "\n",
       "   ...  BILL_AMT4  BILL_AMT5  BILL_AMT6  PAY_AMT1  PAY_AMT2  PAY_AMT3  \\\n",
       "0  ...          0          0          0         0       689         0   \n",
       "1  ...       3272       3455       3261         0      1000      1000   \n",
       "2  ...      14331      14948      15549      1518      1500      1000   \n",
       "3  ...      28314      28959      29547      2000      2019      1200   \n",
       "4  ...      20940      19146      19131      2000     36681     10000   \n",
       "5  ...      19394      19619      20024      2500      1815       657   \n",
       "6  ...     542653     483003     473944     55000     40000     38000   \n",
       "7  ...        221       -159        567       380       601         0   \n",
       "8  ...      12211      11793       3719      3329         0       432   \n",
       "9  ...          0      13007      13912         0         0         0   \n",
       "\n",
       "   PAY_AMT4  PAY_AMT5  PAY_AMT6  default payment next month  \n",
       "0         0         0         0                           1  \n",
       "1      1000         0      2000                           1  \n",
       "2      1000      1000      5000                           0  \n",
       "3      1100      1069      1000                           0  \n",
       "4      9000       689       679                           0  \n",
       "5      1000      1000       800                           0  \n",
       "6     20239     13750     13770                           0  \n",
       "7       581      1687      1542                           0  \n",
       "8      1000      1000      1000                           0  \n",
       "9     13007      1122         0                           0  \n",
       "\n",
       "[10 rows x 25 columns]"
      ]
     },
     "execution_count": 39,
     "metadata": {},
     "output_type": "execute_result"
    }
   ],
   "source": [
    "cc_df.head(10)"
   ]
  },
  {
   "cell_type": "code",
   "execution_count": 40,
   "metadata": {},
   "outputs": [
    {
     "data": {
      "text/html": [
       "<div>\n",
       "<style scoped>\n",
       "    .dataframe tbody tr th:only-of-type {\n",
       "        vertical-align: middle;\n",
       "    }\n",
       "\n",
       "    .dataframe tbody tr th {\n",
       "        vertical-align: top;\n",
       "    }\n",
       "\n",
       "    .dataframe thead th {\n",
       "        text-align: right;\n",
       "    }\n",
       "</style>\n",
       "<table border=\"1\" class=\"dataframe\">\n",
       "  <thead>\n",
       "    <tr style=\"text-align: right;\">\n",
       "      <th></th>\n",
       "      <th>count</th>\n",
       "      <th>mean</th>\n",
       "      <th>std</th>\n",
       "      <th>min</th>\n",
       "      <th>25%</th>\n",
       "      <th>50%</th>\n",
       "      <th>75%</th>\n",
       "      <th>max</th>\n",
       "    </tr>\n",
       "  </thead>\n",
       "  <tbody>\n",
       "    <tr>\n",
       "      <th>ID</th>\n",
       "      <td>30000.0</td>\n",
       "      <td>15000.500000</td>\n",
       "      <td>8660.398374</td>\n",
       "      <td>1.0</td>\n",
       "      <td>7500.75</td>\n",
       "      <td>15000.5</td>\n",
       "      <td>22500.25</td>\n",
       "      <td>30000.0</td>\n",
       "    </tr>\n",
       "    <tr>\n",
       "      <th>LIMIT_BAL</th>\n",
       "      <td>30000.0</td>\n",
       "      <td>167484.322667</td>\n",
       "      <td>129747.661567</td>\n",
       "      <td>10000.0</td>\n",
       "      <td>50000.00</td>\n",
       "      <td>140000.0</td>\n",
       "      <td>240000.00</td>\n",
       "      <td>1000000.0</td>\n",
       "    </tr>\n",
       "    <tr>\n",
       "      <th>SEX</th>\n",
       "      <td>30000.0</td>\n",
       "      <td>1.603733</td>\n",
       "      <td>0.489129</td>\n",
       "      <td>1.0</td>\n",
       "      <td>1.00</td>\n",
       "      <td>2.0</td>\n",
       "      <td>2.00</td>\n",
       "      <td>2.0</td>\n",
       "    </tr>\n",
       "    <tr>\n",
       "      <th>EDUCATION</th>\n",
       "      <td>30000.0</td>\n",
       "      <td>1.853133</td>\n",
       "      <td>0.790349</td>\n",
       "      <td>0.0</td>\n",
       "      <td>1.00</td>\n",
       "      <td>2.0</td>\n",
       "      <td>2.00</td>\n",
       "      <td>6.0</td>\n",
       "    </tr>\n",
       "    <tr>\n",
       "      <th>MARRIAGE</th>\n",
       "      <td>30000.0</td>\n",
       "      <td>1.551867</td>\n",
       "      <td>0.521970</td>\n",
       "      <td>0.0</td>\n",
       "      <td>1.00</td>\n",
       "      <td>2.0</td>\n",
       "      <td>2.00</td>\n",
       "      <td>3.0</td>\n",
       "    </tr>\n",
       "    <tr>\n",
       "      <th>AGE</th>\n",
       "      <td>30000.0</td>\n",
       "      <td>35.485500</td>\n",
       "      <td>9.217904</td>\n",
       "      <td>21.0</td>\n",
       "      <td>28.00</td>\n",
       "      <td>34.0</td>\n",
       "      <td>41.00</td>\n",
       "      <td>79.0</td>\n",
       "    </tr>\n",
       "    <tr>\n",
       "      <th>PAY_0</th>\n",
       "      <td>30000.0</td>\n",
       "      <td>-0.016700</td>\n",
       "      <td>1.123802</td>\n",
       "      <td>-2.0</td>\n",
       "      <td>-1.00</td>\n",
       "      <td>0.0</td>\n",
       "      <td>0.00</td>\n",
       "      <td>8.0</td>\n",
       "    </tr>\n",
       "    <tr>\n",
       "      <th>PAY_2</th>\n",
       "      <td>30000.0</td>\n",
       "      <td>-0.133767</td>\n",
       "      <td>1.197186</td>\n",
       "      <td>-2.0</td>\n",
       "      <td>-1.00</td>\n",
       "      <td>0.0</td>\n",
       "      <td>0.00</td>\n",
       "      <td>8.0</td>\n",
       "    </tr>\n",
       "    <tr>\n",
       "      <th>PAY_3</th>\n",
       "      <td>30000.0</td>\n",
       "      <td>-0.166200</td>\n",
       "      <td>1.196868</td>\n",
       "      <td>-2.0</td>\n",
       "      <td>-1.00</td>\n",
       "      <td>0.0</td>\n",
       "      <td>0.00</td>\n",
       "      <td>8.0</td>\n",
       "    </tr>\n",
       "    <tr>\n",
       "      <th>PAY_4</th>\n",
       "      <td>30000.0</td>\n",
       "      <td>-0.220667</td>\n",
       "      <td>1.169139</td>\n",
       "      <td>-2.0</td>\n",
       "      <td>-1.00</td>\n",
       "      <td>0.0</td>\n",
       "      <td>0.00</td>\n",
       "      <td>8.0</td>\n",
       "    </tr>\n",
       "    <tr>\n",
       "      <th>PAY_5</th>\n",
       "      <td>30000.0</td>\n",
       "      <td>-0.266200</td>\n",
       "      <td>1.133187</td>\n",
       "      <td>-2.0</td>\n",
       "      <td>-1.00</td>\n",
       "      <td>0.0</td>\n",
       "      <td>0.00</td>\n",
       "      <td>8.0</td>\n",
       "    </tr>\n",
       "    <tr>\n",
       "      <th>PAY_6</th>\n",
       "      <td>30000.0</td>\n",
       "      <td>-0.291100</td>\n",
       "      <td>1.149988</td>\n",
       "      <td>-2.0</td>\n",
       "      <td>-1.00</td>\n",
       "      <td>0.0</td>\n",
       "      <td>0.00</td>\n",
       "      <td>8.0</td>\n",
       "    </tr>\n",
       "    <tr>\n",
       "      <th>BILL_AMT1</th>\n",
       "      <td>30000.0</td>\n",
       "      <td>51223.330900</td>\n",
       "      <td>73635.860576</td>\n",
       "      <td>-165580.0</td>\n",
       "      <td>3558.75</td>\n",
       "      <td>22381.5</td>\n",
       "      <td>67091.00</td>\n",
       "      <td>964511.0</td>\n",
       "    </tr>\n",
       "    <tr>\n",
       "      <th>BILL_AMT2</th>\n",
       "      <td>30000.0</td>\n",
       "      <td>49179.075167</td>\n",
       "      <td>71173.768783</td>\n",
       "      <td>-69777.0</td>\n",
       "      <td>2984.75</td>\n",
       "      <td>21200.0</td>\n",
       "      <td>64006.25</td>\n",
       "      <td>983931.0</td>\n",
       "    </tr>\n",
       "    <tr>\n",
       "      <th>BILL_AMT3</th>\n",
       "      <td>30000.0</td>\n",
       "      <td>47013.154800</td>\n",
       "      <td>69349.387427</td>\n",
       "      <td>-157264.0</td>\n",
       "      <td>2666.25</td>\n",
       "      <td>20088.5</td>\n",
       "      <td>60164.75</td>\n",
       "      <td>1664089.0</td>\n",
       "    </tr>\n",
       "    <tr>\n",
       "      <th>BILL_AMT4</th>\n",
       "      <td>30000.0</td>\n",
       "      <td>43262.948967</td>\n",
       "      <td>64332.856134</td>\n",
       "      <td>-170000.0</td>\n",
       "      <td>2326.75</td>\n",
       "      <td>19052.0</td>\n",
       "      <td>54506.00</td>\n",
       "      <td>891586.0</td>\n",
       "    </tr>\n",
       "    <tr>\n",
       "      <th>BILL_AMT5</th>\n",
       "      <td>30000.0</td>\n",
       "      <td>40311.400967</td>\n",
       "      <td>60797.155770</td>\n",
       "      <td>-81334.0</td>\n",
       "      <td>1763.00</td>\n",
       "      <td>18104.5</td>\n",
       "      <td>50190.50</td>\n",
       "      <td>927171.0</td>\n",
       "    </tr>\n",
       "    <tr>\n",
       "      <th>BILL_AMT6</th>\n",
       "      <td>30000.0</td>\n",
       "      <td>38871.760400</td>\n",
       "      <td>59554.107537</td>\n",
       "      <td>-339603.0</td>\n",
       "      <td>1256.00</td>\n",
       "      <td>17071.0</td>\n",
       "      <td>49198.25</td>\n",
       "      <td>961664.0</td>\n",
       "    </tr>\n",
       "    <tr>\n",
       "      <th>PAY_AMT1</th>\n",
       "      <td>30000.0</td>\n",
       "      <td>5663.580500</td>\n",
       "      <td>16563.280354</td>\n",
       "      <td>0.0</td>\n",
       "      <td>1000.00</td>\n",
       "      <td>2100.0</td>\n",
       "      <td>5006.00</td>\n",
       "      <td>873552.0</td>\n",
       "    </tr>\n",
       "    <tr>\n",
       "      <th>PAY_AMT2</th>\n",
       "      <td>30000.0</td>\n",
       "      <td>5921.163500</td>\n",
       "      <td>23040.870402</td>\n",
       "      <td>0.0</td>\n",
       "      <td>833.00</td>\n",
       "      <td>2009.0</td>\n",
       "      <td>5000.00</td>\n",
       "      <td>1684259.0</td>\n",
       "    </tr>\n",
       "    <tr>\n",
       "      <th>PAY_AMT3</th>\n",
       "      <td>30000.0</td>\n",
       "      <td>5225.681500</td>\n",
       "      <td>17606.961470</td>\n",
       "      <td>0.0</td>\n",
       "      <td>390.00</td>\n",
       "      <td>1800.0</td>\n",
       "      <td>4505.00</td>\n",
       "      <td>896040.0</td>\n",
       "    </tr>\n",
       "    <tr>\n",
       "      <th>PAY_AMT4</th>\n",
       "      <td>30000.0</td>\n",
       "      <td>4826.076867</td>\n",
       "      <td>15666.159744</td>\n",
       "      <td>0.0</td>\n",
       "      <td>296.00</td>\n",
       "      <td>1500.0</td>\n",
       "      <td>4013.25</td>\n",
       "      <td>621000.0</td>\n",
       "    </tr>\n",
       "    <tr>\n",
       "      <th>PAY_AMT5</th>\n",
       "      <td>30000.0</td>\n",
       "      <td>4799.387633</td>\n",
       "      <td>15278.305679</td>\n",
       "      <td>0.0</td>\n",
       "      <td>252.50</td>\n",
       "      <td>1500.0</td>\n",
       "      <td>4031.50</td>\n",
       "      <td>426529.0</td>\n",
       "    </tr>\n",
       "    <tr>\n",
       "      <th>PAY_AMT6</th>\n",
       "      <td>30000.0</td>\n",
       "      <td>5215.502567</td>\n",
       "      <td>17777.465775</td>\n",
       "      <td>0.0</td>\n",
       "      <td>117.75</td>\n",
       "      <td>1500.0</td>\n",
       "      <td>4000.00</td>\n",
       "      <td>528666.0</td>\n",
       "    </tr>\n",
       "    <tr>\n",
       "      <th>default payment next month</th>\n",
       "      <td>30000.0</td>\n",
       "      <td>0.221200</td>\n",
       "      <td>0.415062</td>\n",
       "      <td>0.0</td>\n",
       "      <td>0.00</td>\n",
       "      <td>0.0</td>\n",
       "      <td>0.00</td>\n",
       "      <td>1.0</td>\n",
       "    </tr>\n",
       "  </tbody>\n",
       "</table>\n",
       "</div>"
      ],
      "text/plain": [
       "                              count           mean            std       min  \\\n",
       "ID                          30000.0   15000.500000    8660.398374       1.0   \n",
       "LIMIT_BAL                   30000.0  167484.322667  129747.661567   10000.0   \n",
       "SEX                         30000.0       1.603733       0.489129       1.0   \n",
       "EDUCATION                   30000.0       1.853133       0.790349       0.0   \n",
       "MARRIAGE                    30000.0       1.551867       0.521970       0.0   \n",
       "AGE                         30000.0      35.485500       9.217904      21.0   \n",
       "PAY_0                       30000.0      -0.016700       1.123802      -2.0   \n",
       "PAY_2                       30000.0      -0.133767       1.197186      -2.0   \n",
       "PAY_3                       30000.0      -0.166200       1.196868      -2.0   \n",
       "PAY_4                       30000.0      -0.220667       1.169139      -2.0   \n",
       "PAY_5                       30000.0      -0.266200       1.133187      -2.0   \n",
       "PAY_6                       30000.0      -0.291100       1.149988      -2.0   \n",
       "BILL_AMT1                   30000.0   51223.330900   73635.860576 -165580.0   \n",
       "BILL_AMT2                   30000.0   49179.075167   71173.768783  -69777.0   \n",
       "BILL_AMT3                   30000.0   47013.154800   69349.387427 -157264.0   \n",
       "BILL_AMT4                   30000.0   43262.948967   64332.856134 -170000.0   \n",
       "BILL_AMT5                   30000.0   40311.400967   60797.155770  -81334.0   \n",
       "BILL_AMT6                   30000.0   38871.760400   59554.107537 -339603.0   \n",
       "PAY_AMT1                    30000.0    5663.580500   16563.280354       0.0   \n",
       "PAY_AMT2                    30000.0    5921.163500   23040.870402       0.0   \n",
       "PAY_AMT3                    30000.0    5225.681500   17606.961470       0.0   \n",
       "PAY_AMT4                    30000.0    4826.076867   15666.159744       0.0   \n",
       "PAY_AMT5                    30000.0    4799.387633   15278.305679       0.0   \n",
       "PAY_AMT6                    30000.0    5215.502567   17777.465775       0.0   \n",
       "default payment next month  30000.0       0.221200       0.415062       0.0   \n",
       "\n",
       "                                 25%       50%        75%        max  \n",
       "ID                           7500.75   15000.5   22500.25    30000.0  \n",
       "LIMIT_BAL                   50000.00  140000.0  240000.00  1000000.0  \n",
       "SEX                             1.00       2.0       2.00        2.0  \n",
       "EDUCATION                       1.00       2.0       2.00        6.0  \n",
       "MARRIAGE                        1.00       2.0       2.00        3.0  \n",
       "AGE                            28.00      34.0      41.00       79.0  \n",
       "PAY_0                          -1.00       0.0       0.00        8.0  \n",
       "PAY_2                          -1.00       0.0       0.00        8.0  \n",
       "PAY_3                          -1.00       0.0       0.00        8.0  \n",
       "PAY_4                          -1.00       0.0       0.00        8.0  \n",
       "PAY_5                          -1.00       0.0       0.00        8.0  \n",
       "PAY_6                          -1.00       0.0       0.00        8.0  \n",
       "BILL_AMT1                    3558.75   22381.5   67091.00   964511.0  \n",
       "BILL_AMT2                    2984.75   21200.0   64006.25   983931.0  \n",
       "BILL_AMT3                    2666.25   20088.5   60164.75  1664089.0  \n",
       "BILL_AMT4                    2326.75   19052.0   54506.00   891586.0  \n",
       "BILL_AMT5                    1763.00   18104.5   50190.50   927171.0  \n",
       "BILL_AMT6                    1256.00   17071.0   49198.25   961664.0  \n",
       "PAY_AMT1                     1000.00    2100.0    5006.00   873552.0  \n",
       "PAY_AMT2                      833.00    2009.0    5000.00  1684259.0  \n",
       "PAY_AMT3                      390.00    1800.0    4505.00   896040.0  \n",
       "PAY_AMT4                      296.00    1500.0    4013.25   621000.0  \n",
       "PAY_AMT5                      252.50    1500.0    4031.50   426529.0  \n",
       "PAY_AMT6                      117.75    1500.0    4000.00   528666.0  \n",
       "default payment next month      0.00       0.0       0.00        1.0  "
      ]
     },
     "execution_count": 40,
     "metadata": {},
     "output_type": "execute_result"
    }
   ],
   "source": [
    "cc_df.describe().transpose()"
   ]
  },
  {
   "cell_type": "code",
   "execution_count": 41,
   "metadata": {},
   "outputs": [],
   "source": [
    "#pp.ProfileReport(cc_df)     # Report before data manipulation"
   ]
  },
  {
   "cell_type": "code",
   "execution_count": 42,
   "metadata": {},
   "outputs": [
    {
     "name": "stdout",
     "output_type": "stream",
     "text": [
      "<class 'pandas.core.frame.DataFrame'>\n",
      "RangeIndex: 30000 entries, 0 to 29999\n",
      "Data columns (total 25 columns):\n",
      " #   Column                      Non-Null Count  Dtype\n",
      "---  ------                      --------------  -----\n",
      " 0   ID                          30000 non-null  int64\n",
      " 1   LIMIT_BAL                   30000 non-null  int64\n",
      " 2   SEX                         30000 non-null  int64\n",
      " 3   EDUCATION                   30000 non-null  int64\n",
      " 4   MARRIAGE                    30000 non-null  int64\n",
      " 5   AGE                         30000 non-null  int64\n",
      " 6   PAY_0                       30000 non-null  int64\n",
      " 7   PAY_2                       30000 non-null  int64\n",
      " 8   PAY_3                       30000 non-null  int64\n",
      " 9   PAY_4                       30000 non-null  int64\n",
      " 10  PAY_5                       30000 non-null  int64\n",
      " 11  PAY_6                       30000 non-null  int64\n",
      " 12  BILL_AMT1                   30000 non-null  int64\n",
      " 13  BILL_AMT2                   30000 non-null  int64\n",
      " 14  BILL_AMT3                   30000 non-null  int64\n",
      " 15  BILL_AMT4                   30000 non-null  int64\n",
      " 16  BILL_AMT5                   30000 non-null  int64\n",
      " 17  BILL_AMT6                   30000 non-null  int64\n",
      " 18  PAY_AMT1                    30000 non-null  int64\n",
      " 19  PAY_AMT2                    30000 non-null  int64\n",
      " 20  PAY_AMT3                    30000 non-null  int64\n",
      " 21  PAY_AMT4                    30000 non-null  int64\n",
      " 22  PAY_AMT5                    30000 non-null  int64\n",
      " 23  PAY_AMT6                    30000 non-null  int64\n",
      " 24  default payment next month  30000 non-null  int64\n",
      "dtypes: int64(25)\n",
      "memory usage: 5.7 MB\n"
     ]
    }
   ],
   "source": [
    "cc_df.info()"
   ]
  },
  {
   "cell_type": "markdown",
   "metadata": {},
   "source": [
    "From above output,we dont have any null value in the data. In following section we will drop random cells and generate null values."
   ]
  },
  {
   "cell_type": "markdown",
   "metadata": {},
   "source": [
    "<b>4. Data Transformation</b>"
   ]
  },
  {
   "cell_type": "code",
   "execution_count": 43,
   "metadata": {},
   "outputs": [
    {
     "data": {
      "text/plain": [
       "Index(['ID', 'LIMIT_BAL', 'SEX', 'EDUCATION', 'MARRIAGE', 'AGE', 'PAY_0',\n",
       "       'PAY_2', 'PAY_3', 'PAY_4', 'PAY_5', 'PAY_6', 'BILL_AMT1', 'BILL_AMT2',\n",
       "       'BILL_AMT3', 'BILL_AMT4', 'BILL_AMT5', 'BILL_AMT6', 'PAY_AMT1',\n",
       "       'PAY_AMT2', 'PAY_AMT3', 'PAY_AMT4', 'PAY_AMT5', 'PAY_AMT6',\n",
       "       'default payment next month'],\n",
       "      dtype='object')"
      ]
     },
     "execution_count": 43,
     "metadata": {},
     "output_type": "execute_result"
    }
   ],
   "source": [
    "cc_df.columns"
   ]
  },
  {
   "cell_type": "code",
   "execution_count": 44,
   "metadata": {},
   "outputs": [],
   "source": [
    "# Column name PAY_1 is not present in data. PAY_O can be renamed as PAY_1 for consistency\n",
    "# column name \"default payment next month\" will be converted to Default\n",
    "\n",
    "\n",
    "cc_df.rename(columns={\"default payment next month\":\"Default\", 'PAY_0': 'PAY_1'},inplace=True)"
   ]
  },
  {
   "cell_type": "code",
   "execution_count": 45,
   "metadata": {},
   "outputs": [],
   "source": [
    "#Code chunk to delete random cells in data\n",
    "\n",
    "#Categorical variable and age are lft alone\n",
    "df_left = cc_df.iloc[:,:6]\n",
    "\n",
    "#Cells will be dropped from below columns\n",
    "\n",
    "np.random.seed(seed=0)\n",
    "df_right = cc_df.iloc[:, 6:].mask(np.random.random(cc_df.iloc[:, 6:].shape)<.05)\n",
    "\n",
    "#Joining splits together\n",
    "\n",
    "cc_df = df_left.join(df_right)"
   ]
  },
  {
   "cell_type": "code",
   "execution_count": 46,
   "metadata": {
    "scrolled": true
   },
   "outputs": [
    {
     "data": {
      "text/html": [
       "<div>\n",
       "<style scoped>\n",
       "    .dataframe tbody tr th:only-of-type {\n",
       "        vertical-align: middle;\n",
       "    }\n",
       "\n",
       "    .dataframe tbody tr th {\n",
       "        vertical-align: top;\n",
       "    }\n",
       "\n",
       "    .dataframe thead th {\n",
       "        text-align: right;\n",
       "    }\n",
       "</style>\n",
       "<table border=\"1\" class=\"dataframe\">\n",
       "  <thead>\n",
       "    <tr style=\"text-align: right;\">\n",
       "      <th></th>\n",
       "      <th>0</th>\n",
       "      <th>1</th>\n",
       "      <th>2</th>\n",
       "      <th>3</th>\n",
       "      <th>4</th>\n",
       "      <th>5</th>\n",
       "      <th>6</th>\n",
       "      <th>7</th>\n",
       "      <th>8</th>\n",
       "      <th>9</th>\n",
       "    </tr>\n",
       "  </thead>\n",
       "  <tbody>\n",
       "    <tr>\n",
       "      <th>ID</th>\n",
       "      <td>1.0</td>\n",
       "      <td>2.0</td>\n",
       "      <td>3.0</td>\n",
       "      <td>4.0</td>\n",
       "      <td>5.0</td>\n",
       "      <td>6.0</td>\n",
       "      <td>7.0</td>\n",
       "      <td>8.0</td>\n",
       "      <td>9.0</td>\n",
       "      <td>10.0</td>\n",
       "    </tr>\n",
       "    <tr>\n",
       "      <th>LIMIT_BAL</th>\n",
       "      <td>20000.0</td>\n",
       "      <td>120000.0</td>\n",
       "      <td>90000.0</td>\n",
       "      <td>50000.0</td>\n",
       "      <td>50000.0</td>\n",
       "      <td>50000.0</td>\n",
       "      <td>500000.0</td>\n",
       "      <td>100000.0</td>\n",
       "      <td>140000.0</td>\n",
       "      <td>20000.0</td>\n",
       "    </tr>\n",
       "    <tr>\n",
       "      <th>SEX</th>\n",
       "      <td>2.0</td>\n",
       "      <td>2.0</td>\n",
       "      <td>2.0</td>\n",
       "      <td>2.0</td>\n",
       "      <td>1.0</td>\n",
       "      <td>1.0</td>\n",
       "      <td>1.0</td>\n",
       "      <td>2.0</td>\n",
       "      <td>2.0</td>\n",
       "      <td>1.0</td>\n",
       "    </tr>\n",
       "    <tr>\n",
       "      <th>EDUCATION</th>\n",
       "      <td>2.0</td>\n",
       "      <td>2.0</td>\n",
       "      <td>2.0</td>\n",
       "      <td>2.0</td>\n",
       "      <td>2.0</td>\n",
       "      <td>1.0</td>\n",
       "      <td>1.0</td>\n",
       "      <td>2.0</td>\n",
       "      <td>3.0</td>\n",
       "      <td>3.0</td>\n",
       "    </tr>\n",
       "    <tr>\n",
       "      <th>MARRIAGE</th>\n",
       "      <td>1.0</td>\n",
       "      <td>2.0</td>\n",
       "      <td>2.0</td>\n",
       "      <td>1.0</td>\n",
       "      <td>1.0</td>\n",
       "      <td>2.0</td>\n",
       "      <td>2.0</td>\n",
       "      <td>2.0</td>\n",
       "      <td>1.0</td>\n",
       "      <td>2.0</td>\n",
       "    </tr>\n",
       "    <tr>\n",
       "      <th>AGE</th>\n",
       "      <td>24.0</td>\n",
       "      <td>26.0</td>\n",
       "      <td>34.0</td>\n",
       "      <td>37.0</td>\n",
       "      <td>57.0</td>\n",
       "      <td>37.0</td>\n",
       "      <td>29.0</td>\n",
       "      <td>23.0</td>\n",
       "      <td>28.0</td>\n",
       "      <td>35.0</td>\n",
       "    </tr>\n",
       "    <tr>\n",
       "      <th>PAY_1</th>\n",
       "      <td>2.0</td>\n",
       "      <td>-1.0</td>\n",
       "      <td>0.0</td>\n",
       "      <td>0.0</td>\n",
       "      <td>-1.0</td>\n",
       "      <td>0.0</td>\n",
       "      <td>0.0</td>\n",
       "      <td>0.0</td>\n",
       "      <td>0.0</td>\n",
       "      <td>-2.0</td>\n",
       "    </tr>\n",
       "    <tr>\n",
       "      <th>PAY_2</th>\n",
       "      <td>2.0</td>\n",
       "      <td>2.0</td>\n",
       "      <td>0.0</td>\n",
       "      <td>0.0</td>\n",
       "      <td>0.0</td>\n",
       "      <td>0.0</td>\n",
       "      <td>0.0</td>\n",
       "      <td>-1.0</td>\n",
       "      <td>0.0</td>\n",
       "      <td>-2.0</td>\n",
       "    </tr>\n",
       "    <tr>\n",
       "      <th>PAY_3</th>\n",
       "      <td>-1.0</td>\n",
       "      <td>0.0</td>\n",
       "      <td>0.0</td>\n",
       "      <td>0.0</td>\n",
       "      <td>-1.0</td>\n",
       "      <td>NaN</td>\n",
       "      <td>0.0</td>\n",
       "      <td>-1.0</td>\n",
       "      <td>2.0</td>\n",
       "      <td>NaN</td>\n",
       "    </tr>\n",
       "    <tr>\n",
       "      <th>PAY_4</th>\n",
       "      <td>-1.0</td>\n",
       "      <td>0.0</td>\n",
       "      <td>0.0</td>\n",
       "      <td>0.0</td>\n",
       "      <td>0.0</td>\n",
       "      <td>0.0</td>\n",
       "      <td>0.0</td>\n",
       "      <td>0.0</td>\n",
       "      <td>0.0</td>\n",
       "      <td>-2.0</td>\n",
       "    </tr>\n",
       "    <tr>\n",
       "      <th>PAY_5</th>\n",
       "      <td>-2.0</td>\n",
       "      <td>0.0</td>\n",
       "      <td>0.0</td>\n",
       "      <td>0.0</td>\n",
       "      <td>0.0</td>\n",
       "      <td>NaN</td>\n",
       "      <td>0.0</td>\n",
       "      <td>0.0</td>\n",
       "      <td>0.0</td>\n",
       "      <td>-1.0</td>\n",
       "    </tr>\n",
       "    <tr>\n",
       "      <th>PAY_6</th>\n",
       "      <td>-2.0</td>\n",
       "      <td>2.0</td>\n",
       "      <td>0.0</td>\n",
       "      <td>0.0</td>\n",
       "      <td>0.0</td>\n",
       "      <td>0.0</td>\n",
       "      <td>0.0</td>\n",
       "      <td>-1.0</td>\n",
       "      <td>0.0</td>\n",
       "      <td>-1.0</td>\n",
       "    </tr>\n",
       "    <tr>\n",
       "      <th>BILL_AMT1</th>\n",
       "      <td>3913.0</td>\n",
       "      <td>2682.0</td>\n",
       "      <td>29239.0</td>\n",
       "      <td>46990.0</td>\n",
       "      <td>8617.0</td>\n",
       "      <td>64400.0</td>\n",
       "      <td>367965.0</td>\n",
       "      <td>11876.0</td>\n",
       "      <td>11285.0</td>\n",
       "      <td>0.0</td>\n",
       "    </tr>\n",
       "    <tr>\n",
       "      <th>BILL_AMT2</th>\n",
       "      <td>3102.0</td>\n",
       "      <td>1725.0</td>\n",
       "      <td>14027.0</td>\n",
       "      <td>48233.0</td>\n",
       "      <td>5670.0</td>\n",
       "      <td>57069.0</td>\n",
       "      <td>412023.0</td>\n",
       "      <td>380.0</td>\n",
       "      <td>14096.0</td>\n",
       "      <td>0.0</td>\n",
       "    </tr>\n",
       "    <tr>\n",
       "      <th>BILL_AMT3</th>\n",
       "      <td>689.0</td>\n",
       "      <td>2682.0</td>\n",
       "      <td>13559.0</td>\n",
       "      <td>49291.0</td>\n",
       "      <td>35835.0</td>\n",
       "      <td>57608.0</td>\n",
       "      <td>445007.0</td>\n",
       "      <td>601.0</td>\n",
       "      <td>12108.0</td>\n",
       "      <td>NaN</td>\n",
       "    </tr>\n",
       "    <tr>\n",
       "      <th>BILL_AMT4</th>\n",
       "      <td>0.0</td>\n",
       "      <td>3272.0</td>\n",
       "      <td>14331.0</td>\n",
       "      <td>28314.0</td>\n",
       "      <td>20940.0</td>\n",
       "      <td>19394.0</td>\n",
       "      <td>542653.0</td>\n",
       "      <td>221.0</td>\n",
       "      <td>12211.0</td>\n",
       "      <td>0.0</td>\n",
       "    </tr>\n",
       "    <tr>\n",
       "      <th>BILL_AMT5</th>\n",
       "      <td>0.0</td>\n",
       "      <td>3455.0</td>\n",
       "      <td>14948.0</td>\n",
       "      <td>28959.0</td>\n",
       "      <td>19146.0</td>\n",
       "      <td>19619.0</td>\n",
       "      <td>483003.0</td>\n",
       "      <td>-159.0</td>\n",
       "      <td>11793.0</td>\n",
       "      <td>13007.0</td>\n",
       "    </tr>\n",
       "    <tr>\n",
       "      <th>BILL_AMT6</th>\n",
       "      <td>0.0</td>\n",
       "      <td>3261.0</td>\n",
       "      <td>15549.0</td>\n",
       "      <td>29547.0</td>\n",
       "      <td>19131.0</td>\n",
       "      <td>20024.0</td>\n",
       "      <td>473944.0</td>\n",
       "      <td>567.0</td>\n",
       "      <td>3719.0</td>\n",
       "      <td>13912.0</td>\n",
       "    </tr>\n",
       "    <tr>\n",
       "      <th>PAY_AMT1</th>\n",
       "      <td>0.0</td>\n",
       "      <td>0.0</td>\n",
       "      <td>1518.0</td>\n",
       "      <td>2000.0</td>\n",
       "      <td>2000.0</td>\n",
       "      <td>2500.0</td>\n",
       "      <td>NaN</td>\n",
       "      <td>380.0</td>\n",
       "      <td>3329.0</td>\n",
       "      <td>0.0</td>\n",
       "    </tr>\n",
       "    <tr>\n",
       "      <th>PAY_AMT2</th>\n",
       "      <td>689.0</td>\n",
       "      <td>1000.0</td>\n",
       "      <td>1500.0</td>\n",
       "      <td>2019.0</td>\n",
       "      <td>36681.0</td>\n",
       "      <td>1815.0</td>\n",
       "      <td>40000.0</td>\n",
       "      <td>601.0</td>\n",
       "      <td>0.0</td>\n",
       "      <td>0.0</td>\n",
       "    </tr>\n",
       "    <tr>\n",
       "      <th>PAY_AMT3</th>\n",
       "      <td>0.0</td>\n",
       "      <td>1000.0</td>\n",
       "      <td>1000.0</td>\n",
       "      <td>1200.0</td>\n",
       "      <td>10000.0</td>\n",
       "      <td>657.0</td>\n",
       "      <td>38000.0</td>\n",
       "      <td>0.0</td>\n",
       "      <td>NaN</td>\n",
       "      <td>0.0</td>\n",
       "    </tr>\n",
       "    <tr>\n",
       "      <th>PAY_AMT4</th>\n",
       "      <td>0.0</td>\n",
       "      <td>NaN</td>\n",
       "      <td>1000.0</td>\n",
       "      <td>1100.0</td>\n",
       "      <td>9000.0</td>\n",
       "      <td>1000.0</td>\n",
       "      <td>20239.0</td>\n",
       "      <td>581.0</td>\n",
       "      <td>1000.0</td>\n",
       "      <td>13007.0</td>\n",
       "    </tr>\n",
       "    <tr>\n",
       "      <th>PAY_AMT5</th>\n",
       "      <td>NaN</td>\n",
       "      <td>0.0</td>\n",
       "      <td>1000.0</td>\n",
       "      <td>1069.0</td>\n",
       "      <td>689.0</td>\n",
       "      <td>1000.0</td>\n",
       "      <td>13750.0</td>\n",
       "      <td>1687.0</td>\n",
       "      <td>1000.0</td>\n",
       "      <td>1122.0</td>\n",
       "    </tr>\n",
       "    <tr>\n",
       "      <th>PAY_AMT6</th>\n",
       "      <td>0.0</td>\n",
       "      <td>2000.0</td>\n",
       "      <td>5000.0</td>\n",
       "      <td>1000.0</td>\n",
       "      <td>679.0</td>\n",
       "      <td>800.0</td>\n",
       "      <td>13770.0</td>\n",
       "      <td>1542.0</td>\n",
       "      <td>1000.0</td>\n",
       "      <td>0.0</td>\n",
       "    </tr>\n",
       "    <tr>\n",
       "      <th>Default</th>\n",
       "      <td>1.0</td>\n",
       "      <td>1.0</td>\n",
       "      <td>0.0</td>\n",
       "      <td>NaN</td>\n",
       "      <td>0.0</td>\n",
       "      <td>0.0</td>\n",
       "      <td>0.0</td>\n",
       "      <td>0.0</td>\n",
       "      <td>0.0</td>\n",
       "      <td>0.0</td>\n",
       "    </tr>\n",
       "  </tbody>\n",
       "</table>\n",
       "</div>"
      ],
      "text/plain": [
       "                 0         1        2        3        4        5         6  \\\n",
       "ID             1.0       2.0      3.0      4.0      5.0      6.0       7.0   \n",
       "LIMIT_BAL  20000.0  120000.0  90000.0  50000.0  50000.0  50000.0  500000.0   \n",
       "SEX            2.0       2.0      2.0      2.0      1.0      1.0       1.0   \n",
       "EDUCATION      2.0       2.0      2.0      2.0      2.0      1.0       1.0   \n",
       "MARRIAGE       1.0       2.0      2.0      1.0      1.0      2.0       2.0   \n",
       "AGE           24.0      26.0     34.0     37.0     57.0     37.0      29.0   \n",
       "PAY_1          2.0      -1.0      0.0      0.0     -1.0      0.0       0.0   \n",
       "PAY_2          2.0       2.0      0.0      0.0      0.0      0.0       0.0   \n",
       "PAY_3         -1.0       0.0      0.0      0.0     -1.0      NaN       0.0   \n",
       "PAY_4         -1.0       0.0      0.0      0.0      0.0      0.0       0.0   \n",
       "PAY_5         -2.0       0.0      0.0      0.0      0.0      NaN       0.0   \n",
       "PAY_6         -2.0       2.0      0.0      0.0      0.0      0.0       0.0   \n",
       "BILL_AMT1   3913.0    2682.0  29239.0  46990.0   8617.0  64400.0  367965.0   \n",
       "BILL_AMT2   3102.0    1725.0  14027.0  48233.0   5670.0  57069.0  412023.0   \n",
       "BILL_AMT3    689.0    2682.0  13559.0  49291.0  35835.0  57608.0  445007.0   \n",
       "BILL_AMT4      0.0    3272.0  14331.0  28314.0  20940.0  19394.0  542653.0   \n",
       "BILL_AMT5      0.0    3455.0  14948.0  28959.0  19146.0  19619.0  483003.0   \n",
       "BILL_AMT6      0.0    3261.0  15549.0  29547.0  19131.0  20024.0  473944.0   \n",
       "PAY_AMT1       0.0       0.0   1518.0   2000.0   2000.0   2500.0       NaN   \n",
       "PAY_AMT2     689.0    1000.0   1500.0   2019.0  36681.0   1815.0   40000.0   \n",
       "PAY_AMT3       0.0    1000.0   1000.0   1200.0  10000.0    657.0   38000.0   \n",
       "PAY_AMT4       0.0       NaN   1000.0   1100.0   9000.0   1000.0   20239.0   \n",
       "PAY_AMT5       NaN       0.0   1000.0   1069.0    689.0   1000.0   13750.0   \n",
       "PAY_AMT6       0.0    2000.0   5000.0   1000.0    679.0    800.0   13770.0   \n",
       "Default        1.0       1.0      0.0      NaN      0.0      0.0       0.0   \n",
       "\n",
       "                  7         8        9  \n",
       "ID              8.0       9.0     10.0  \n",
       "LIMIT_BAL  100000.0  140000.0  20000.0  \n",
       "SEX             2.0       2.0      1.0  \n",
       "EDUCATION       2.0       3.0      3.0  \n",
       "MARRIAGE        2.0       1.0      2.0  \n",
       "AGE            23.0      28.0     35.0  \n",
       "PAY_1           0.0       0.0     -2.0  \n",
       "PAY_2          -1.0       0.0     -2.0  \n",
       "PAY_3          -1.0       2.0      NaN  \n",
       "PAY_4           0.0       0.0     -2.0  \n",
       "PAY_5           0.0       0.0     -1.0  \n",
       "PAY_6          -1.0       0.0     -1.0  \n",
       "BILL_AMT1   11876.0   11285.0      0.0  \n",
       "BILL_AMT2     380.0   14096.0      0.0  \n",
       "BILL_AMT3     601.0   12108.0      NaN  \n",
       "BILL_AMT4     221.0   12211.0      0.0  \n",
       "BILL_AMT5    -159.0   11793.0  13007.0  \n",
       "BILL_AMT6     567.0    3719.0  13912.0  \n",
       "PAY_AMT1      380.0    3329.0      0.0  \n",
       "PAY_AMT2      601.0       0.0      0.0  \n",
       "PAY_AMT3        0.0       NaN      0.0  \n",
       "PAY_AMT4      581.0    1000.0  13007.0  \n",
       "PAY_AMT5     1687.0    1000.0   1122.0  \n",
       "PAY_AMT6     1542.0    1000.0      0.0  \n",
       "Default         0.0       0.0      0.0  "
      ]
     },
     "execution_count": 46,
     "metadata": {},
     "output_type": "execute_result"
    }
   ],
   "source": [
    "cc_df.head(10).transpose()"
   ]
  },
  {
   "cell_type": "markdown",
   "metadata": {},
   "source": [
    "<b>Checking for null values and their percentage</b>"
   ]
  },
  {
   "cell_type": "code",
   "execution_count": 47,
   "metadata": {},
   "outputs": [
    {
     "data": {
      "text/plain": [
       "ID              0\n",
       "LIMIT_BAL       0\n",
       "SEX             0\n",
       "EDUCATION       0\n",
       "MARRIAGE        0\n",
       "AGE             0\n",
       "PAY_1        1498\n",
       "PAY_2        1482\n",
       "PAY_3        1510\n",
       "PAY_4        1516\n",
       "PAY_5        1505\n",
       "PAY_6        1462\n",
       "BILL_AMT1    1522\n",
       "BILL_AMT2    1517\n",
       "BILL_AMT3    1471\n",
       "BILL_AMT4    1487\n",
       "BILL_AMT5    1516\n",
       "BILL_AMT6    1471\n",
       "PAY_AMT1     1410\n",
       "PAY_AMT2     1564\n",
       "PAY_AMT3     1521\n",
       "PAY_AMT4     1480\n",
       "PAY_AMT5     1554\n",
       "PAY_AMT6     1507\n",
       "Default      1513\n",
       "dtype: int64"
      ]
     },
     "execution_count": 47,
     "metadata": {},
     "output_type": "execute_result"
    }
   ],
   "source": [
    "cc_df.isnull().sum()"
   ]
  },
  {
   "cell_type": "code",
   "execution_count": 48,
   "metadata": {},
   "outputs": [],
   "source": [
    "# Define a function to determine missing values & its percentage\n",
    "\n",
    "def missing_values (df):\n",
    "        sum_missing = df.isnull().sum()\n",
    "        percent_missing = 100 * df.isnull().sum() / len(df)\n",
    "        \n",
    "        # Result table\n",
    "        table_missing = pd.concat([sum_missing, percent_missing], axis=1)\n",
    "        \n",
    "        # Rename the columns\n",
    "        rename_table_missing = table_missing.rename(\n",
    "        columns = {0 : 'Missing Values', 1 : '% of Total Values'})\n",
    "        \n",
    "        \n",
    "        rename_table_missing = rename_table_missing[\n",
    "            rename_table_missing.iloc[:,1] != 0].round(1)\n",
    "        \n",
    "        # Print some summary information\n",
    "        \n",
    "        print (\"Dataset has \" + str(df.shape[1]) + \" columns.\\n\"      \n",
    "            \"There are \" + str(rename_table_missing.shape[0]) +\n",
    "              \" columns that have missing values.\")\n",
    "        \n",
    "        # Return the dataframe with missing information\n",
    "        return rename_table_missing"
   ]
  },
  {
   "cell_type": "code",
   "execution_count": 49,
   "metadata": {
    "scrolled": false
   },
   "outputs": [
    {
     "name": "stdout",
     "output_type": "stream",
     "text": [
      "Dataset has 25 columns.\n",
      "There are 19 columns that have missing values.\n"
     ]
    },
    {
     "data": {
      "text/html": [
       "<div>\n",
       "<style scoped>\n",
       "    .dataframe tbody tr th:only-of-type {\n",
       "        vertical-align: middle;\n",
       "    }\n",
       "\n",
       "    .dataframe tbody tr th {\n",
       "        vertical-align: top;\n",
       "    }\n",
       "\n",
       "    .dataframe thead th {\n",
       "        text-align: right;\n",
       "    }\n",
       "</style>\n",
       "<table border=\"1\" class=\"dataframe\">\n",
       "  <thead>\n",
       "    <tr style=\"text-align: right;\">\n",
       "      <th></th>\n",
       "      <th>Missing Values</th>\n",
       "      <th>% of Total Values</th>\n",
       "    </tr>\n",
       "  </thead>\n",
       "  <tbody>\n",
       "    <tr>\n",
       "      <th>PAY_1</th>\n",
       "      <td>1498</td>\n",
       "      <td>5.0</td>\n",
       "    </tr>\n",
       "    <tr>\n",
       "      <th>PAY_2</th>\n",
       "      <td>1482</td>\n",
       "      <td>4.9</td>\n",
       "    </tr>\n",
       "    <tr>\n",
       "      <th>PAY_3</th>\n",
       "      <td>1510</td>\n",
       "      <td>5.0</td>\n",
       "    </tr>\n",
       "    <tr>\n",
       "      <th>PAY_4</th>\n",
       "      <td>1516</td>\n",
       "      <td>5.1</td>\n",
       "    </tr>\n",
       "    <tr>\n",
       "      <th>PAY_5</th>\n",
       "      <td>1505</td>\n",
       "      <td>5.0</td>\n",
       "    </tr>\n",
       "    <tr>\n",
       "      <th>PAY_6</th>\n",
       "      <td>1462</td>\n",
       "      <td>4.9</td>\n",
       "    </tr>\n",
       "    <tr>\n",
       "      <th>BILL_AMT1</th>\n",
       "      <td>1522</td>\n",
       "      <td>5.1</td>\n",
       "    </tr>\n",
       "    <tr>\n",
       "      <th>BILL_AMT2</th>\n",
       "      <td>1517</td>\n",
       "      <td>5.1</td>\n",
       "    </tr>\n",
       "    <tr>\n",
       "      <th>BILL_AMT3</th>\n",
       "      <td>1471</td>\n",
       "      <td>4.9</td>\n",
       "    </tr>\n",
       "    <tr>\n",
       "      <th>BILL_AMT4</th>\n",
       "      <td>1487</td>\n",
       "      <td>5.0</td>\n",
       "    </tr>\n",
       "    <tr>\n",
       "      <th>BILL_AMT5</th>\n",
       "      <td>1516</td>\n",
       "      <td>5.1</td>\n",
       "    </tr>\n",
       "    <tr>\n",
       "      <th>BILL_AMT6</th>\n",
       "      <td>1471</td>\n",
       "      <td>4.9</td>\n",
       "    </tr>\n",
       "    <tr>\n",
       "      <th>PAY_AMT1</th>\n",
       "      <td>1410</td>\n",
       "      <td>4.7</td>\n",
       "    </tr>\n",
       "    <tr>\n",
       "      <th>PAY_AMT2</th>\n",
       "      <td>1564</td>\n",
       "      <td>5.2</td>\n",
       "    </tr>\n",
       "    <tr>\n",
       "      <th>PAY_AMT3</th>\n",
       "      <td>1521</td>\n",
       "      <td>5.1</td>\n",
       "    </tr>\n",
       "    <tr>\n",
       "      <th>PAY_AMT4</th>\n",
       "      <td>1480</td>\n",
       "      <td>4.9</td>\n",
       "    </tr>\n",
       "    <tr>\n",
       "      <th>PAY_AMT5</th>\n",
       "      <td>1554</td>\n",
       "      <td>5.2</td>\n",
       "    </tr>\n",
       "    <tr>\n",
       "      <th>PAY_AMT6</th>\n",
       "      <td>1507</td>\n",
       "      <td>5.0</td>\n",
       "    </tr>\n",
       "    <tr>\n",
       "      <th>Default</th>\n",
       "      <td>1513</td>\n",
       "      <td>5.0</td>\n",
       "    </tr>\n",
       "  </tbody>\n",
       "</table>\n",
       "</div>"
      ],
      "text/plain": [
       "           Missing Values  % of Total Values\n",
       "PAY_1                1498                5.0\n",
       "PAY_2                1482                4.9\n",
       "PAY_3                1510                5.0\n",
       "PAY_4                1516                5.1\n",
       "PAY_5                1505                5.0\n",
       "PAY_6                1462                4.9\n",
       "BILL_AMT1            1522                5.1\n",
       "BILL_AMT2            1517                5.1\n",
       "BILL_AMT3            1471                4.9\n",
       "BILL_AMT4            1487                5.0\n",
       "BILL_AMT5            1516                5.1\n",
       "BILL_AMT6            1471                4.9\n",
       "PAY_AMT1             1410                4.7\n",
       "PAY_AMT2             1564                5.2\n",
       "PAY_AMT3             1521                5.1\n",
       "PAY_AMT4             1480                4.9\n",
       "PAY_AMT5             1554                5.2\n",
       "PAY_AMT6             1507                5.0\n",
       "Default              1513                5.0"
      ]
     },
     "execution_count": 49,
     "metadata": {},
     "output_type": "execute_result"
    }
   ],
   "source": [
    "missing_values(cc_df)"
   ]
  },
  {
   "cell_type": "code",
   "execution_count": 50,
   "metadata": {},
   "outputs": [],
   "source": [
    "cc_df.drop(['ID'], inplace=True, axis =1)   # Dropping ID column, as it will be of no use"
   ]
  },
  {
   "cell_type": "code",
   "execution_count": 51,
   "metadata": {},
   "outputs": [
    {
     "data": {
      "text/plain": [
       "2    14030\n",
       "1    10585\n",
       "3     4917\n",
       "5      280\n",
       "4      123\n",
       "6       51\n",
       "0       14\n",
       "Name: EDUCATION, dtype: int64"
      ]
     },
     "execution_count": 51,
     "metadata": {},
     "output_type": "execute_result"
    }
   ],
   "source": [
    "cc_df['EDUCATION'].value_counts()"
   ]
  },
  {
   "cell_type": "markdown",
   "metadata": {},
   "source": [
    "> Education type for levels 0,4,5,6 is unknown. We can combine them. Label as 0 - unknown/ other"
   ]
  },
  {
   "cell_type": "code",
   "execution_count": 52,
   "metadata": {},
   "outputs": [],
   "source": [
    "cc_df.loc[cc_df.EDUCATION >= 4, 'EDUCATION'] = 0"
   ]
  },
  {
   "cell_type": "code",
   "execution_count": 53,
   "metadata": {},
   "outputs": [
    {
     "data": {
      "text/plain": [
       "2    15964\n",
       "1    13659\n",
       "3      323\n",
       "0       54\n",
       "Name: MARRIAGE, dtype: int64"
      ]
     },
     "execution_count": 53,
     "metadata": {},
     "output_type": "execute_result"
    }
   ],
   "source": [
    "cc_df['MARRIAGE'].value_counts()"
   ]
  },
  {
   "cell_type": "markdown",
   "metadata": {},
   "source": [
    "> Only two marital statuses are known (1 and 2). If the marital status is 0 or 3, we group them as unknown. Replacing any marital status with 3 as its value is assigned value 0."
   ]
  },
  {
   "cell_type": "code",
   "execution_count": 54,
   "metadata": {},
   "outputs": [],
   "source": [
    "cc_df.loc[cc_df.MARRIAGE == 3, 'MARRIAGE'] = 0"
   ]
  },
  {
   "cell_type": "markdown",
   "metadata": {},
   "source": [
    "<b>Replacing NaN in each continuous variables with the respective Mean values</b>"
   ]
  },
  {
   "cell_type": "code",
   "execution_count": 55,
   "metadata": {},
   "outputs": [],
   "source": [
    "cc_df['PAY_AMT1'] = cc_df['PAY_AMT1'].transform(lambda x:x.fillna(x.mean()))\n",
    "cc_df['PAY_AMT2'] = cc_df['PAY_AMT2'].transform(lambda x:x.fillna(x.mean()))\n",
    "cc_df['PAY_AMT3'] = cc_df['PAY_AMT3'].transform(lambda x:x.fillna(x.mean()))\n",
    "cc_df['PAY_AMT4'] = cc_df['PAY_AMT4'].transform(lambda x:x.fillna(x.mean()))\n",
    "cc_df['PAY_AMT5'] = cc_df['PAY_AMT5'].transform(lambda x:x.fillna(x.mean()))\n",
    "cc_df['PAY_AMT6'] = cc_df['PAY_AMT6'].transform(lambda x:x.fillna(x.mean()))\n",
    "\n",
    "cc_df['BILL_AMT1'] = cc_df['BILL_AMT1'].transform(lambda x:x.fillna(x.mean()))\n",
    "cc_df['BILL_AMT2'] = cc_df['BILL_AMT2'].transform(lambda x:x.fillna(x.mean()))\n",
    "cc_df['BILL_AMT3'] = cc_df['BILL_AMT3'].transform(lambda x:x.fillna(x.mean()))\n",
    "cc_df['BILL_AMT4'] = cc_df['BILL_AMT4'].transform(lambda x:x.fillna(x.mean()))\n",
    "cc_df['BILL_AMT5'] = cc_df['BILL_AMT5'].transform(lambda x:x.fillna(x.mean()))\n",
    "cc_df['BILL_AMT6'] = cc_df['BILL_AMT6'].transform(lambda x:x.fillna(x.mean()))\n",
    "\n"
   ]
  },
  {
   "cell_type": "markdown",
   "metadata": {},
   "source": [
    "<b>Replacing NaN in each categorical variables with the respective Mode values</b>"
   ]
  },
  {
   "cell_type": "code",
   "execution_count": 56,
   "metadata": {},
   "outputs": [],
   "source": [
    "cc_df['PAY_1'] = cc_df['PAY_1'].transform(lambda x:x.fillna(x.idxmax()))\n",
    "cc_df['PAY_2'] = cc_df['PAY_2'].transform(lambda x:x.fillna(x.idxmax()))\n",
    "cc_df['PAY_3'] = cc_df['PAY_3'].transform(lambda x:x.fillna(x.idxmax()))\n",
    "cc_df['PAY_4'] = cc_df['PAY_4'].transform(lambda x:x.fillna(x.idxmax()))\n",
    "cc_df['PAY_5'] = cc_df['PAY_5'].transform(lambda x:x.fillna(x.idxmax()))\n",
    "cc_df['PAY_6'] = cc_df['PAY_6'].transform(lambda x:x.fillna(x.idxmax()))\n",
    "\n",
    "cc_df['Default'] = cc_df['Default'].transform(lambda x:x.fillna(x.idxmax()))"
   ]
  },
  {
   "cell_type": "code",
   "execution_count": 57,
   "metadata": {
    "scrolled": true
   },
   "outputs": [
    {
     "data": {
      "text/plain": [
       "LIMIT_BAL    0\n",
       "SEX          0\n",
       "EDUCATION    0\n",
       "MARRIAGE     0\n",
       "AGE          0\n",
       "PAY_1        0\n",
       "PAY_2        0\n",
       "PAY_3        0\n",
       "PAY_4        0\n",
       "PAY_5        0\n",
       "PAY_6        0\n",
       "BILL_AMT1    0\n",
       "BILL_AMT2    0\n",
       "BILL_AMT3    0\n",
       "BILL_AMT4    0\n",
       "BILL_AMT5    0\n",
       "BILL_AMT6    0\n",
       "PAY_AMT1     0\n",
       "PAY_AMT2     0\n",
       "PAY_AMT3     0\n",
       "PAY_AMT4     0\n",
       "PAY_AMT5     0\n",
       "PAY_AMT6     0\n",
       "Default      0\n",
       "dtype: int64"
      ]
     },
     "execution_count": 57,
     "metadata": {},
     "output_type": "execute_result"
    }
   ],
   "source": [
    "cc_df.isnull().sum()"
   ]
  },
  {
   "cell_type": "markdown",
   "metadata": {},
   "source": [
    "<b>No columns have any null values in the dataset anymore</b>"
   ]
  },
  {
   "cell_type": "markdown",
   "metadata": {},
   "source": [
    "<center><h2> Exploratory Data Analysis</h2></center>"
   ]
  },
  {
   "cell_type": "markdown",
   "metadata": {},
   "source": [
    "<h3>Gender wise Credit Limit </h3>\n",
    "\n",
    "1 is Male, 2 is Female. Checking for gender wise distribution of credit limit"
   ]
  },
  {
   "cell_type": "code",
   "execution_count": 58,
   "metadata": {
    "scrolled": true
   },
   "outputs": [
    {
     "data": {
      "image/png": "[encoded data removed]",
      "text/plain": [
       "<Figure size 576x288 with 1 Axes>"
      ]
     },
     "metadata": {
      "needs_background": "light"
     },
     "output_type": "display_data"
    }
   ],
   "source": [
    "%matplotlib inline\n",
    "plt.figure(figsize=(8,4))\n",
    "sns.set(style='darkgrid', palette='deep')\n",
    "\n",
    "plt.plot(1,2)\n",
    "plot1 = sns.boxplot(data = cc_df, x = cc_df.SEX, y = cc_df['LIMIT_BAL'], hue='SEX')\n",
    "plot1.set_title(\"Credit Limit vs Sex\", fontsize = 13)\n",
    "plot1.set_xticklabels(plot1.get_xticklabels(), rotation = 90, ha = \"right\", fontsize = 10)\n",
    "\n",
    "plt.show()"
   ]
  },
  {
   "cell_type": "markdown",
   "metadata": {},
   "source": [
    "> Credit limit for females is slightly greater than male"
   ]
  },
  {
   "cell_type": "markdown",
   "metadata": {},
   "source": [
    "<b>Distribution of defaulters and non-defaulters</b>"
   ]
  },
  {
   "cell_type": "code",
   "execution_count": 59,
   "metadata": {},
   "outputs": [
    {
     "data": {
      "text/plain": [
       "0.0    23700\n",
       "1.0     6300\n",
       "Name: Default, dtype: int64"
      ]
     },
     "execution_count": 59,
     "metadata": {},
     "output_type": "execute_result"
    }
   ],
   "source": [
    "cc_df.Default.value_counts()"
   ]
  },
  {
   "cell_type": "code",
   "execution_count": 60,
   "metadata": {},
   "outputs": [
    {
     "data": {
      "text/plain": [
       "[Text(0, 0, 'Not Default'), Text(1, 0, 'Default')]"
      ]
     },
     "execution_count": 60,
     "metadata": {},
     "output_type": "execute_result"
    },
    {
     "data": {
      "image/png": "[encoded data removed]",
      "text/plain": [
       "<Figure size 360x216 with 1 Axes>"
      ]
     },
     "metadata": {},
     "output_type": "display_data"
    }
   ],
   "source": [
    "plt.figure(figsize=(5,3))\n",
    "\n",
    "fig = sns.countplot(x = 'Default', data = cc_df)\n",
    "fig.set_xticklabels([\"Not Default\", \"Default\"])"
   ]
  },
  {
   "cell_type": "markdown",
   "metadata": {},
   "source": [
    "> Count of Non defaulters is greater than defaulters. This is as expected"
   ]
  },
  {
   "cell_type": "code",
   "execution_count": 61,
   "metadata": {},
   "outputs": [
    {
     "data": {
      "text/plain": [
       "<AxesSubplot:>"
      ]
     },
     "execution_count": 61,
     "metadata": {},
     "output_type": "execute_result"
    },
    {
     "data": {
      "image/png": "[encoded data removed]",
      "text/plain": [
       "<Figure size 1008x720 with 2 Axes>"
      ]
     },
     "metadata": {},
     "output_type": "display_data"
    }
   ],
   "source": [
    "plt.figure(figsize=(14,10))\n",
    "sns.heatmap(cc_df.corr().abs(), annot = True, cmap= 'cividis')"
   ]
  },
  {
   "cell_type": "markdown",
   "metadata": {},
   "source": [
    "> Bill amounts are highly correlated"
   ]
  },
  {
   "cell_type": "markdown",
   "metadata": {},
   "source": [
    "<b>Checking for Outliers in each variables through boxplot</b>"
   ]
  },
  {
   "cell_type": "code",
   "execution_count": 62,
   "metadata": {},
   "outputs": [
    {
     "name": "stdout",
     "output_type": "stream",
     "text": [
      "No of outliers in LIMIT_BAL: 130\n",
      "No of outliers in SEX: 0\n",
      "No of outliers in EDUCATION: 0\n",
      "No of outliers in MARRIAGE: 0\n",
      "No of outliers in AGE: 141\n",
      "No of outliers in PAY_1: 1498\n",
      "No of outliers in PAY_2: 1482\n",
      "No of outliers in PAY_3: 1510\n",
      "No of outliers in PAY_4: 1516\n",
      "No of outliers in PAY_5: 1505\n",
      "No of outliers in PAY_6: 1462\n",
      "No of outliers in BILL_AMT1: 684\n",
      "No of outliers in BILL_AMT2: 678\n",
      "No of outliers in BILL_AMT3: 660\n",
      "No of outliers in BILL_AMT4: 682\n",
      "No of outliers in BILL_AMT5: 649\n",
      "No of outliers in BILL_AMT6: 650\n",
      "No of outliers in PAY_AMT1: 386\n",
      "No of outliers in PAY_AMT2: 294\n",
      "No of outliers in PAY_AMT3: 355\n",
      "No of outliers in PAY_AMT4: 379\n",
      "No of outliers in PAY_AMT5: 423\n",
      "No of outliers in PAY_AMT6: 418\n",
      "No of outliers in Default: 0\n"
     ]
    }
   ],
   "source": [
    "from numpy import mean\n",
    "from numpy import std\n",
    "\n",
    "for col in cc_df:\n",
    "    data_mean, data_std = mean(cc_df[col]), std(cc_df[col])\n",
    "    cut_off = data_std * 3\n",
    "    lower, upper = data_mean - cut_off, data_mean + cut_off\n",
    "    outliers = [x for x in cc_df[col] if x < lower or x > upper]\n",
    "    print('No of outliers in ' + col + ': %d' % len(outliers))"
   ]
  },
  {
   "cell_type": "code",
   "execution_count": 63,
   "metadata": {},
   "outputs": [
    {
     "data": {
      "image/png": "[encoded data removed]",
      "text/plain": [
       "<Figure size 1440x1800 with 23 Axes>"
      ]
     },
     "metadata": {},
     "output_type": "display_data"
    }
   ],
   "source": [
    "#Box plot for each variable\n",
    "\n",
    "cc_col ={'LIMIT_BAL':1, 'SEX':2, 'EDUCATION':3, 'MARRIAGE':4, 'AGE':5, 'PAY_1':6,\n",
    "       'PAY_2':7, 'PAY_3':8, 'PAY_4':9, 'PAY_5':10, 'PAY_6':11, 'BILL_AMT1':12, 'BILL_AMT2':13,\n",
    "       'BILL_AMT3':14, 'BILL_AMT4':15, 'BILL_AMT5':16, 'BILL_AMT6':17, 'PAY_AMT1':18,\n",
    "       'PAY_AMT2':19, 'PAY_AMT3':20, 'PAY_AMT4':21, 'PAY_AMT5':22, 'PAY_AMT6':23}\n",
    "\n",
    "# Detect outliers in each variable using box plots.\n",
    "plt.figure(figsize=(20,25))\n",
    "\n",
    "for variables,i in cc_col.items():\n",
    "                     plt.subplot(4,6,i)\n",
    "                     plt.boxplot(cc_df[variables])\n",
    "                     plt.title(variables)\n",
    "\n",
    "plt.show()"
   ]
  },
  {
   "cell_type": "code",
   "execution_count": 1,
   "metadata": {},
   "outputs": [],
   "source": [
    "#pp.ProfileReport(cc_df)     # Report after data manipulation"
   ]
  },
  {
   "cell_type": "markdown",
   "metadata": {},
   "source": [
    "<center><h2>Model Development</h2></center>"
   ]
  },
  {
   "cell_type": "markdown",
   "metadata": {},
   "source": [
    "<h3>Classification task:</h3>\n",
    "\n",
    "<ul>\n",
    "    <li>Decide about a good evaluation strategy beside accuracy and justify your choice.</li>\n",
    "    <li>Apply all the classification models you've learned so far. If your model has a scaling parameter(s) use Grid Search to find the best hyper-parameter. Use plots and graphs to help you get a better glimpse of the results.</li>\n",
    "    <li>Your submission should have at least the following classification models: </li>\n",
    "    <ul>\n",
    "            <li>KNN classification</li>\n",
    "            <li>Logistic Regression</li>\n",
    "            <li>Linear Support Vector Machine</li>\n",
    "            <li>Kerenilzed Support Vector Machine (rbf, poly, and linear)</li>\n",
    "            <li>Decision Tree.</li></ul>\n",
    "    <li>Finally, find the best model for the classification dataset and train your model on the entire dataset using the best parameters and predict the target values for the test_set.</li>\n",
    "    \n",
    "</ul>\n"
   ]
  },
  {
   "cell_type": "markdown",
   "metadata": {},
   "source": [
    "<b>Data Splitting - Train and Test Data</b>"
   ]
  },
  {
   "cell_type": "code",
   "execution_count": 65,
   "metadata": {},
   "outputs": [],
   "source": [
    "# default payment next month' will be taget variable\n",
    "\n",
    "X = cc_df.drop(['Default'],axis =1)    # all variables except target\n",
    "\n",
    "y = cc_df['Default']     #variable of interest\n",
    "\n",
    "X_train_1, X_test_1, y_train, y_test = train_test_split(X, y, random_state = 0)"
   ]
  },
  {
   "cell_type": "markdown",
   "metadata": {},
   "source": [
    "<h4>Scaling</h4>\n",
    "\n",
    "> We have used MinMaxScaler which essentially shrinks the range such that the range is now between 0 and 1. It retains the outliers in the data and it doesn't change the relative position"
   ]
  },
  {
   "cell_type": "code",
   "execution_count": 66,
   "metadata": {},
   "outputs": [
    {
     "data": {
      "text/html": [
       "<div>\n",
       "<style scoped>\n",
       "    .dataframe tbody tr th:only-of-type {\n",
       "        vertical-align: middle;\n",
       "    }\n",
       "\n",
       "    .dataframe tbody tr th {\n",
       "        vertical-align: top;\n",
       "    }\n",
       "\n",
       "    .dataframe thead th {\n",
       "        text-align: right;\n",
       "    }\n",
       "</style>\n",
       "<table border=\"1\" class=\"dataframe\">\n",
       "  <thead>\n",
       "    <tr style=\"text-align: right;\">\n",
       "      <th></th>\n",
       "      <th>0</th>\n",
       "      <th>1</th>\n",
       "      <th>2</th>\n",
       "      <th>3</th>\n",
       "      <th>4</th>\n",
       "      <th>5</th>\n",
       "      <th>6</th>\n",
       "      <th>7</th>\n",
       "      <th>8</th>\n",
       "      <th>9</th>\n",
       "      <th>...</th>\n",
       "      <th>13</th>\n",
       "      <th>14</th>\n",
       "      <th>15</th>\n",
       "      <th>16</th>\n",
       "      <th>17</th>\n",
       "      <th>18</th>\n",
       "      <th>19</th>\n",
       "      <th>20</th>\n",
       "      <th>21</th>\n",
       "      <th>22</th>\n",
       "    </tr>\n",
       "  </thead>\n",
       "  <tbody>\n",
       "    <tr>\n",
       "      <th>0</th>\n",
       "      <td>0.151899</td>\n",
       "      <td>1.0</td>\n",
       "      <td>0.333333</td>\n",
       "      <td>1.0</td>\n",
       "      <td>0.111111</td>\n",
       "      <td>0.003072</td>\n",
       "      <td>0.000226</td>\n",
       "      <td>0.000231</td>\n",
       "      <td>0.000231</td>\n",
       "      <td>0.000231</td>\n",
       "      <td>...</td>\n",
       "      <td>0.102657</td>\n",
       "      <td>0.233001</td>\n",
       "      <td>0.128419</td>\n",
       "      <td>0.327434</td>\n",
       "      <td>0.002290</td>\n",
       "      <td>0.001187</td>\n",
       "      <td>0.005624</td>\n",
       "      <td>0.000705</td>\n",
       "      <td>0.012338</td>\n",
       "      <td>0.000000</td>\n",
       "    </tr>\n",
       "    <tr>\n",
       "      <th>1</th>\n",
       "      <td>0.151899</td>\n",
       "      <td>1.0</td>\n",
       "      <td>1.000000</td>\n",
       "      <td>0.5</td>\n",
       "      <td>0.592593</td>\n",
       "      <td>1.000000</td>\n",
       "      <td>1.000000</td>\n",
       "      <td>0.000231</td>\n",
       "      <td>0.000231</td>\n",
       "      <td>0.000231</td>\n",
       "      <td>...</td>\n",
       "      <td>0.098635</td>\n",
       "      <td>0.221581</td>\n",
       "      <td>0.156817</td>\n",
       "      <td>0.353090</td>\n",
       "      <td>0.002682</td>\n",
       "      <td>0.001417</td>\n",
       "      <td>0.002583</td>\n",
       "      <td>0.002473</td>\n",
       "      <td>0.006316</td>\n",
       "      <td>0.005044</td>\n",
       "    </tr>\n",
       "    <tr>\n",
       "      <th>2</th>\n",
       "      <td>0.164557</td>\n",
       "      <td>0.0</td>\n",
       "      <td>1.000000</td>\n",
       "      <td>0.5</td>\n",
       "      <td>0.314815</td>\n",
       "      <td>0.006144</td>\n",
       "      <td>0.000452</td>\n",
       "      <td>0.000462</td>\n",
       "      <td>0.000462</td>\n",
       "      <td>0.000462</td>\n",
       "      <td>...</td>\n",
       "      <td>0.112152</td>\n",
       "      <td>0.348459</td>\n",
       "      <td>0.304163</td>\n",
       "      <td>0.456247</td>\n",
       "      <td>0.025757</td>\n",
       "      <td>0.000000</td>\n",
       "      <td>0.005916</td>\n",
       "      <td>0.004187</td>\n",
       "      <td>0.005927</td>\n",
       "      <td>0.010054</td>\n",
       "    </tr>\n",
       "    <tr>\n",
       "      <th>3</th>\n",
       "      <td>0.329114</td>\n",
       "      <td>1.0</td>\n",
       "      <td>0.666667</td>\n",
       "      <td>0.5</td>\n",
       "      <td>0.222222</td>\n",
       "      <td>0.001536</td>\n",
       "      <td>0.000113</td>\n",
       "      <td>0.000116</td>\n",
       "      <td>0.000116</td>\n",
       "      <td>0.000116</td>\n",
       "      <td>...</td>\n",
       "      <td>0.088303</td>\n",
       "      <td>0.195647</td>\n",
       "      <td>0.106909</td>\n",
       "      <td>0.337067</td>\n",
       "      <td>0.010159</td>\n",
       "      <td>0.002118</td>\n",
       "      <td>0.005916</td>\n",
       "      <td>0.012805</td>\n",
       "      <td>0.010307</td>\n",
       "      <td>0.009861</td>\n",
       "    </tr>\n",
       "    <tr>\n",
       "      <th>4</th>\n",
       "      <td>0.265823</td>\n",
       "      <td>1.0</td>\n",
       "      <td>0.666667</td>\n",
       "      <td>0.5</td>\n",
       "      <td>0.592593</td>\n",
       "      <td>0.006144</td>\n",
       "      <td>0.000226</td>\n",
       "      <td>0.000231</td>\n",
       "      <td>0.000231</td>\n",
       "      <td>0.000231</td>\n",
       "      <td>...</td>\n",
       "      <td>0.208887</td>\n",
       "      <td>0.439110</td>\n",
       "      <td>0.419864</td>\n",
       "      <td>0.529155</td>\n",
       "      <td>0.009719</td>\n",
       "      <td>0.004809</td>\n",
       "      <td>0.008998</td>\n",
       "      <td>0.007748</td>\n",
       "      <td>0.021269</td>\n",
       "      <td>0.012596</td>\n",
       "    </tr>\n",
       "  </tbody>\n",
       "</table>\n",
       "<p>5 rows × 23 columns</p>\n",
       "</div>"
      ],
      "text/plain": [
       "         0    1         2    3         4         5         6         7   \\\n",
       "0  0.151899  1.0  0.333333  1.0  0.111111  0.003072  0.000226  0.000231   \n",
       "1  0.151899  1.0  1.000000  0.5  0.592593  1.000000  1.000000  0.000231   \n",
       "2  0.164557  0.0  1.000000  0.5  0.314815  0.006144  0.000452  0.000462   \n",
       "3  0.329114  1.0  0.666667  0.5  0.222222  0.001536  0.000113  0.000116   \n",
       "4  0.265823  1.0  0.666667  0.5  0.592593  0.006144  0.000226  0.000231   \n",
       "\n",
       "         8         9   ...        13        14        15        16        17  \\\n",
       "0  0.000231  0.000231  ...  0.102657  0.233001  0.128419  0.327434  0.002290   \n",
       "1  0.000231  0.000231  ...  0.098635  0.221581  0.156817  0.353090  0.002682   \n",
       "2  0.000462  0.000462  ...  0.112152  0.348459  0.304163  0.456247  0.025757   \n",
       "3  0.000116  0.000116  ...  0.088303  0.195647  0.106909  0.337067  0.010159   \n",
       "4  0.000231  0.000231  ...  0.208887  0.439110  0.419864  0.529155  0.009719   \n",
       "\n",
       "         18        19        20        21        22  \n",
       "0  0.001187  0.005624  0.000705  0.012338  0.000000  \n",
       "1  0.001417  0.002583  0.002473  0.006316  0.005044  \n",
       "2  0.000000  0.005916  0.004187  0.005927  0.010054  \n",
       "3  0.002118  0.005916  0.012805  0.010307  0.009861  \n",
       "4  0.004809  0.008998  0.007748  0.021269  0.012596  \n",
       "\n",
       "[5 rows x 23 columns]"
      ]
     },
     "execution_count": 66,
     "metadata": {},
     "output_type": "execute_result"
    }
   ],
   "source": [
    "scaler = MinMaxScaler()\n",
    "X_train = scaler.fit_transform(X_train_1)\n",
    "pd.DataFrame(X_train).head()"
   ]
  },
  {
   "cell_type": "code",
   "execution_count": 67,
   "metadata": {},
   "outputs": [
    {
     "data": {
      "text/html": [
       "<div>\n",
       "<style scoped>\n",
       "    .dataframe tbody tr th:only-of-type {\n",
       "        vertical-align: middle;\n",
       "    }\n",
       "\n",
       "    .dataframe tbody tr th {\n",
       "        vertical-align: top;\n",
       "    }\n",
       "\n",
       "    .dataframe thead th {\n",
       "        text-align: right;\n",
       "    }\n",
       "</style>\n",
       "<table border=\"1\" class=\"dataframe\">\n",
       "  <thead>\n",
       "    <tr style=\"text-align: right;\">\n",
       "      <th></th>\n",
       "      <th>0</th>\n",
       "      <th>1</th>\n",
       "      <th>2</th>\n",
       "      <th>3</th>\n",
       "      <th>4</th>\n",
       "      <th>5</th>\n",
       "      <th>6</th>\n",
       "      <th>7</th>\n",
       "      <th>8</th>\n",
       "      <th>9</th>\n",
       "      <th>...</th>\n",
       "      <th>13</th>\n",
       "      <th>14</th>\n",
       "      <th>15</th>\n",
       "      <th>16</th>\n",
       "      <th>17</th>\n",
       "      <th>18</th>\n",
       "      <th>19</th>\n",
       "      <th>20</th>\n",
       "      <th>21</th>\n",
       "      <th>22</th>\n",
       "    </tr>\n",
       "  </thead>\n",
       "  <tbody>\n",
       "    <tr>\n",
       "      <th>0</th>\n",
       "      <td>0.012658</td>\n",
       "      <td>0.0</td>\n",
       "      <td>0.333333</td>\n",
       "      <td>1.0</td>\n",
       "      <td>0.222222</td>\n",
       "      <td>0.004608</td>\n",
       "      <td>0.000452</td>\n",
       "      <td>0.000462</td>\n",
       "      <td>0.000462</td>\n",
       "      <td>1.000000</td>\n",
       "      <td>...</td>\n",
       "      <td>0.096808</td>\n",
       "      <td>0.214917</td>\n",
       "      <td>0.125111</td>\n",
       "      <td>0.345238</td>\n",
       "      <td>0.000000</td>\n",
       "      <td>0.001342</td>\n",
       "      <td>0.000000</td>\n",
       "      <td>0.002576</td>\n",
       "      <td>0.000000</td>\n",
       "      <td>0.001222</td>\n",
       "    </tr>\n",
       "    <tr>\n",
       "      <th>1</th>\n",
       "      <td>0.012658</td>\n",
       "      <td>1.0</td>\n",
       "      <td>0.666667</td>\n",
       "      <td>1.0</td>\n",
       "      <td>0.259259</td>\n",
       "      <td>0.003072</td>\n",
       "      <td>0.000226</td>\n",
       "      <td>0.000462</td>\n",
       "      <td>0.000231</td>\n",
       "      <td>0.000231</td>\n",
       "      <td>...</td>\n",
       "      <td>0.096557</td>\n",
       "      <td>0.215541</td>\n",
       "      <td>0.123947</td>\n",
       "      <td>0.345923</td>\n",
       "      <td>0.003892</td>\n",
       "      <td>0.000000</td>\n",
       "      <td>0.001125</td>\n",
       "      <td>0.000000</td>\n",
       "      <td>0.002577</td>\n",
       "      <td>0.000000</td>\n",
       "    </tr>\n",
       "    <tr>\n",
       "      <th>2</th>\n",
       "      <td>0.278481</td>\n",
       "      <td>1.0</td>\n",
       "      <td>0.333333</td>\n",
       "      <td>0.5</td>\n",
       "      <td>0.425926</td>\n",
       "      <td>0.004608</td>\n",
       "      <td>0.000113</td>\n",
       "      <td>0.000116</td>\n",
       "      <td>0.000116</td>\n",
       "      <td>0.000116</td>\n",
       "      <td>...</td>\n",
       "      <td>0.087917</td>\n",
       "      <td>0.194937</td>\n",
       "      <td>0.094646</td>\n",
       "      <td>0.326684</td>\n",
       "      <td>0.006515</td>\n",
       "      <td>0.001706</td>\n",
       "      <td>0.001049</td>\n",
       "      <td>0.000000</td>\n",
       "      <td>0.000000</td>\n",
       "      <td>0.000000</td>\n",
       "    </tr>\n",
       "    <tr>\n",
       "      <th>3</th>\n",
       "      <td>0.113924</td>\n",
       "      <td>0.0</td>\n",
       "      <td>0.666667</td>\n",
       "      <td>0.5</td>\n",
       "      <td>0.388889</td>\n",
       "      <td>0.003072</td>\n",
       "      <td>0.000226</td>\n",
       "      <td>0.000231</td>\n",
       "      <td>0.000231</td>\n",
       "      <td>0.000231</td>\n",
       "      <td>...</td>\n",
       "      <td>0.095205</td>\n",
       "      <td>0.214124</td>\n",
       "      <td>0.123598</td>\n",
       "      <td>0.346184</td>\n",
       "      <td>0.005724</td>\n",
       "      <td>0.001187</td>\n",
       "      <td>0.002250</td>\n",
       "      <td>0.003221</td>\n",
       "      <td>0.005154</td>\n",
       "      <td>0.003794</td>\n",
       "    </tr>\n",
       "    <tr>\n",
       "      <th>4</th>\n",
       "      <td>0.177215</td>\n",
       "      <td>0.0</td>\n",
       "      <td>0.333333</td>\n",
       "      <td>1.0</td>\n",
       "      <td>0.148148</td>\n",
       "      <td>0.000000</td>\n",
       "      <td>0.000000</td>\n",
       "      <td>0.000000</td>\n",
       "      <td>0.000000</td>\n",
       "      <td>0.000000</td>\n",
       "      <td>...</td>\n",
       "      <td>0.086801</td>\n",
       "      <td>0.201250</td>\n",
       "      <td>0.102569</td>\n",
       "      <td>0.334197</td>\n",
       "      <td>0.006515</td>\n",
       "      <td>0.000495</td>\n",
       "      <td>0.007298</td>\n",
       "      <td>0.008298</td>\n",
       "      <td>0.020184</td>\n",
       "      <td>0.013526</td>\n",
       "    </tr>\n",
       "  </tbody>\n",
       "</table>\n",
       "<p>5 rows × 23 columns</p>\n",
       "</div>"
      ],
      "text/plain": [
       "         0    1         2    3         4         5         6         7   \\\n",
       "0  0.012658  0.0  0.333333  1.0  0.222222  0.004608  0.000452  0.000462   \n",
       "1  0.012658  1.0  0.666667  1.0  0.259259  0.003072  0.000226  0.000462   \n",
       "2  0.278481  1.0  0.333333  0.5  0.425926  0.004608  0.000113  0.000116   \n",
       "3  0.113924  0.0  0.666667  0.5  0.388889  0.003072  0.000226  0.000231   \n",
       "4  0.177215  0.0  0.333333  1.0  0.148148  0.000000  0.000000  0.000000   \n",
       "\n",
       "         8         9   ...        13        14        15        16        17  \\\n",
       "0  0.000462  1.000000  ...  0.096808  0.214917  0.125111  0.345238  0.000000   \n",
       "1  0.000231  0.000231  ...  0.096557  0.215541  0.123947  0.345923  0.003892   \n",
       "2  0.000116  0.000116  ...  0.087917  0.194937  0.094646  0.326684  0.006515   \n",
       "3  0.000231  0.000231  ...  0.095205  0.214124  0.123598  0.346184  0.005724   \n",
       "4  0.000000  0.000000  ...  0.086801  0.201250  0.102569  0.334197  0.006515   \n",
       "\n",
       "         18        19        20        21        22  \n",
       "0  0.001342  0.000000  0.002576  0.000000  0.001222  \n",
       "1  0.000000  0.001125  0.000000  0.002577  0.000000  \n",
       "2  0.001706  0.001049  0.000000  0.000000  0.000000  \n",
       "3  0.001187  0.002250  0.003221  0.005154  0.003794  \n",
       "4  0.000495  0.007298  0.008298  0.020184  0.013526  \n",
       "\n",
       "[5 rows x 23 columns]"
      ]
     },
     "execution_count": 67,
     "metadata": {},
     "output_type": "execute_result"
    }
   ],
   "source": [
    "X_test = scaler.transform(X_test_1)\n",
    "pd.DataFrame(X_test).head()"
   ]
  },
  {
   "cell_type": "code",
   "execution_count": 68,
   "metadata": {},
   "outputs": [
    {
     "name": "stdout",
     "output_type": "stream",
     "text": [
      "X_train: (22500, 23)\n",
      "y_train: (22500,)\n",
      "X_test: (7500, 23)\n",
      "y_test: (7500,)\n"
     ]
    }
   ],
   "source": [
    "print(\"X_train:\",X_train.shape)\n",
    "print(\"y_train:\",y_train.shape)\n",
    "print(\"X_test:\",X_test.shape)\n",
    "print(\"y_test:\",y_test.shape)\n",
    "\n",
    "# checking shape after split"
   ]
  },
  {
   "cell_type": "markdown",
   "metadata": {},
   "source": [
    "<h2>Algorithms</h2>"
   ]
  },
  {
   "cell_type": "markdown",
   "metadata": {},
   "source": [
    "<h3>1. K-Nearest Neighbor (KNN) Classification</h3>"
   ]
  },
  {
   "cell_type": "code",
   "execution_count": 69,
   "metadata": {},
   "outputs": [],
   "source": [
    "from sklearn.neighbors import KNeighborsClassifier\n",
    "\n",
    "train_score_array = []\n",
    "test_score_array = []\n",
    "\n",
    "for k in range(1,20):\n",
    "    knn = KNeighborsClassifier(k)\n",
    "    knn.fit(X_train, y_train)\n",
    "    train_score_array.append(knn.score(X_train, y_train))\n",
    "    test_score_array.append(knn.score(X_test, y_test))"
   ]
  },
  {
   "cell_type": "code",
   "execution_count": 70,
   "metadata": {
    "scrolled": false
   },
   "outputs": [
    {
     "data": {
      "text/plain": [
       "<matplotlib.legend.Legend at 0x1e48207d970>"
      ]
     },
     "execution_count": 70,
     "metadata": {},
     "output_type": "execute_result"
    },
    {
     "data": {
      "image/png": "[encoded data removed]",
      "text/plain": [
       "<Figure size 432x288 with 1 Axes>"
      ]
     },
     "metadata": {
      "needs_background": "light"
     },
     "output_type": "display_data"
    }
   ],
   "source": [
    "%matplotlib inline\n",
    "\n",
    "x_axis = range(1,20)\n",
    "plt.plot(x_axis, train_score_array, label = 'Train Score', c = 'g')\n",
    "plt.plot(x_axis, test_score_array, label = 'Test Score', c='b')\n",
    "plt.xlabel('n-neighbors')\n",
    "plt.ylabel('Accuracy (score)')\n",
    "plt.legend()"
   ]
  },
  {
   "cell_type": "markdown",
   "metadata": {},
   "source": [
    "From the graph, number of neaighbors, k=10 seems to be best parameter."
   ]
  },
  {
   "cell_type": "code",
   "execution_count": 71,
   "metadata": {},
   "outputs": [
    {
     "name": "stdout",
     "output_type": "stream",
     "text": [
      "No of Neighbors: 10\n",
      "Train score: 79.4667%\n",
      "Train score: 78.4267%\n"
     ]
    }
   ],
   "source": [
    "knn = KNeighborsClassifier(10)\n",
    "knn.fit(X_train, y_train)\n",
    "print (\"No of Neighbors:\", 10)\n",
    "print('Train score: {:.4f}%'.format(knn.score(X_train, y_train)*100))\n",
    "print('Train score: {:.4f}%'.format(knn.score(X_test, y_test)*100))"
   ]
  },
  {
   "cell_type": "markdown",
   "metadata": {},
   "source": [
    "<b>Cross validation scores for KNN Classifier</b>"
   ]
  },
  {
   "cell_type": "code",
   "execution_count": 72,
   "metadata": {},
   "outputs": [
    {
     "data": {
      "text/html": [
       "<div>\n",
       "<style scoped>\n",
       "    .dataframe tbody tr th:only-of-type {\n",
       "        vertical-align: middle;\n",
       "    }\n",
       "\n",
       "    .dataframe tbody tr th {\n",
       "        vertical-align: top;\n",
       "    }\n",
       "\n",
       "    .dataframe thead th {\n",
       "        text-align: right;\n",
       "    }\n",
       "</style>\n",
       "<table border=\"1\" class=\"dataframe\">\n",
       "  <thead>\n",
       "    <tr style=\"text-align: right;\">\n",
       "      <th></th>\n",
       "      <th>Cross-validation score</th>\n",
       "    </tr>\n",
       "  </thead>\n",
       "  <tbody>\n",
       "    <tr>\n",
       "      <th>0</th>\n",
       "      <td>0.782667</td>\n",
       "    </tr>\n",
       "    <tr>\n",
       "      <th>1</th>\n",
       "      <td>0.780889</td>\n",
       "    </tr>\n",
       "    <tr>\n",
       "      <th>2</th>\n",
       "      <td>0.781778</td>\n",
       "    </tr>\n",
       "    <tr>\n",
       "      <th>3</th>\n",
       "      <td>0.783111</td>\n",
       "    </tr>\n",
       "    <tr>\n",
       "      <th>4</th>\n",
       "      <td>0.774889</td>\n",
       "    </tr>\n",
       "  </tbody>\n",
       "</table>\n",
       "</div>"
      ],
      "text/plain": [
       "   Cross-validation score\n",
       "0                0.782667\n",
       "1                0.780889\n",
       "2                0.781778\n",
       "3                0.783111\n",
       "4                0.774889"
      ]
     },
     "execution_count": 72,
     "metadata": {},
     "output_type": "execute_result"
    }
   ],
   "source": [
    "knn_scores = cross_val_score(knn, X_train, y_train, cv=5)\n",
    "\n",
    "pd.DataFrame({'Cross-validation score': knn_scores})"
   ]
  },
  {
   "cell_type": "code",
   "execution_count": 73,
   "metadata": {},
   "outputs": [
    {
     "name": "stdout",
     "output_type": "stream",
     "text": [
      "Average cross-validation score is: 0.78\n"
     ]
    }
   ],
   "source": [
    "print(\"Average cross-validation score is: {:.2f}\".format(knn_scores.mean()))"
   ]
  },
  {
   "cell_type": "markdown",
   "metadata": {},
   "source": [
    "<b>Applying Grid Search on KNN Classifier</b>"
   ]
  },
  {
   "cell_type": "code",
   "execution_count": 74,
   "metadata": {},
   "outputs": [
    {
     "name": "stdout",
     "output_type": "stream",
     "text": [
      "{'algorithm': 'auto',\n",
      " 'leaf_size': 30,\n",
      " 'metric': 'minkowski',\n",
      " 'metric_params': None,\n",
      " 'n_jobs': None,\n",
      " 'n_neighbors': 10,\n",
      " 'p': 2,\n",
      " 'weights': 'uniform'}\n"
     ]
    }
   ],
   "source": [
    "from pprint import pprint\n",
    "pprint(knn.get_params())"
   ]
  },
  {
   "cell_type": "code",
   "execution_count": 75,
   "metadata": {},
   "outputs": [
    {
     "name": "stdout",
     "output_type": "stream",
     "text": [
      "Fitting 5 folds for each of 152 candidates, totalling 760 fits\n"
     ]
    },
    {
     "name": "stderr",
     "output_type": "stream",
     "text": [
      "[Parallel(n_jobs=-1)]: Using backend LokyBackend with 8 concurrent workers.\n",
      "[Parallel(n_jobs=-1)]: Done  34 tasks      | elapsed:   25.7s\n",
      "[Parallel(n_jobs=-1)]: Done 184 tasks      | elapsed:  2.0min\n",
      "[Parallel(n_jobs=-1)]: Done 434 tasks      | elapsed:  5.1min\n",
      "[Parallel(n_jobs=-1)]: Done 760 out of 760 | elapsed:  9.7min finished\n"
     ]
    }
   ],
   "source": [
    "param_grid_knn = {'n_neighbors':range(1,20), 'p': [1,2],\n",
    "            'weights': ['distance','uniform'],\n",
    "            'metric': ['euclidean','manhattan']}\n",
    "\n",
    "CV_knn_class = GridSearchCV(KNeighborsClassifier(), param_grid_knn , verbose = 1, cv = 5, n_jobs = -1)\n",
    "\n",
    "GS_results_KNN = CV_knn_class.fit(X_train, y_train)"
   ]
  },
  {
   "cell_type": "code",
   "execution_count": 76,
   "metadata": {},
   "outputs": [
    {
     "data": {
      "text/plain": [
       "0.7885"
      ]
     },
     "execution_count": 76,
     "metadata": {},
     "output_type": "execute_result"
    }
   ],
   "source": [
    "round(CV_knn_class.score(X_test,y_test),4)"
   ]
  },
  {
   "cell_type": "code",
   "execution_count": 78,
   "metadata": {},
   "outputs": [
    {
     "name": "stdout",
     "output_type": "stream",
     "text": [
      "Best score- KNN grid serach: \n"
     ]
    },
    {
     "data": {
      "text/plain": [
       "0.7861333333333334"
      ]
     },
     "execution_count": 78,
     "metadata": {},
     "output_type": "execute_result"
    }
   ],
   "source": [
    "print(\"Best score- KNN grid serach: \")\n",
    "GS_results_KNN.best_score_"
   ]
  },
  {
   "cell_type": "code",
   "execution_count": 79,
   "metadata": {},
   "outputs": [
    {
     "name": "stdout",
     "output_type": "stream",
     "text": [
      "Best Estimator- KNN grid serach: \n"
     ]
    },
    {
     "data": {
      "text/plain": [
       "KNeighborsClassifier(metric='manhattan', n_neighbors=18, p=1)"
      ]
     },
     "execution_count": 79,
     "metadata": {},
     "output_type": "execute_result"
    }
   ],
   "source": [
    "print(\"Best Estimator- KNN grid serach: \")\n",
    "GS_results_KNN.best_estimator_"
   ]
  },
  {
   "cell_type": "code",
   "execution_count": 80,
   "metadata": {},
   "outputs": [
    {
     "name": "stdout",
     "output_type": "stream",
     "text": [
      "Best parameters- KNN grid serach: \n"
     ]
    },
    {
     "data": {
      "text/plain": [
       "{'metric': 'manhattan', 'n_neighbors': 18, 'p': 1, 'weights': 'uniform'}"
      ]
     },
     "execution_count": 80,
     "metadata": {},
     "output_type": "execute_result"
    }
   ],
   "source": [
    "print(\"Best parameters- KNN grid serach: \")\n",
    "GS_results_KNN.best_params_"
   ]
  },
  {
   "cell_type": "markdown",
   "metadata": {},
   "source": [
    "<b>Using best parameters from Grid Search for KNN Classifier</b>"
   ]
  },
  {
   "cell_type": "code",
   "execution_count": 81,
   "metadata": {},
   "outputs": [
    {
     "name": "stdout",
     "output_type": "stream",
     "text": [
      "Train score: 79.2800 %\n",
      "Test score: 78.8533 %\n"
     ]
    }
   ],
   "source": [
    "best_knn = KNeighborsClassifier(metric= 'manhattan', n_neighbors = 18, weights = 'uniform', algorithm ='auto',p = 1)\n",
    "\n",
    "best_knn.fit(X_train, y_train)\n",
    "y_pred_knn = best_knn.predict(X_test)\n",
    "\n",
    "print('Train score: {:.4f} %'.format(best_knn.score(X_train, y_train)*100))\n",
    "print('Test score: {:.4f} %'.format(best_knn.score(X_test, y_test)*100))"
   ]
  },
  {
   "cell_type": "code",
   "execution_count": 82,
   "metadata": {
    "scrolled": true
   },
   "outputs": [
    {
     "name": "stdout",
     "output_type": "stream",
     "text": [
      "              precision    recall  f1-score   support\n",
      "\n",
      "         0.0       0.79      0.99      0.88      5946\n",
      "         1.0       0.32      0.02      0.04      1554\n",
      "\n",
      "    accuracy                           0.79      7500\n",
      "   macro avg       0.56      0.50      0.46      7500\n",
      "weighted avg       0.70      0.79      0.71      7500\n",
      "\n"
     ]
    }
   ],
   "source": [
    "print(classification_report(y_pred = y_pred_knn, y_true = y_test))"
   ]
  },
  {
   "cell_type": "code",
   "execution_count": 83,
   "metadata": {},
   "outputs": [
    {
     "name": "stdout",
     "output_type": "stream",
     "text": [
      "[[5885   61]\n",
      " [1525   29]]\n"
     ]
    }
   ],
   "source": [
    "print(confusion_matrix(y_pred = y_pred_knn, y_true = y_test))"
   ]
  },
  {
   "cell_type": "code",
   "execution_count": 84,
   "metadata": {},
   "outputs": [
    {
     "data": {
      "image/png": "[encoded data removed]",
      "text/plain": [
       "<Figure size 432x288 with 1 Axes>"
      ]
     },
     "metadata": {
      "needs_background": "light"
     },
     "output_type": "display_data"
    }
   ],
   "source": [
    "import mglearn\n",
    "%matplotlib inline\n",
    "\n",
    "scores_image = mglearn.tools.heatmap(\n",
    "    confusion_matrix(y_pred = y_pred_knn, y_true = y_test), xlabel = 'Predicted label',\n",
    "    ylabel='True label', xticklabels = ['No Default','Default'],\n",
    "    yticklabels=['No Default','Default'], cmap = plt.cm.gray_r, fmt=\"%d\")\n",
    "plt.title(\"Confusion matrix (KNN)\")\n",
    "plt.gca().invert_yaxis()"
   ]
  },
  {
   "cell_type": "code",
   "execution_count": 85,
   "metadata": {},
   "outputs": [
    {
     "name": "stdout",
     "output_type": "stream",
     "text": [
      "Recall score : 0.0187 \n"
     ]
    }
   ],
   "source": [
    "Knn_recall_Score = recall_score(y_test, best_knn.predict(X_test))\n",
    "print('Recall score : {:.4f} '.format(recall_score(y_test, best_knn.predict(X_test))))"
   ]
  },
  {
   "cell_type": "code",
   "execution_count": 86,
   "metadata": {},
   "outputs": [
    {
     "name": "stdout",
     "output_type": "stream",
     "text": [
      "Precision score : 0.3222 \n"
     ]
    }
   ],
   "source": [
    "Knn_precision_score=precision_score(y_test, best_knn.predict(X_test))\n",
    "print('Precision score : {:.4f} '.format(precision_score(y_test, best_knn.predict(X_test))))"
   ]
  },
  {
   "cell_type": "code",
   "execution_count": 87,
   "metadata": {},
   "outputs": [
    {
     "name": "stdout",
     "output_type": "stream",
     "text": [
      "F1 score : 0.0353 \n"
     ]
    }
   ],
   "source": [
    "Knn_f1_score = f1_score(y_test, best_knn.predict(X_test))\n",
    "print('F1 score : {:.4f} '.format(f1_score(y_test, best_knn.predict(X_test))))"
   ]
  },
  {
   "cell_type": "code",
   "execution_count": 88,
   "metadata": {
    "scrolled": true
   },
   "outputs": [
    {
     "data": {
      "text/plain": [
       "<matplotlib.legend.Legend at 0x1e481f167f0>"
      ]
     },
     "execution_count": 88,
     "metadata": {},
     "output_type": "execute_result"
    },
    {
     "data": {
      "image/png": "[encoded data removed]",
      "text/plain": [
       "<Figure size 432x288 with 1 Axes>"
      ]
     },
     "metadata": {
      "needs_background": "light"
     },
     "output_type": "display_data"
    }
   ],
   "source": [
    "import mglearn\n",
    "\n",
    "%matplotlib inline\n",
    "\n",
    "precision, recall, thresholds = precision_recall_curve(y_test, best_knn.predict_proba(X_test)[:,1])\n",
    "\n",
    "close_zero = np.argmin(np.abs(thresholds-0.5))\n",
    "\n",
    "plt.plot(precision[close_zero], recall[close_zero], 'o', markersize=10,\n",
    "         label = \"thresholds-0.5\", fillstyle = \"none\", c = 'k', mew = 2)\n",
    "\n",
    "plt.plot(precision, recall, label=\"precision recall curve\")\n",
    "plt.xlabel(\"Precision\")\n",
    "plt.ylabel(\"Recall\")\n",
    "plt.legend(loc=\"best\")"
   ]
  },
  {
   "cell_type": "code",
   "execution_count": 89,
   "metadata": {},
   "outputs": [],
   "source": [
    "report_table = [['KNN Classification', 'K=18', best_knn.score(X_train, y_train)*100, best_knn.score(X_test, y_test)*100,f1_score(y_test, best_knn.predict(X_test))]]"
   ]
  },
  {
   "cell_type": "code",
   "execution_count": null,
   "metadata": {},
   "outputs": [],
   "source": [
    "#report_table"
   ]
  },
  {
   "cell_type": "markdown",
   "metadata": {},
   "source": [
    "<b>Result - False Positive is 61, false negatives are 1525 , the recall score is 0.0187 and F1 score is 0.0353 . Default = 1 is class of interest"
   ]
  },
  {
   "cell_type": "markdown",
   "metadata": {},
   "source": [
    "<h3>2. Logistic Regression</h3>"
   ]
  },
  {
   "cell_type": "code",
   "execution_count": 90,
   "metadata": {},
   "outputs": [],
   "source": [
    "c_value = [0.001, 0.01, 0.1, 1, 10, 100, 1000]\n",
    "train_score_l1 = []\n",
    "train_score_l2 = []\n",
    "test_score_l1 = []\n",
    "test_score_l2 = []\n",
    "\n",
    "for c in c_value:\n",
    "    log_l1 = LogisticRegression(penalty = 'l1', C = c,solver='liblinear')\n",
    "    log_l2 = LogisticRegression(penalty = 'l2', C = c,solver = 'lbfgs')\n",
    "    log_l1.fit(X_train, y_train)\n",
    "    log_l2.fit(X_train, y_train)\n",
    "    train_score_l1.append(log_l1.score(X_train, y_train))\n",
    "    test_score_l1.append(log_l1.score(X_test, y_test))\n",
    "    train_score_l2.append(log_l2.score(X_train, y_train))\n",
    "    test_score_l2.append(log_l2.score(X_test, y_test))\n",
    "    \n"
   ]
  },
  {
   "cell_type": "code",
   "execution_count": 91,
   "metadata": {},
   "outputs": [
    {
     "data": {
      "image/png": "[encoded data removed]",
      "text/plain": [
       "<Figure size 432x288 with 1 Axes>"
      ]
     },
     "metadata": {
      "needs_background": "light"
     },
     "output_type": "display_data"
    }
   ],
   "source": [
    "%matplotlib inline\n",
    "plt.plot(c_value, train_score_l1, label = 'Train score, penalty = l1')\n",
    "plt.plot(c_value, test_score_l1, label = 'Test score, penalty = l1')\n",
    "plt.plot(c_value, train_score_l2, label = 'Train score, penalty = l2')\n",
    "plt.plot(c_value, test_score_l2, label = 'Test score, penalty = l2')\n",
    "plt.legend()\n",
    "plt.xlabel('Regularization parameter: C')\n",
    "\n",
    "plt.ylabel('Accuracy')\n",
    "plt.xscale('log')\n",
    "\n"
   ]
  },
  {
   "cell_type": "markdown",
   "metadata": {},
   "source": [
    "> At c=10 & l2 penalty, test accuracy is best. So that will be out initial parameter"
   ]
  },
  {
   "cell_type": "code",
   "execution_count": 92,
   "metadata": {},
   "outputs": [
    {
     "name": "stdout",
     "output_type": "stream",
     "text": [
      "Train score: 78.9067%\n",
      "Test score: 79.2800%\n"
     ]
    }
   ],
   "source": [
    "logistic = LogisticRegression(penalty = 'l2', C=10)\n",
    "\n",
    "logistic.fit(X_train, y_train)\n",
    "\n",
    "print('Train score: {:.4f}%'.format(logistic.score(X_train, y_train)*100))\n",
    "print('Test score: {:.4f}%'.format(logistic.score(X_test, y_test)*100))"
   ]
  },
  {
   "cell_type": "markdown",
   "metadata": {},
   "source": [
    "<b>Cross validation scores for Logistic Regression</b>"
   ]
  },
  {
   "cell_type": "code",
   "execution_count": 93,
   "metadata": {
    "scrolled": true
   },
   "outputs": [
    {
     "data": {
      "text/html": [
       "<div>\n",
       "<style scoped>\n",
       "    .dataframe tbody tr th:only-of-type {\n",
       "        vertical-align: middle;\n",
       "    }\n",
       "\n",
       "    .dataframe tbody tr th {\n",
       "        vertical-align: top;\n",
       "    }\n",
       "\n",
       "    .dataframe thead th {\n",
       "        text-align: right;\n",
       "    }\n",
       "</style>\n",
       "<table border=\"1\" class=\"dataframe\">\n",
       "  <thead>\n",
       "    <tr style=\"text-align: right;\">\n",
       "      <th></th>\n",
       "      <th>Cross-validation scores</th>\n",
       "    </tr>\n",
       "  </thead>\n",
       "  <tbody>\n",
       "    <tr>\n",
       "      <th>0</th>\n",
       "      <td>0.789111</td>\n",
       "    </tr>\n",
       "    <tr>\n",
       "      <th>1</th>\n",
       "      <td>0.789333</td>\n",
       "    </tr>\n",
       "    <tr>\n",
       "      <th>2</th>\n",
       "      <td>0.789111</td>\n",
       "    </tr>\n",
       "    <tr>\n",
       "      <th>3</th>\n",
       "      <td>0.789111</td>\n",
       "    </tr>\n",
       "    <tr>\n",
       "      <th>4</th>\n",
       "      <td>0.788667</td>\n",
       "    </tr>\n",
       "  </tbody>\n",
       "</table>\n",
       "</div>"
      ],
      "text/plain": [
       "   Cross-validation scores\n",
       "0                 0.789111\n",
       "1                 0.789333\n",
       "2                 0.789111\n",
       "3                 0.789111\n",
       "4                 0.788667"
      ]
     },
     "execution_count": 93,
     "metadata": {},
     "output_type": "execute_result"
    }
   ],
   "source": [
    "scores = cross_val_score(logistic, X_train,y_train)\n",
    "pd.DataFrame({\"Cross-validation scores\": scores})\n"
   ]
  },
  {
   "cell_type": "code",
   "execution_count": 94,
   "metadata": {},
   "outputs": [
    {
     "name": "stdout",
     "output_type": "stream",
     "text": [
      "Average cross-validation score: 0.79\n"
     ]
    }
   ],
   "source": [
    "print(\"Average cross-validation score: {:.2f}\".format(scores.mean()))"
   ]
  },
  {
   "cell_type": "markdown",
   "metadata": {},
   "source": [
    "<b>Cross validation scores for Logistic Regression with cross folds</b>"
   ]
  },
  {
   "cell_type": "code",
   "execution_count": 95,
   "metadata": {},
   "outputs": [
    {
     "data": {
      "text/html": [
       "<div>\n",
       "<style scoped>\n",
       "    .dataframe tbody tr th:only-of-type {\n",
       "        vertical-align: middle;\n",
       "    }\n",
       "\n",
       "    .dataframe tbody tr th {\n",
       "        vertical-align: top;\n",
       "    }\n",
       "\n",
       "    .dataframe thead th {\n",
       "        text-align: right;\n",
       "    }\n",
       "</style>\n",
       "<table border=\"1\" class=\"dataframe\">\n",
       "  <thead>\n",
       "    <tr style=\"text-align: right;\">\n",
       "      <th></th>\n",
       "      <th>Cross-validation scores</th>\n",
       "    </tr>\n",
       "  </thead>\n",
       "  <tbody>\n",
       "    <tr>\n",
       "      <th>0</th>\n",
       "      <td>0.789111</td>\n",
       "    </tr>\n",
       "    <tr>\n",
       "      <th>1</th>\n",
       "      <td>0.789333</td>\n",
       "    </tr>\n",
       "    <tr>\n",
       "      <th>2</th>\n",
       "      <td>0.789111</td>\n",
       "    </tr>\n",
       "    <tr>\n",
       "      <th>3</th>\n",
       "      <td>0.789111</td>\n",
       "    </tr>\n",
       "    <tr>\n",
       "      <th>4</th>\n",
       "      <td>0.788667</td>\n",
       "    </tr>\n",
       "  </tbody>\n",
       "</table>\n",
       "</div>"
      ],
      "text/plain": [
       "   Cross-validation scores\n",
       "0                 0.789111\n",
       "1                 0.789333\n",
       "2                 0.789111\n",
       "3                 0.789111\n",
       "4                 0.788667"
      ]
     },
     "execution_count": 95,
     "metadata": {},
     "output_type": "execute_result"
    }
   ],
   "source": [
    "scores1 = cross_val_score(logistic, X_train,y_train, cv=5)\n",
    "\n",
    "pd.DataFrame({'Cross-validation scores' : scores1})"
   ]
  },
  {
   "cell_type": "code",
   "execution_count": 96,
   "metadata": {},
   "outputs": [
    {
     "name": "stdout",
     "output_type": "stream",
     "text": [
      "Average cross-validation score: 0.79\n"
     ]
    }
   ],
   "source": [
    "print(\"Average cross-validation score: {:.2f}\".format(scores1.mean()))"
   ]
  },
  {
   "cell_type": "markdown",
   "metadata": {},
   "source": [
    "<b>Applying Grid Search with Logistic Regression</b>"
   ]
  },
  {
   "cell_type": "code",
   "execution_count": 97,
   "metadata": {},
   "outputs": [
    {
     "name": "stdout",
     "output_type": "stream",
     "text": [
      "{'C': 10,\n",
      " 'class_weight': None,\n",
      " 'dual': False,\n",
      " 'fit_intercept': True,\n",
      " 'intercept_scaling': 1,\n",
      " 'l1_ratio': None,\n",
      " 'max_iter': 100,\n",
      " 'multi_class': 'auto',\n",
      " 'n_jobs': None,\n",
      " 'penalty': 'l2',\n",
      " 'random_state': None,\n",
      " 'solver': 'lbfgs',\n",
      " 'tol': 0.0001,\n",
      " 'verbose': 0,\n",
      " 'warm_start': False}\n"
     ]
    }
   ],
   "source": [
    "from pprint import pprint\n",
    "pprint(logistic.get_params())"
   ]
  },
  {
   "cell_type": "code",
   "execution_count": 98,
   "metadata": {},
   "outputs": [
    {
     "name": "stdout",
     "output_type": "stream",
     "text": [
      "Fitting 5 folds for each of 2786 candidates, totalling 13930 fits\n"
     ]
    },
    {
     "name": "stderr",
     "output_type": "stream",
     "text": [
      "[Parallel(n_jobs=-1)]: Using backend LokyBackend with 8 concurrent workers.\n",
      "[Parallel(n_jobs=-1)]: Done  58 tasks      | elapsed:    0.4s\n",
      "[Parallel(n_jobs=-1)]: Done 1200 tasks      | elapsed:   10.3s\n",
      "[Parallel(n_jobs=-1)]: Done 3200 tasks      | elapsed:   32.5s\n",
      "[Parallel(n_jobs=-1)]: Done 4656 tasks      | elapsed:   53.6s\n",
      "[Parallel(n_jobs=-1)]: Done 5106 tasks      | elapsed:  1.1min\n",
      "[Parallel(n_jobs=-1)]: Done 5656 tasks      | elapsed:  1.3min\n",
      "[Parallel(n_jobs=-1)]: Done 6802 tasks      | elapsed:  1.7min\n",
      "[Parallel(n_jobs=-1)]: Done 7552 tasks      | elapsed:  2.3min\n",
      "[Parallel(n_jobs=-1)]: Done 8922 tasks      | elapsed:  3.0min\n",
      "[Parallel(n_jobs=-1)]: Done 9872 tasks      | elapsed:  4.0min\n",
      "[Parallel(n_jobs=-1)]: Done 11322 tasks      | elapsed:  4.9min\n",
      "[Parallel(n_jobs=-1)]: Done 12968 tasks      | elapsed:  6.1min\n",
      "[Parallel(n_jobs=-1)]: Done 13930 out of 13930 | elapsed:  7.2min finished\n"
     ]
    },
    {
     "name": "stdout",
     "output_type": "stream",
     "text": [
      "{'C': 100, 'max_iter': 63, 'penalty': 'l2'}\n"
     ]
    }
   ],
   "source": [
    "param_grid_logit = { 'max_iter' : range(1,200), 'penalty' : ['l1','l2'],\n",
    "            'C' : [0.001, 0.01, 0.1, 1, 10, 100, 1000]}\n",
    "\n",
    "CV_logit_class = GridSearchCV(estimator = logistic, param_grid = param_grid_logit, cv = 5, verbose = 1, n_jobs = -1, return_train_score = True)\n",
    "GS_results_logit = CV_logit_class.fit(X_train, y_train)\n",
    "\n",
    "best_parameters_logit_class = CV_logit_class.best_params_\n",
    "print(best_parameters_logit_class)"
   ]
  },
  {
   "cell_type": "code",
   "execution_count": 99,
   "metadata": {},
   "outputs": [
    {
     "name": "stdout",
     "output_type": "stream",
     "text": [
      "Best score- Logistic grid serach: \n"
     ]
    },
    {
     "data": {
      "text/plain": [
       "0.7891111111111111"
      ]
     },
     "execution_count": 99,
     "metadata": {},
     "output_type": "execute_result"
    }
   ],
   "source": [
    "print(\"Best score- Logistic grid serach: \")\n",
    "GS_results_logit.best_score_"
   ]
  },
  {
   "cell_type": "code",
   "execution_count": 100,
   "metadata": {},
   "outputs": [
    {
     "name": "stdout",
     "output_type": "stream",
     "text": [
      "Best parameters- Logistic grid serach: \n"
     ]
    },
    {
     "data": {
      "text/plain": [
       "{'C': 100, 'max_iter': 63, 'penalty': 'l2'}"
      ]
     },
     "execution_count": 100,
     "metadata": {},
     "output_type": "execute_result"
    }
   ],
   "source": [
    "print(\"Best parameters- Logistic grid serach: \")\n",
    "best_parameters_logit_class"
   ]
  },
  {
   "cell_type": "markdown",
   "metadata": {},
   "source": [
    "<b>Using best parameters, c=100, max_iter = 63 & penalty =l2,  for Logistic Regression</b>"
   ]
  },
  {
   "cell_type": "code",
   "execution_count": 101,
   "metadata": {},
   "outputs": [
    {
     "name": "stdout",
     "output_type": "stream",
     "text": [
      "Train score: 78.8933%\n",
      "Test score: 79.2800%\n"
     ]
    }
   ],
   "source": [
    "best_logistic = LogisticRegression(penalty ='l2', C = 100, max_iter = 63)\n",
    "\n",
    "best_logistic.fit(X_train,y_train)\n",
    "y_pred_log = best_logistic.predict(X_test)\n",
    "\n",
    "print('Train score: {:.4f}%'.format(best_logistic.score(X_train, y_train)*100))\n",
    "print('Test score: {:.4f}%'.format(best_logistic.score(X_test, y_test)*100))"
   ]
  },
  {
   "cell_type": "code",
   "execution_count": 102,
   "metadata": {},
   "outputs": [
    {
     "name": "stdout",
     "output_type": "stream",
     "text": [
      "Grid Search Best Score: 0.79\n"
     ]
    }
   ],
   "source": [
    "print(\"Grid Search Best Score: {:.2f}\".format(GS_results_logit.best_score_))"
   ]
  },
  {
   "cell_type": "code",
   "execution_count": 103,
   "metadata": {},
   "outputs": [
    {
     "name": "stdout",
     "output_type": "stream",
     "text": [
      "              precision    recall  f1-score   support\n",
      "\n",
      "         0.0       0.79      1.00      0.88      5946\n",
      "         1.0       0.00      0.00      0.00      1554\n",
      "\n",
      "    accuracy                           0.79      7500\n",
      "   macro avg       0.40      0.50      0.44      7500\n",
      "weighted avg       0.63      0.79      0.70      7500\n",
      "\n"
     ]
    }
   ],
   "source": [
    "print(classification_report(y_pred = y_pred_log, y_true = y_test))"
   ]
  },
  {
   "cell_type": "code",
   "execution_count": 104,
   "metadata": {},
   "outputs": [
    {
     "name": "stdout",
     "output_type": "stream",
     "text": [
      "[[5946    0]\n",
      " [1554    0]]\n"
     ]
    }
   ],
   "source": [
    "print(confusion_matrix(y_pred=y_pred_log,y_true=y_test))"
   ]
  },
  {
   "cell_type": "code",
   "execution_count": 105,
   "metadata": {},
   "outputs": [
    {
     "data": {
      "image/png": "[encoded data removed]",
      "text/plain": [
       "<Figure size 432x288 with 1 Axes>"
      ]
     },
     "metadata": {
      "needs_background": "light"
     },
     "output_type": "display_data"
    }
   ],
   "source": [
    "import mglearn\n",
    "%matplotlib inline\n",
    "\n",
    "scores_image = mglearn.tools.heatmap(\n",
    "    confusion_matrix(y_pred = y_pred_log, y_true = y_test), xlabel = 'Predicted label',\n",
    "    ylabel='True label', xticklabels = ['No Default','Default'],\n",
    "    yticklabels=['No Default','Default'], cmap = plt.cm.gray_r, fmt=\"%d\")\n",
    "plt.title(\"Confusion matrix (Logistic)\")\n",
    "plt.gca().invert_yaxis()"
   ]
  },
  {
   "cell_type": "code",
   "execution_count": 106,
   "metadata": {},
   "outputs": [
    {
     "name": "stdout",
     "output_type": "stream",
     "text": [
      "recall score: 0.00\n"
     ]
    }
   ],
   "source": [
    "Logistic_recallScore = recall_score(y_test, best_logistic.predict(X_test))\n",
    "print(\"recall score: {:.2f}\".format(recall_score(y_test, best_logistic.predict(X_test))))"
   ]
  },
  {
   "cell_type": "code",
   "execution_count": 107,
   "metadata": {},
   "outputs": [
    {
     "name": "stdout",
     "output_type": "stream",
     "text": [
      "precision score: 0.00\n"
     ]
    }
   ],
   "source": [
    "Logistic_precision_score = precision_score(y_test, best_logistic.predict(X_test))\n",
    "print(\"precision score: {:.2f}\".format(precision_score(y_test, best_logistic.predict(X_test))))"
   ]
  },
  {
   "cell_type": "code",
   "execution_count": 108,
   "metadata": {},
   "outputs": [
    {
     "name": "stdout",
     "output_type": "stream",
     "text": [
      "f1 score: 0.00\n"
     ]
    }
   ],
   "source": [
    "Logistic_f1_score = recall_score(y_test,best_logistic.predict(X_test))\n",
    "print(\"f1 score: {:.2f}\".format(f1_score(y_test,best_logistic.predict(X_test))))"
   ]
  },
  {
   "cell_type": "code",
   "execution_count": 109,
   "metadata": {},
   "outputs": [
    {
     "data": {
      "text/plain": [
       "<matplotlib.legend.Legend at 0x1e4f46eec70>"
      ]
     },
     "execution_count": 109,
     "metadata": {},
     "output_type": "execute_result"
    },
    {
     "data": {
      "image/png": "[encoded data removed]",
      "text/plain": [
       "<Figure size 432x288 with 1 Axes>"
      ]
     },
     "metadata": {
      "needs_background": "light"
     },
     "output_type": "display_data"
    }
   ],
   "source": [
    "import mglearn\n",
    "%matplotlib inline\n",
    "\n",
    "precision, recall, thresholds = precision_recall_curve(y_test, best_logistic.predict_proba(X_test)[:,1])\n",
    "\n",
    "close_zero = np.argmin(np.abs(thresholds-0.5))\n",
    "\n",
    "plt.plot(precision[close_zero], recall[close_zero], 'o', markersize=10,\n",
    "         label=\"thresholds-0.5\", fillstyle=\"none\", c='k', mew=2)\n",
    "\n",
    "plt.plot(precision, recall, label=\"Precision recall curve\")\n",
    "plt.xlabel(\"Precision\")\n",
    "plt.ylabel(\"Recall\")\n",
    "plt.legend(loc=\"best\")"
   ]
  },
  {
   "cell_type": "code",
   "execution_count": 110,
   "metadata": {},
   "outputs": [],
   "source": [
    "report_table = report_table + [['Logistic Regression', 'C=100 & max iter =63', best_logistic.score(X_train, y_train)*100, best_logistic.score(X_test, y_test)*100,f1_score(y_test,best_logistic.predict(X_test))]]"
   ]
  },
  {
   "cell_type": "markdown",
   "metadata": {},
   "source": [
    "<b>Result - False Positives is 0, false negatives are 1554 , the recall score is 0.0 and F1 score is 0.0"
   ]
  },
  {
   "cell_type": "markdown",
   "metadata": {},
   "source": [
    "<h3>3. Linear Support Vector Machine Classifier</h3>"
   ]
  },
  {
   "cell_type": "code",
   "execution_count": 111,
   "metadata": {},
   "outputs": [],
   "source": [
    "from sklearn.svm import LinearSVC,SVC\n",
    "\n",
    "c_range = [0.001, 0.01, 0.1, 1, 10, 100, 1000]\n",
    "\n",
    "lin_train_score_list = []\n",
    "lin_test_score_list = []\n",
    "\n",
    "for c in c_range:\n",
    "    lin_svm = LinearSVC(C = c)\n",
    "    lin_svm.fit(X_train, y_train)\n",
    "    lin_train_score_list.append(lin_svm.score(X_train, y_train))\n",
    "    lin_test_score_list.append(lin_svm.score(X_test, y_test))"
   ]
  },
  {
   "cell_type": "code",
   "execution_count": 112,
   "metadata": {},
   "outputs": [
    {
     "data": {
      "text/plain": [
       "<matplotlib.legend.Legend at 0x1e4e06acc10>"
      ]
     },
     "execution_count": 112,
     "metadata": {},
     "output_type": "execute_result"
    },
    {
     "data": {
      "image/png": "[encoded data removed]",
      "text/plain": [
       "<Figure size 432x288 with 1 Axes>"
      ]
     },
     "metadata": {
      "needs_background": "light"
     },
     "output_type": "display_data"
    }
   ],
   "source": [
    "%matplotlib inline\n",
    "\n",
    "plt.plot(c_range, lin_train_score_list, label = 'Train Score', c = 'g')\n",
    "plt.plot(c_range, lin_test_score_list, label = 'Test Score', c = 'b')\n",
    "plt.xscale('log')\n",
    "plt.xlabel('Regularization parameter C')\n",
    "plt.ylabel('Accuracy')\n",
    "plt.legend()"
   ]
  },
  {
   "cell_type": "markdown",
   "metadata": {},
   "source": [
    "> Accuracy drops after C=100"
   ]
  },
  {
   "cell_type": "code",
   "execution_count": 113,
   "metadata": {},
   "outputs": [
    {
     "name": "stdout",
     "output_type": "stream",
     "text": [
      "Train score: 78.9067 %\n",
      "Test score: 79.2800 %\n"
     ]
    }
   ],
   "source": [
    "lin_svm = LinearSVC(C = 100)\n",
    "lin_svm.fit(X_train, y_train)\n",
    "\n",
    "print('Train score: {:.4f} %'.format(lin_svm.score(X_train, y_train)*100))\n",
    "print('Test score: {:.4f} %'.format(lin_svm.score(X_test, y_test)*100))"
   ]
  },
  {
   "cell_type": "markdown",
   "metadata": {},
   "source": [
    "<b>Applying Grid Search with Linear Support Vector Machine Classifier</b>"
   ]
  },
  {
   "cell_type": "code",
   "execution_count": 114,
   "metadata": {},
   "outputs": [
    {
     "name": "stdout",
     "output_type": "stream",
     "text": [
      "Fitting 5 folds for each of 1194 candidates, totalling 5970 fits\n"
     ]
    },
    {
     "name": "stderr",
     "output_type": "stream",
     "text": [
      "[Parallel(n_jobs=-1)]: Using backend LokyBackend with 8 concurrent workers.\n",
      "[Parallel(n_jobs=-1)]: Done  52 tasks      | elapsed:    1.1s\n",
      "[Parallel(n_jobs=-1)]: Done 352 tasks      | elapsed:    9.0s\n",
      "[Parallel(n_jobs=-1)]: Done 852 tasks      | elapsed:   21.8s\n",
      "[Parallel(n_jobs=-1)]: Done 1552 tasks      | elapsed:   49.6s\n",
      "[Parallel(n_jobs=-1)]: Done 2322 tasks      | elapsed:  1.6min\n",
      "[Parallel(n_jobs=-1)]: Done 2872 tasks      | elapsed:  3.7min\n",
      "[Parallel(n_jobs=-1)]: Done 3522 tasks      | elapsed:  5.2min\n",
      "[Parallel(n_jobs=-1)]: Done 4272 tasks      | elapsed:  7.5min\n",
      "[Parallel(n_jobs=-1)]: Done 5122 tasks      | elapsed: 10.3min\n",
      "[Parallel(n_jobs=-1)]: Done 5970 out of 5970 | elapsed: 13.3min finished\n"
     ]
    },
    {
     "name": "stdout",
     "output_type": "stream",
     "text": [
      "{'C': 10, 'max_iter': 152}\n"
     ]
    }
   ],
   "source": [
    "param_grid_linearSVM = { 'max_iter' : range(1,200),'C' : [ 0.01, 0.1, 1, 10, 100, 1000]}\n",
    "\n",
    "CV_linearSVM_class = GridSearchCV(estimator = lin_svm, param_grid = param_grid_linearSVM ,cv = 5, verbose = 1, n_jobs = -1, return_train_score = True)\n",
    "GS_results_linearSVM = CV_linearSVM_class.fit(X_train, y_train)\n",
    "\n",
    "best_parameters_linearSVM_class = CV_linearSVM_class.best_params_\n",
    "print(best_parameters_linearSVM_class)"
   ]
  },
  {
   "cell_type": "code",
   "execution_count": 115,
   "metadata": {},
   "outputs": [
    {
     "name": "stdout",
     "output_type": "stream",
     "text": [
      "Best score- Linear SVM grid serach: \n"
     ]
    },
    {
     "data": {
      "text/plain": [
       "0.7891111111111112"
      ]
     },
     "execution_count": 115,
     "metadata": {},
     "output_type": "execute_result"
    }
   ],
   "source": [
    "print(\"Best score- Linear SVM grid serach: \")\n",
    "GS_results_linearSVM.best_score_\n"
   ]
  },
  {
   "cell_type": "code",
   "execution_count": 116,
   "metadata": {},
   "outputs": [
    {
     "name": "stdout",
     "output_type": "stream",
     "text": [
      "Best parameters- Linear SVM grid serach: \n"
     ]
    },
    {
     "data": {
      "text/plain": [
       "{'C': 10, 'max_iter': 152}"
      ]
     },
     "execution_count": 116,
     "metadata": {},
     "output_type": "execute_result"
    }
   ],
   "source": [
    "print(\"Best parameters- Linear SVM grid serach: \")\n",
    "best_parameters_linearSVM_class\n"
   ]
  },
  {
   "cell_type": "markdown",
   "metadata": {},
   "source": [
    "<b>Using best parameters from GridSearch for Linear SVM Classification</b>"
   ]
  },
  {
   "cell_type": "code",
   "execution_count": 117,
   "metadata": {},
   "outputs": [
    {
     "name": "stdout",
     "output_type": "stream",
     "text": [
      "Train score: 78.9022 %\n",
      "Test score: 79.2667 %\n"
     ]
    }
   ],
   "source": [
    "best_lin_SVM = LinearSVC(C = 10 ,max_iter = 141)\n",
    "best_lin_SVM.fit(X_train, y_train)\n",
    "y_pred_SVM = best_lin_SVM.predict(X_test)\n",
    " \n",
    "print('Train score: {:.4f} %'.format(best_lin_SVM.score(X_train, y_train)*100))\n",
    "print('Test score: {:.4f} %'.format(best_lin_SVM.score(X_test, y_test)*100))"
   ]
  },
  {
   "cell_type": "code",
   "execution_count": 118,
   "metadata": {},
   "outputs": [
    {
     "name": "stdout",
     "output_type": "stream",
     "text": [
      "              precision    recall  f1-score   support\n",
      "\n",
      "         0.0       0.79      1.00      0.88      5946\n",
      "         1.0       0.00      0.00      0.00      1554\n",
      "\n",
      "    accuracy                           0.79      7500\n",
      "   macro avg       0.40      0.50      0.44      7500\n",
      "weighted avg       0.63      0.79      0.70      7500\n",
      "\n"
     ]
    }
   ],
   "source": [
    "print(classification_report(y_pred = y_pred_SVM, y_true = y_test))"
   ]
  },
  {
   "cell_type": "code",
   "execution_count": 119,
   "metadata": {},
   "outputs": [
    {
     "name": "stdout",
     "output_type": "stream",
     "text": [
      "[[5945    1]\n",
      " [1554    0]]\n"
     ]
    }
   ],
   "source": [
    "print(confusion_matrix(y_pred = y_pred_SVM, y_true = y_test))"
   ]
  },
  {
   "cell_type": "code",
   "execution_count": 120,
   "metadata": {},
   "outputs": [
    {
     "data": {
      "image/png": "[encoded data removed]",
      "text/plain": [
       "<Figure size 432x288 with 1 Axes>"
      ]
     },
     "metadata": {
      "needs_background": "light"
     },
     "output_type": "display_data"
    }
   ],
   "source": [
    "%matplotlib inline\n",
    "\n",
    "scores_image = mglearn.tools.heatmap(\n",
    "    confusion_matrix(y_pred = y_pred_SVM, y_true = y_test), xlabel = 'Predicted label',\n",
    "    ylabel='True label', xticklabels = ['No Default','Default'],\n",
    "    yticklabels=['No Default','Default'], cmap = plt.cm.gray_r, fmt=\"%d\")\n",
    "plt.title(\"Confusion matrix (Linear SVM)\")\n",
    "plt.gca().invert_yaxis()"
   ]
  },
  {
   "cell_type": "code",
   "execution_count": 121,
   "metadata": {},
   "outputs": [
    {
     "name": "stdout",
     "output_type": "stream",
     "text": [
      "recall score: 0.00\n"
     ]
    }
   ],
   "source": [
    "LinearSVC_recall_score = recall_score(y_test,best_lin_SVM.predict(X_test))\n",
    "print(\"recall score: {:.2f}\".format(recall_score(y_test, best_lin_SVM.predict(X_test))))"
   ]
  },
  {
   "cell_type": "code",
   "execution_count": 122,
   "metadata": {},
   "outputs": [
    {
     "name": "stdout",
     "output_type": "stream",
     "text": [
      "preision score: 0.00\n"
     ]
    }
   ],
   "source": [
    "LinearSVC_precision_score = precision_score(y_test, best_lin_SVM.predict(X_test))\n",
    "print(\"preision score: {:.2f}\".format(precision_score(y_test,best_lin_SVM.predict(X_test))))"
   ]
  },
  {
   "cell_type": "code",
   "execution_count": 123,
   "metadata": {},
   "outputs": [
    {
     "name": "stdout",
     "output_type": "stream",
     "text": [
      "f1 score: 0.00\n"
     ]
    }
   ],
   "source": [
    "LinearSVC_f1_score = f1_score(y_test,best_lin_SVM.predict(X_test))\n",
    "print(\"f1 score: {:.2f}\".format(f1_score(y_test,best_lin_SVM.predict(X_test))))"
   ]
  },
  {
   "cell_type": "code",
   "execution_count": 124,
   "metadata": {},
   "outputs": [
    {
     "data": {
      "text/plain": [
       "<matplotlib.legend.Legend at 0x1e4f40f4640>"
      ]
     },
     "execution_count": 124,
     "metadata": {},
     "output_type": "execute_result"
    },
    {
     "data": {
      "image/png": "[encoded data removed]",
      "text/plain": [
       "<Figure size 432x288 with 1 Axes>"
      ]
     },
     "metadata": {
      "needs_background": "light"
     },
     "output_type": "display_data"
    }
   ],
   "source": [
    "import mglearn\n",
    "%matplotlib inline\n",
    "\n",
    "precision, recall, thresholds = precision_recall_curve(y_test, best_lin_SVM.decision_function(X_test))\n",
    "\n",
    "close_zero = np.argmin(np.abs(thresholds))\n",
    "\n",
    "plt.plot(precision[close_zero], recall[close_zero], 'o', markersize=10,\n",
    "         label=\"threshold\", fillstyle=\"none\", c='k', mew=2)\n",
    "\n",
    "plt.plot(precision, recall, label=\"precision recall curve\")\n",
    "plt.xlabel(\"Precision\")\n",
    "plt.ylabel(\"Recall\")\n",
    "plt.legend(loc=\"best\")"
   ]
  },
  {
   "cell_type": "markdown",
   "metadata": {},
   "source": [
    "<b>Cross validation scores for Linear Support Vector Machine Classifier with folds</b>"
   ]
  },
  {
   "cell_type": "code",
   "execution_count": 125,
   "metadata": {},
   "outputs": [
    {
     "data": {
      "text/html": [
       "<div>\n",
       "<style scoped>\n",
       "    .dataframe tbody tr th:only-of-type {\n",
       "        vertical-align: middle;\n",
       "    }\n",
       "\n",
       "    .dataframe tbody tr th {\n",
       "        vertical-align: top;\n",
       "    }\n",
       "\n",
       "    .dataframe thead th {\n",
       "        text-align: right;\n",
       "    }\n",
       "</style>\n",
       "<table border=\"1\" class=\"dataframe\">\n",
       "  <thead>\n",
       "    <tr style=\"text-align: right;\">\n",
       "      <th></th>\n",
       "      <th>Cross-validation scores (Linear SVM)</th>\n",
       "    </tr>\n",
       "  </thead>\n",
       "  <tbody>\n",
       "    <tr>\n",
       "      <th>0</th>\n",
       "      <td>0.788889</td>\n",
       "    </tr>\n",
       "    <tr>\n",
       "      <th>1</th>\n",
       "      <td>0.789111</td>\n",
       "    </tr>\n",
       "    <tr>\n",
       "      <th>2</th>\n",
       "      <td>0.789111</td>\n",
       "    </tr>\n",
       "    <tr>\n",
       "      <th>3</th>\n",
       "      <td>0.789111</td>\n",
       "    </tr>\n",
       "    <tr>\n",
       "      <th>4</th>\n",
       "      <td>0.788667</td>\n",
       "    </tr>\n",
       "  </tbody>\n",
       "</table>\n",
       "</div>"
      ],
      "text/plain": [
       "   Cross-validation scores (Linear SVM)\n",
       "0                              0.788889\n",
       "1                              0.789111\n",
       "2                              0.789111\n",
       "3                              0.789111\n",
       "4                              0.788667"
      ]
     },
     "execution_count": 125,
     "metadata": {},
     "output_type": "execute_result"
    }
   ],
   "source": [
    "svm_cls_scores = cross_val_score(best_lin_SVM, X_train, y_train, cv=5)\n",
    "\n",
    "pd.DataFrame({'Cross-validation scores (Linear SVM)':svm_cls_scores })"
   ]
  },
  {
   "cell_type": "code",
   "execution_count": 126,
   "metadata": {
    "scrolled": true
   },
   "outputs": [
    {
     "name": "stdout",
     "output_type": "stream",
     "text": [
      "Average cross-validation score: 0.79\n"
     ]
    }
   ],
   "source": [
    "print(\"Average cross-validation score: {:.2f}\".format(svm_cls_scores.mean()))"
   ]
  },
  {
   "cell_type": "code",
   "execution_count": 127,
   "metadata": {},
   "outputs": [],
   "source": [
    "report_table = report_table + [['Linear SVM Classifier', 'C=10 & Max_iter=141', best_lin_SVM.score(X_train, y_train)*100, best_lin_SVM.score(X_test, y_test)*100,f1_score(y_test,best_lin_SVM.predict(X_test))]]"
   ]
  },
  {
   "cell_type": "markdown",
   "metadata": {},
   "source": [
    "<b>For Linear SVM Classifier , there are 0 False Positives and 1554 False Negative, recall value 0.0 and F1 score is 0.0"
   ]
  },
  {
   "cell_type": "markdown",
   "metadata": {},
   "source": [
    "<h3>4. Kernalized Support Vector Machine</h3>"
   ]
  },
  {
   "cell_type": "markdown",
   "metadata": {},
   "source": [
    "<b>Sample of 30000 for Kernalized SVM will be too computationally expensive. We can reduce sample size to 1500 to run this model</b>"
   ]
  },
  {
   "cell_type": "code",
   "execution_count": 128,
   "metadata": {},
   "outputs": [
    {
     "data": {
      "text/plain": [
       "(1500, 24)"
      ]
     },
     "execution_count": 128,
     "metadata": {},
     "output_type": "execute_result"
    }
   ],
   "source": [
    "cc_new = cc_df.sample(n = 1500, random_state= 2)\n",
    "\n",
    "cc_new.shape"
   ]
  },
  {
   "cell_type": "code",
   "execution_count": 129,
   "metadata": {},
   "outputs": [],
   "source": [
    "#Making train test split\n",
    "\n",
    "X_sample = cc_new.drop(['Default'],axis =1)\n",
    "\n",
    "y_sample = cc_new['Default']\n",
    "\n",
    "X_train_org_sample, X_test_org_sample, y_train_sample, y_test_sample = train_test_split(X_sample, y_sample, random_state = 2)"
   ]
  },
  {
   "cell_type": "code",
   "execution_count": 130,
   "metadata": {},
   "outputs": [
    {
     "data": {
      "text/html": [
       "<div>\n",
       "<style scoped>\n",
       "    .dataframe tbody tr th:only-of-type {\n",
       "        vertical-align: middle;\n",
       "    }\n",
       "\n",
       "    .dataframe tbody tr th {\n",
       "        vertical-align: top;\n",
       "    }\n",
       "\n",
       "    .dataframe thead th {\n",
       "        text-align: right;\n",
       "    }\n",
       "</style>\n",
       "<table border=\"1\" class=\"dataframe\">\n",
       "  <thead>\n",
       "    <tr style=\"text-align: right;\">\n",
       "      <th></th>\n",
       "      <th>0</th>\n",
       "      <th>1</th>\n",
       "      <th>2</th>\n",
       "      <th>3</th>\n",
       "      <th>4</th>\n",
       "      <th>5</th>\n",
       "      <th>6</th>\n",
       "      <th>7</th>\n",
       "      <th>8</th>\n",
       "      <th>9</th>\n",
       "      <th>...</th>\n",
       "      <th>13</th>\n",
       "      <th>14</th>\n",
       "      <th>15</th>\n",
       "      <th>16</th>\n",
       "      <th>17</th>\n",
       "      <th>18</th>\n",
       "      <th>19</th>\n",
       "      <th>20</th>\n",
       "      <th>21</th>\n",
       "      <th>22</th>\n",
       "    </tr>\n",
       "  </thead>\n",
       "  <tbody>\n",
       "    <tr>\n",
       "      <th>0</th>\n",
       "      <td>0.444444</td>\n",
       "      <td>0.0</td>\n",
       "      <td>0.333333</td>\n",
       "      <td>0.0</td>\n",
       "      <td>0.693878</td>\n",
       "      <td>0.003072</td>\n",
       "      <td>0.000226</td>\n",
       "      <td>0.000462</td>\n",
       "      <td>0.000231</td>\n",
       "      <td>0.000231</td>\n",
       "      <td>...</td>\n",
       "      <td>0.039597</td>\n",
       "      <td>0.043905</td>\n",
       "      <td>0.060320</td>\n",
       "      <td>0.050719</td>\n",
       "      <td>0.016542</td>\n",
       "      <td>0.000000</td>\n",
       "      <td>0.004067</td>\n",
       "      <td>0.006807</td>\n",
       "      <td>0.005154</td>\n",
       "      <td>0.003783</td>\n",
       "    </tr>\n",
       "    <tr>\n",
       "      <th>1</th>\n",
       "      <td>0.126984</td>\n",
       "      <td>1.0</td>\n",
       "      <td>0.666667</td>\n",
       "      <td>0.5</td>\n",
       "      <td>0.693878</td>\n",
       "      <td>0.006144</td>\n",
       "      <td>0.000452</td>\n",
       "      <td>0.000231</td>\n",
       "      <td>0.000231</td>\n",
       "      <td>0.000231</td>\n",
       "      <td>...</td>\n",
       "      <td>0.149041</td>\n",
       "      <td>0.079407</td>\n",
       "      <td>0.097532</td>\n",
       "      <td>0.066775</td>\n",
       "      <td>0.026680</td>\n",
       "      <td>0.010521</td>\n",
       "      <td>0.012202</td>\n",
       "      <td>0.020422</td>\n",
       "      <td>0.005154</td>\n",
       "      <td>0.003783</td>\n",
       "    </tr>\n",
       "    <tr>\n",
       "      <th>2</th>\n",
       "      <td>0.031746</td>\n",
       "      <td>1.0</td>\n",
       "      <td>0.333333</td>\n",
       "      <td>1.0</td>\n",
       "      <td>0.040816</td>\n",
       "      <td>0.003072</td>\n",
       "      <td>1.000000</td>\n",
       "      <td>0.000231</td>\n",
       "      <td>0.000231</td>\n",
       "      <td>0.000231</td>\n",
       "      <td>...</td>\n",
       "      <td>0.057624</td>\n",
       "      <td>0.063525</td>\n",
       "      <td>0.110173</td>\n",
       "      <td>0.051008</td>\n",
       "      <td>0.037929</td>\n",
       "      <td>0.012275</td>\n",
       "      <td>0.008135</td>\n",
       "      <td>0.023826</td>\n",
       "      <td>0.005154</td>\n",
       "      <td>0.001892</td>\n",
       "    </tr>\n",
       "    <tr>\n",
       "      <th>3</th>\n",
       "      <td>0.031746</td>\n",
       "      <td>0.0</td>\n",
       "      <td>0.333333</td>\n",
       "      <td>0.5</td>\n",
       "      <td>0.285714</td>\n",
       "      <td>0.004608</td>\n",
       "      <td>0.000452</td>\n",
       "      <td>0.000462</td>\n",
       "      <td>0.000462</td>\n",
       "      <td>0.000116</td>\n",
       "      <td>...</td>\n",
       "      <td>0.055953</td>\n",
       "      <td>0.052133</td>\n",
       "      <td>0.081419</td>\n",
       "      <td>0.063131</td>\n",
       "      <td>0.006665</td>\n",
       "      <td>0.007063</td>\n",
       "      <td>0.000024</td>\n",
       "      <td>0.174949</td>\n",
       "      <td>0.002061</td>\n",
       "      <td>0.003762</td>\n",
       "    </tr>\n",
       "    <tr>\n",
       "      <th>4</th>\n",
       "      <td>0.650794</td>\n",
       "      <td>1.0</td>\n",
       "      <td>0.666667</td>\n",
       "      <td>1.0</td>\n",
       "      <td>0.163265</td>\n",
       "      <td>0.003072</td>\n",
       "      <td>0.000226</td>\n",
       "      <td>0.000231</td>\n",
       "      <td>0.000231</td>\n",
       "      <td>0.000231</td>\n",
       "      <td>...</td>\n",
       "      <td>0.454001</td>\n",
       "      <td>0.513116</td>\n",
       "      <td>0.564535</td>\n",
       "      <td>0.555447</td>\n",
       "      <td>0.066649</td>\n",
       "      <td>0.035772</td>\n",
       "      <td>0.044740</td>\n",
       "      <td>0.146358</td>\n",
       "      <td>0.030922</td>\n",
       "      <td>0.028373</td>\n",
       "    </tr>\n",
       "  </tbody>\n",
       "</table>\n",
       "<p>5 rows × 23 columns</p>\n",
       "</div>"
      ],
      "text/plain": [
       "         0    1         2    3         4         5         6         7   \\\n",
       "0  0.444444  0.0  0.333333  0.0  0.693878  0.003072  0.000226  0.000462   \n",
       "1  0.126984  1.0  0.666667  0.5  0.693878  0.006144  0.000452  0.000231   \n",
       "2  0.031746  1.0  0.333333  1.0  0.040816  0.003072  1.000000  0.000231   \n",
       "3  0.031746  0.0  0.333333  0.5  0.285714  0.004608  0.000452  0.000462   \n",
       "4  0.650794  1.0  0.666667  1.0  0.163265  0.003072  0.000226  0.000231   \n",
       "\n",
       "         8         9   ...        13        14        15        16        17  \\\n",
       "0  0.000231  0.000231  ...  0.039597  0.043905  0.060320  0.050719  0.016542   \n",
       "1  0.000231  0.000231  ...  0.149041  0.079407  0.097532  0.066775  0.026680   \n",
       "2  0.000231  0.000231  ...  0.057624  0.063525  0.110173  0.051008  0.037929   \n",
       "3  0.000462  0.000116  ...  0.055953  0.052133  0.081419  0.063131  0.006665   \n",
       "4  0.000231  0.000231  ...  0.454001  0.513116  0.564535  0.555447  0.066649   \n",
       "\n",
       "         18        19        20        21        22  \n",
       "0  0.000000  0.004067  0.006807  0.005154  0.003783  \n",
       "1  0.010521  0.012202  0.020422  0.005154  0.003783  \n",
       "2  0.012275  0.008135  0.023826  0.005154  0.001892  \n",
       "3  0.007063  0.000024  0.174949  0.002061  0.003762  \n",
       "4  0.035772  0.044740  0.146358  0.030922  0.028373  \n",
       "\n",
       "[5 rows x 23 columns]"
      ]
     },
     "execution_count": 130,
     "metadata": {},
     "output_type": "execute_result"
    }
   ],
   "source": [
    "scaler_new = MinMaxScaler()\n",
    "X_train_sample = scaler_new.fit_transform(X_train_org_sample)\n",
    "pd.DataFrame(X_train_sample).head()"
   ]
  },
  {
   "cell_type": "code",
   "execution_count": 131,
   "metadata": {},
   "outputs": [
    {
     "data": {
      "text/html": [
       "<div>\n",
       "<style scoped>\n",
       "    .dataframe tbody tr th:only-of-type {\n",
       "        vertical-align: middle;\n",
       "    }\n",
       "\n",
       "    .dataframe tbody tr th {\n",
       "        vertical-align: top;\n",
       "    }\n",
       "\n",
       "    .dataframe thead th {\n",
       "        text-align: right;\n",
       "    }\n",
       "</style>\n",
       "<table border=\"1\" class=\"dataframe\">\n",
       "  <thead>\n",
       "    <tr style=\"text-align: right;\">\n",
       "      <th></th>\n",
       "      <th>0</th>\n",
       "      <th>1</th>\n",
       "      <th>2</th>\n",
       "      <th>3</th>\n",
       "      <th>4</th>\n",
       "      <th>5</th>\n",
       "      <th>6</th>\n",
       "      <th>7</th>\n",
       "      <th>8</th>\n",
       "      <th>9</th>\n",
       "      <th>...</th>\n",
       "      <th>13</th>\n",
       "      <th>14</th>\n",
       "      <th>15</th>\n",
       "      <th>16</th>\n",
       "      <th>17</th>\n",
       "      <th>18</th>\n",
       "      <th>19</th>\n",
       "      <th>20</th>\n",
       "      <th>21</th>\n",
       "      <th>22</th>\n",
       "    </tr>\n",
       "  </thead>\n",
       "  <tbody>\n",
       "    <tr>\n",
       "      <th>0</th>\n",
       "      <td>0.269841</td>\n",
       "      <td>1.0</td>\n",
       "      <td>0.666667</td>\n",
       "      <td>1.0</td>\n",
       "      <td>0.081633</td>\n",
       "      <td>0.003072</td>\n",
       "      <td>0.000226</td>\n",
       "      <td>0.000231</td>\n",
       "      <td>0.000231</td>\n",
       "      <td>0.000462</td>\n",
       "      <td>...</td>\n",
       "      <td>0.034387</td>\n",
       "      <td>0.039705</td>\n",
       "      <td>0.054136</td>\n",
       "      <td>0.043059</td>\n",
       "      <td>0.008378</td>\n",
       "      <td>0.003938</td>\n",
       "      <td>0.007638</td>\n",
       "      <td>0.000000</td>\n",
       "      <td>0.002577</td>\n",
       "      <td>0.000000</td>\n",
       "    </tr>\n",
       "    <tr>\n",
       "      <th>1</th>\n",
       "      <td>0.063492</td>\n",
       "      <td>0.0</td>\n",
       "      <td>0.333333</td>\n",
       "      <td>1.0</td>\n",
       "      <td>0.428571</td>\n",
       "      <td>0.001536</td>\n",
       "      <td>0.000113</td>\n",
       "      <td>1.000000</td>\n",
       "      <td>0.000231</td>\n",
       "      <td>0.000231</td>\n",
       "      <td>...</td>\n",
       "      <td>0.046782</td>\n",
       "      <td>0.050950</td>\n",
       "      <td>0.064725</td>\n",
       "      <td>0.052719</td>\n",
       "      <td>0.151027</td>\n",
       "      <td>0.004559</td>\n",
       "      <td>0.002111</td>\n",
       "      <td>0.032752</td>\n",
       "      <td>0.001327</td>\n",
       "      <td>0.000999</td>\n",
       "    </tr>\n",
       "    <tr>\n",
       "      <th>2</th>\n",
       "      <td>0.015873</td>\n",
       "      <td>0.0</td>\n",
       "      <td>0.666667</td>\n",
       "      <td>1.0</td>\n",
       "      <td>0.081633</td>\n",
       "      <td>0.004608</td>\n",
       "      <td>0.000452</td>\n",
       "      <td>0.000578</td>\n",
       "      <td>0.000462</td>\n",
       "      <td>0.000231</td>\n",
       "      <td>...</td>\n",
       "      <td>0.096721</td>\n",
       "      <td>0.059858</td>\n",
       "      <td>0.074398</td>\n",
       "      <td>0.060809</td>\n",
       "      <td>0.021994</td>\n",
       "      <td>0.000000</td>\n",
       "      <td>0.000000</td>\n",
       "      <td>0.000014</td>\n",
       "      <td>0.000990</td>\n",
       "      <td>0.004706</td>\n",
       "    </tr>\n",
       "    <tr>\n",
       "      <th>3</th>\n",
       "      <td>0.380952</td>\n",
       "      <td>1.0</td>\n",
       "      <td>0.333333</td>\n",
       "      <td>0.5</td>\n",
       "      <td>0.530612</td>\n",
       "      <td>0.001536</td>\n",
       "      <td>0.000113</td>\n",
       "      <td>0.000116</td>\n",
       "      <td>0.000116</td>\n",
       "      <td>1.000000</td>\n",
       "      <td>...</td>\n",
       "      <td>0.101062</td>\n",
       "      <td>0.059353</td>\n",
       "      <td>0.137578</td>\n",
       "      <td>0.105634</td>\n",
       "      <td>0.070748</td>\n",
       "      <td>0.174740</td>\n",
       "      <td>0.080801</td>\n",
       "      <td>0.381715</td>\n",
       "      <td>0.117100</td>\n",
       "      <td>0.056588</td>\n",
       "    </tr>\n",
       "    <tr>\n",
       "      <th>4</th>\n",
       "      <td>0.095238</td>\n",
       "      <td>1.0</td>\n",
       "      <td>0.666667</td>\n",
       "      <td>0.0</td>\n",
       "      <td>0.061224</td>\n",
       "      <td>0.004608</td>\n",
       "      <td>0.000452</td>\n",
       "      <td>0.000231</td>\n",
       "      <td>0.000231</td>\n",
       "      <td>0.000231</td>\n",
       "      <td>...</td>\n",
       "      <td>0.028398</td>\n",
       "      <td>0.027136</td>\n",
       "      <td>0.040830</td>\n",
       "      <td>0.029401</td>\n",
       "      <td>0.000000</td>\n",
       "      <td>0.005261</td>\n",
       "      <td>0.000000</td>\n",
       "      <td>0.000000</td>\n",
       "      <td>0.002894</td>\n",
       "      <td>0.000000</td>\n",
       "    </tr>\n",
       "  </tbody>\n",
       "</table>\n",
       "<p>5 rows × 23 columns</p>\n",
       "</div>"
      ],
      "text/plain": [
       "         0    1         2    3         4         5         6         7   \\\n",
       "0  0.269841  1.0  0.666667  1.0  0.081633  0.003072  0.000226  0.000231   \n",
       "1  0.063492  0.0  0.333333  1.0  0.428571  0.001536  0.000113  1.000000   \n",
       "2  0.015873  0.0  0.666667  1.0  0.081633  0.004608  0.000452  0.000578   \n",
       "3  0.380952  1.0  0.333333  0.5  0.530612  0.001536  0.000113  0.000116   \n",
       "4  0.095238  1.0  0.666667  0.0  0.061224  0.004608  0.000452  0.000231   \n",
       "\n",
       "         8         9   ...        13        14        15        16        17  \\\n",
       "0  0.000231  0.000462  ...  0.034387  0.039705  0.054136  0.043059  0.008378   \n",
       "1  0.000231  0.000231  ...  0.046782  0.050950  0.064725  0.052719  0.151027   \n",
       "2  0.000462  0.000231  ...  0.096721  0.059858  0.074398  0.060809  0.021994   \n",
       "3  0.000116  1.000000  ...  0.101062  0.059353  0.137578  0.105634  0.070748   \n",
       "4  0.000231  0.000231  ...  0.028398  0.027136  0.040830  0.029401  0.000000   \n",
       "\n",
       "         18        19        20        21        22  \n",
       "0  0.003938  0.007638  0.000000  0.002577  0.000000  \n",
       "1  0.004559  0.002111  0.032752  0.001327  0.000999  \n",
       "2  0.000000  0.000000  0.000014  0.000990  0.004706  \n",
       "3  0.174740  0.080801  0.381715  0.117100  0.056588  \n",
       "4  0.005261  0.000000  0.000000  0.002894  0.000000  \n",
       "\n",
       "[5 rows x 23 columns]"
      ]
     },
     "execution_count": 131,
     "metadata": {},
     "output_type": "execute_result"
    }
   ],
   "source": [
    "X_test_sample = scaler_new.transform(X_test_org_sample)\n",
    "pd.DataFrame(X_test_sample).head()"
   ]
  },
  {
   "cell_type": "code",
   "execution_count": 132,
   "metadata": {},
   "outputs": [
    {
     "name": "stdout",
     "output_type": "stream",
     "text": [
      "X_train: (1125, 23)\n",
      "y_train: (1125,)\n",
      "X_test: (375, 23)\n",
      "y_test: (375,)\n"
     ]
    }
   ],
   "source": [
    "print(\"X_train:\",X_train_sample.shape)\n",
    "print(\"y_train:\",y_train_sample.shape)\n",
    "print(\"X_test:\",X_test_sample.shape)\n",
    "print(\"y_test:\",y_test_sample.shape)"
   ]
  },
  {
   "cell_type": "code",
   "execution_count": 133,
   "metadata": {},
   "outputs": [],
   "source": [
    "%matplotlib inline\n",
    "\n",
    "from mlxtend.plotting import plot_decision_regions\n",
    "from sklearn import svm\n",
    "from sklearn.svm import LinearSVC\n",
    "from sklearn import metrics"
   ]
  },
  {
   "cell_type": "code",
   "execution_count": 134,
   "metadata": {},
   "outputs": [],
   "source": [
    "c_range = [0.001,0.01, 0.1, 1, 10,100]\n",
    "\n",
    "train_score_list = []\n",
    "test_score_list = []\n",
    "for C in c_range:\n",
    "    \n",
    "    kernal_clf = svm.SVC(kernel = 'linear', C = C)\n",
    "    kernal_clf.fit(X_train_sample,y_train_sample) \n",
    "    train_score_list.append(kernal_clf.score(X_train_sample,y_train_sample))\n",
    "    test_score_list.append(kernal_clf.score(X_test_sample, y_test_sample))"
   ]
  },
  {
   "cell_type": "code",
   "execution_count": 135,
   "metadata": {},
   "outputs": [
    {
     "data": {
      "text/plain": [
       "<matplotlib.legend.Legend at 0x1e4f5d0c2e0>"
      ]
     },
     "execution_count": 135,
     "metadata": {},
     "output_type": "execute_result"
    },
    {
     "data": {
      "image/png": "[encoded data removed]",
      "text/plain": [
       "<Figure size 432x288 with 1 Axes>"
      ]
     },
     "metadata": {
      "needs_background": "light"
     },
     "output_type": "display_data"
    }
   ],
   "source": [
    "%matplotlib inline\n",
    "plt.plot(c_range, train_score_list, label = 'Train Score', c = 'g')\n",
    "plt.plot(c_range, test_score_list, label = 'Test Score', c='b')\n",
    "plt.xscale('log')\n",
    "plt.xlabel('Regularization Parameter C')\n",
    "plt.ylabel('Accuracy')\n",
    "\n",
    "plt.legend()"
   ]
  },
  {
   "cell_type": "code",
   "execution_count": 136,
   "metadata": {},
   "outputs": [
    {
     "name": "stdout",
     "output_type": "stream",
     "text": [
      "train score 78.9333 %\n",
      "test score: 75.7333 %\n"
     ]
    }
   ],
   "source": [
    "kernal_clf = svm.SVC(kernel = 'linear', C = 0.001)\n",
    "kernal_clf.fit(X_train_sample, y_train_sample) \n",
    "print(\"train score {:.4f} %\".format(kernal_clf.score(X_train_sample, y_train_sample)*100))\n",
    "print(\"test score: {:.4f} %\".format(kernal_clf.score(X_test_sample, y_test_sample)*100))"
   ]
  },
  {
   "cell_type": "markdown",
   "metadata": {},
   "source": [
    "<b>Grid search with SVM including cross validation</b>"
   ]
  },
  {
   "cell_type": "code",
   "execution_count": 138,
   "metadata": {},
   "outputs": [
    {
     "data": {
      "text/plain": [
       "SVC(C=0.001, gamma=0.001)"
      ]
     },
     "execution_count": 138,
     "metadata": {},
     "output_type": "execute_result"
    }
   ],
   "source": [
    "best_score=0\n",
    "\n",
    "for gamma in [0.001, 0.01, 0.1, 1, 10, 100]:\n",
    "    for C in [0.001, 0.01, 0.1, 1, 10, 100]:\n",
    "        \n",
    "        # for each combination of parameters,\n",
    "        # train an SVC\n",
    "        svm = SVC(gamma = gamma, C=C)\n",
    "        \n",
    "        # perform cross-validation\n",
    "        CV_scores = cross_val_score(svm, X_train_sample, y_train_sample, cv=5)\n",
    "        \n",
    "        # compute mean cross-validation accuracy\n",
    "        CV_score = np.mean(CV_scores)\n",
    "        \n",
    "        # if we got a better score, store the score and parameters\n",
    "        if CV_score > best_score:\n",
    "            best_score = CV_score\n",
    "            best_parameters = {'C': C, 'gamma': gamma}\n",
    "            \n",
    "# rebuild a model on the combined training and validation set\n",
    "svm = SVC(**best_parameters)\n",
    "svm.fit(X_train_sample, y_train_sample)"
   ]
  },
  {
   "cell_type": "code",
   "execution_count": 139,
   "metadata": {},
   "outputs": [],
   "source": [
    "kernelSVC_params = {'C':[0.001, 0.01, 0.1, 1, 10, 100],'gamma':[0.001, 0.01, 0.1, 1, 10, 100], 'kernel':['rbf','poly','linear']}"
   ]
  },
  {
   "cell_type": "code",
   "execution_count": 140,
   "metadata": {},
   "outputs": [
    {
     "data": {
      "text/plain": [
       "GridSearchCV(cv=5, estimator=SVC(), n_jobs=-1,\n",
       "             param_grid={'C': [0.001, 0.01, 0.1, 1, 10, 100],\n",
       "                         'gamma': [0.001, 0.01, 0.1, 1, 10, 100],\n",
       "                         'kernel': ['rbf', 'poly', 'linear']},\n",
       "             return_train_score=True)"
      ]
     },
     "execution_count": 140,
     "metadata": {},
     "output_type": "execute_result"
    }
   ],
   "source": [
    "from sklearn.model_selection import GridSearchCV\n",
    "\n",
    "KernelSVC = SVC()\n",
    "GS_KernelSVC = GridSearchCV(KernelSVC, kernelSVC_params, cv = 5, return_train_score= True, n_jobs= -1)\n",
    "GS_KernelSVC.fit(X_train_sample,y_train_sample)"
   ]
  },
  {
   "cell_type": "code",
   "execution_count": 141,
   "metadata": {},
   "outputs": [
    {
     "name": "stdout",
     "output_type": "stream",
     "text": [
      "Best score- Kernelized SVM grid serach: \n"
     ]
    },
    {
     "data": {
      "text/plain": [
       "0.7893333333333334"
      ]
     },
     "execution_count": 141,
     "metadata": {},
     "output_type": "execute_result"
    }
   ],
   "source": [
    "print(\"Best score- Kernelized SVM grid serach: \")\n",
    "GS_KernelSVC.best_score_\n"
   ]
  },
  {
   "cell_type": "code",
   "execution_count": 142,
   "metadata": {},
   "outputs": [
    {
     "name": "stdout",
     "output_type": "stream",
     "text": [
      "Best parameters- Kernelized SVM grid serach: \n"
     ]
    },
    {
     "data": {
      "text/plain": [
       "{'C': 0.001, 'gamma': 0.001, 'kernel': 'rbf'}"
      ]
     },
     "execution_count": 142,
     "metadata": {},
     "output_type": "execute_result"
    }
   ],
   "source": [
    "print(\"Best parameters- Kernelized SVM grid serach: \")\n",
    "GS_KernelSVC.best_params_\n"
   ]
  },
  {
   "cell_type": "markdown",
   "metadata": {},
   "source": [
    "<b> a. Kernel Type : 'rbf'"
   ]
  },
  {
   "cell_type": "code",
   "execution_count": 143,
   "metadata": {},
   "outputs": [
    {
     "name": "stdout",
     "output_type": "stream",
     "text": [
      "[LibSVM]Train score: 78.9333 %\n",
      "Test score: 75.7333 %\n"
     ]
    }
   ],
   "source": [
    "best_svm_rbf = SVC(C = 0.001, cache_size = 200, gamma = 0.001, kernel= 'rbf', verbose = True)\n",
    "\n",
    "best_svm_rbf.fit(X_train_sample,y_train_sample)\n",
    "y_pred_kernel_rbf = best_svm_rbf.predict(X_test_sample)\n",
    "\n",
    "print('Train score: {:.4f} %'.format(best_svm_rbf.score(X_train_sample, y_train_sample)*100))\n",
    "print('Test score: {:.4f} %'.format(best_svm_rbf.score(X_test_sample, y_test_sample)*100))"
   ]
  },
  {
   "cell_type": "code",
   "execution_count": 144,
   "metadata": {},
   "outputs": [
    {
     "name": "stdout",
     "output_type": "stream",
     "text": [
      "              precision    recall  f1-score   support\n",
      "\n",
      "         0.0       1.00      0.76      0.86       375\n",
      "         1.0       0.00      0.00      0.00         0\n",
      "\n",
      "    accuracy                           0.76       375\n",
      "   macro avg       0.50      0.38      0.43       375\n",
      "weighted avg       1.00      0.76      0.86       375\n",
      "\n"
     ]
    }
   ],
   "source": [
    "print(classification_report(y_pred_kernel_rbf,y_test_sample))"
   ]
  },
  {
   "cell_type": "code",
   "execution_count": 145,
   "metadata": {},
   "outputs": [
    {
     "name": "stdout",
     "output_type": "stream",
     "text": [
      "[[284   0]\n",
      " [ 91   0]]\n"
     ]
    }
   ],
   "source": [
    "print(confusion_matrix(y_pred = y_pred_kernel_rbf,y_true = y_test_sample))"
   ]
  },
  {
   "cell_type": "code",
   "execution_count": 146,
   "metadata": {},
   "outputs": [
    {
     "data": {
      "image/png": "[encoded data removed]",
      "text/plain": [
       "<Figure size 432x288 with 1 Axes>"
      ]
     },
     "metadata": {
      "needs_background": "light"
     },
     "output_type": "display_data"
    }
   ],
   "source": [
    "%matplotlib inline\n",
    "\n",
    "scores_image = mglearn.tools.heatmap(\n",
    "    confusion_matrix(y_pred = y_pred_kernel_rbf, y_true = y_test_sample), xlabel = 'Predicted label',\n",
    "    ylabel='True label', xticklabels = ['No Default','Default'],\n",
    "    yticklabels=['No Default','Default'], cmap = plt.cm.gray_r, fmt = \"%d\")\n",
    "plt.title(\"Confusion matrix (Kernalized rbf SVM)\")\n",
    "plt.gca().invert_yaxis()"
   ]
  },
  {
   "cell_type": "code",
   "execution_count": 147,
   "metadata": {},
   "outputs": [
    {
     "name": "stdout",
     "output_type": "stream",
     "text": [
      "Recall score: 0.00\n"
     ]
    }
   ],
   "source": [
    "KernalizedSVM_rbf_recall_score = recall_score(y_test_sample, best_svm_rbf.predict(X_test_sample))\n",
    "print(\"Recall score: {:.2f}\".format(recall_score(y_test_sample, best_svm_rbf.predict(X_test_sample))))"
   ]
  },
  {
   "cell_type": "code",
   "execution_count": 148,
   "metadata": {},
   "outputs": [
    {
     "name": "stdout",
     "output_type": "stream",
     "text": [
      "Preision score: 0.00\n"
     ]
    }
   ],
   "source": [
    "KernalizedSVM_rbf_precision_score = precision_score(y_test_sample, best_svm_rbf.predict(X_test_sample))\n",
    "print(\"Preision score: {:.2f}\".format(precision_score(y_test_sample, best_svm_rbf.predict(X_test_sample))))"
   ]
  },
  {
   "cell_type": "code",
   "execution_count": 149,
   "metadata": {},
   "outputs": [
    {
     "name": "stdout",
     "output_type": "stream",
     "text": [
      "F1 score: 0.00\n"
     ]
    }
   ],
   "source": [
    "KernalizedSVM_rbf_f1_score = f1_score(y_test_sample, best_svm_rbf.predict(X_test_sample))\n",
    "print(\"F1 score: {:.2f}\".format(f1_score(y_test_sample, best_svm_rbf.predict(X_test_sample))))"
   ]
  },
  {
   "cell_type": "code",
   "execution_count": 150,
   "metadata": {},
   "outputs": [],
   "source": [
    "report_table = report_table + [['Kernalized SVM rbg Classifier', 'C=0.001 & gamma = 0.001' , best_svm_rbf.score(X_train_sample, y_train_sample)*100, best_svm_rbf.score(X_test_sample, y_test_sample)*100,f1_score(y_test_sample, best_svm_rbf.predict(X_test_sample))]]"
   ]
  },
  {
   "cell_type": "markdown",
   "metadata": {},
   "source": [
    "<b>For Kernelized SVM rbf classifier with small data , there are 0 False Positives and 91 False Negative, recall value 0.0 and F1 score is 0.0"
   ]
  },
  {
   "cell_type": "markdown",
   "metadata": {},
   "source": [
    "<b> b. Kernel Type : 'Linear'"
   ]
  },
  {
   "cell_type": "code",
   "execution_count": 152,
   "metadata": {},
   "outputs": [
    {
     "name": "stdout",
     "output_type": "stream",
     "text": [
      "[LibSVM]Train score: 78.9333 %\n",
      "Test score: 75.7333 %\n"
     ]
    }
   ],
   "source": [
    "best_svm_linear = SVC(C = 0.001, cache_size = 200, gamma = 0.001, kernel= 'linear', verbose = True)\n",
    "\n",
    "best_svm_linear.fit(X_train_sample,y_train_sample)\n",
    "y_pred_kernel_linear = best_svm_linear.predict(X_test_sample)\n",
    "\n",
    "print('Train score: {:.4f} %'.format(best_svm_linear.score(X_train_sample, y_train_sample)*100))\n",
    "print('Test score: {:.4f} %'.format(best_svm_linear.score(X_test_sample, y_test_sample)*100))"
   ]
  },
  {
   "cell_type": "code",
   "execution_count": 153,
   "metadata": {},
   "outputs": [
    {
     "name": "stdout",
     "output_type": "stream",
     "text": [
      "              precision    recall  f1-score   support\n",
      "\n",
      "         0.0       1.00      0.76      0.86       375\n",
      "         1.0       0.00      0.00      0.00         0\n",
      "\n",
      "    accuracy                           0.76       375\n",
      "   macro avg       0.50      0.38      0.43       375\n",
      "weighted avg       1.00      0.76      0.86       375\n",
      "\n"
     ]
    }
   ],
   "source": [
    "print(classification_report(y_pred_kernel_linear,y_test_sample))"
   ]
  },
  {
   "cell_type": "code",
   "execution_count": 154,
   "metadata": {},
   "outputs": [
    {
     "name": "stdout",
     "output_type": "stream",
     "text": [
      "[[284   0]\n",
      " [ 91   0]]\n"
     ]
    }
   ],
   "source": [
    "print(confusion_matrix(y_pred = y_pred_kernel_linear,y_true = y_test_sample))"
   ]
  },
  {
   "cell_type": "code",
   "execution_count": 155,
   "metadata": {},
   "outputs": [
    {
     "data": {
      "image/png": "[encoded data removed]",
      "text/plain": [
       "<Figure size 432x288 with 1 Axes>"
      ]
     },
     "metadata": {
      "needs_background": "light"
     },
     "output_type": "display_data"
    }
   ],
   "source": [
    "%matplotlib inline\n",
    "\n",
    "scores_image = mglearn.tools.heatmap(\n",
    "    confusion_matrix(y_pred = y_pred_kernel_linear, y_true = y_test_sample), xlabel = 'Predicted label',\n",
    "    ylabel='True label', xticklabels = ['No Default','Default'],\n",
    "    yticklabels=['No Default','Default'], cmap = plt.cm.gray_r, fmt = \"%d\")\n",
    "plt.title(\"Confusion matrix (Kernalized Linear SVM)\")\n",
    "plt.gca().invert_yaxis()"
   ]
  },
  {
   "cell_type": "code",
   "execution_count": 156,
   "metadata": {},
   "outputs": [
    {
     "name": "stdout",
     "output_type": "stream",
     "text": [
      "Recall score: 0.00\n"
     ]
    }
   ],
   "source": [
    "KernalizedSVM_linear_recall_score = recall_score(y_test_sample, best_svm_linear.predict(X_test_sample))\n",
    "print(\"Recall score: {:.2f}\".format(recall_score(y_test_sample, best_svm_linear.predict(X_test_sample))))"
   ]
  },
  {
   "cell_type": "code",
   "execution_count": 157,
   "metadata": {},
   "outputs": [
    {
     "name": "stdout",
     "output_type": "stream",
     "text": [
      "Preision score: 0.00\n"
     ]
    }
   ],
   "source": [
    "KernalizedSVM_linear_precision_score = precision_score(y_test_sample, best_svm_linear.predict(X_test_sample))\n",
    "print(\"Preision score: {:.2f}\".format(precision_score(y_test_sample, best_svm_linear.predict(X_test_sample))))"
   ]
  },
  {
   "cell_type": "code",
   "execution_count": 158,
   "metadata": {},
   "outputs": [
    {
     "name": "stdout",
     "output_type": "stream",
     "text": [
      "F1 score: 0.00\n"
     ]
    }
   ],
   "source": [
    "KernalizedSVM_linear_f1_score = f1_score(y_test_sample, best_svm_linear.predict(X_test_sample))\n",
    "print(\"F1 score: {:.2f}\".format(f1_score(y_test_sample, best_svm_linear.predict(X_test_sample))))"
   ]
  },
  {
   "cell_type": "code",
   "execution_count": 159,
   "metadata": {},
   "outputs": [],
   "source": [
    "report_table = report_table + [['Kernalized SVM Linear Classifier', 'C=0.001 & gamma = 0.001' , best_svm_linear.score(X_train_sample, y_train_sample)*100, best_svm_linear.score(X_test_sample, y_test_sample)*100,f1_score(y_test_sample, best_svm_linear.predict(X_test_sample))]]"
   ]
  },
  {
   "cell_type": "markdown",
   "metadata": {},
   "source": [
    "<b>For Kernelized SVM linear classifier with small data , there are 0 False Positives and 91 False Negative, recall value 0.0 and F1 score is 0.0"
   ]
  },
  {
   "cell_type": "markdown",
   "metadata": {},
   "source": [
    "<b> c. Kernel Type : 'Poly'"
   ]
  },
  {
   "cell_type": "code",
   "execution_count": 160,
   "metadata": {},
   "outputs": [
    {
     "name": "stdout",
     "output_type": "stream",
     "text": [
      "[LibSVM]Train score: 78.9333 %\n",
      "Test score: 75.7333 %\n"
     ]
    }
   ],
   "source": [
    "best_svm_poly = SVC(C = 0.001, cache_size = 200, gamma = 0.001, kernel= 'poly', verbose = True)\n",
    "\n",
    "best_svm_poly.fit(X_train_sample,y_train_sample)\n",
    "y_pred_kernel_poly = best_svm_poly.predict(X_test_sample)\n",
    "\n",
    "print('Train score: {:.4f} %'.format(best_svm_poly.score(X_train_sample, y_train_sample)*100))\n",
    "print('Test score: {:.4f} %'.format(best_svm_poly.score(X_test_sample, y_test_sample)*100))"
   ]
  },
  {
   "cell_type": "code",
   "execution_count": 161,
   "metadata": {},
   "outputs": [
    {
     "name": "stdout",
     "output_type": "stream",
     "text": [
      "              precision    recall  f1-score   support\n",
      "\n",
      "         0.0       1.00      0.76      0.86       375\n",
      "         1.0       0.00      0.00      0.00         0\n",
      "\n",
      "    accuracy                           0.76       375\n",
      "   macro avg       0.50      0.38      0.43       375\n",
      "weighted avg       1.00      0.76      0.86       375\n",
      "\n"
     ]
    }
   ],
   "source": [
    "print(classification_report(y_pred_kernel_poly,y_test_sample))"
   ]
  },
  {
   "cell_type": "code",
   "execution_count": 162,
   "metadata": {},
   "outputs": [
    {
     "name": "stdout",
     "output_type": "stream",
     "text": [
      "[[284   0]\n",
      " [ 91   0]]\n"
     ]
    }
   ],
   "source": [
    "print(confusion_matrix(y_pred = y_pred_kernel_poly,y_true = y_test_sample))"
   ]
  },
  {
   "cell_type": "code",
   "execution_count": 163,
   "metadata": {},
   "outputs": [
    {
     "data": {
      "image/png": "[encoded data removed]",
      "text/plain": [
       "<Figure size 432x288 with 1 Axes>"
      ]
     },
     "metadata": {
      "needs_background": "light"
     },
     "output_type": "display_data"
    }
   ],
   "source": [
    "%matplotlib inline\n",
    "\n",
    "scores_image = mglearn.tools.heatmap(\n",
    "    confusion_matrix(y_pred = y_pred_kernel_poly, y_true = y_test_sample), xlabel = 'Predicted label',\n",
    "    ylabel='True label', xticklabels = ['No Default','Default'],\n",
    "    yticklabels=['No Default','Default'], cmap = plt.cm.gray_r, fmt = \"%d\")\n",
    "plt.title(\"Confusion matrix (Kernalized Poly SVM)\")\n",
    "plt.gca().invert_yaxis()"
   ]
  },
  {
   "cell_type": "code",
   "execution_count": 164,
   "metadata": {},
   "outputs": [
    {
     "name": "stdout",
     "output_type": "stream",
     "text": [
      "Recall score: 0.00\n"
     ]
    }
   ],
   "source": [
    "KernalizedSVM_poly_recall_score = recall_score(y_test_sample, best_svm_poly.predict(X_test_sample))\n",
    "print(\"Recall score: {:.2f}\".format(recall_score(y_test_sample, best_svm_poly.predict(X_test_sample))))"
   ]
  },
  {
   "cell_type": "code",
   "execution_count": 165,
   "metadata": {},
   "outputs": [
    {
     "name": "stdout",
     "output_type": "stream",
     "text": [
      "Preision score: 0.00\n"
     ]
    }
   ],
   "source": [
    "KernalizedSVM_poly_precision_score = precision_score(y_test_sample, best_svm_poly.predict(X_test_sample))\n",
    "print(\"Preision score: {:.2f}\".format(precision_score(y_test_sample, best_svm_poly.predict(X_test_sample))))"
   ]
  },
  {
   "cell_type": "code",
   "execution_count": 166,
   "metadata": {},
   "outputs": [
    {
     "name": "stdout",
     "output_type": "stream",
     "text": [
      "F1 score: 0.00\n"
     ]
    }
   ],
   "source": [
    "KernalizedSVM_poly_f1_score = f1_score(y_test_sample, best_svm_poly.predict(X_test_sample))\n",
    "print(\"F1 score: {:.2f}\".format(f1_score(y_test_sample, best_svm_poly.predict(X_test_sample))))"
   ]
  },
  {
   "cell_type": "code",
   "execution_count": 167,
   "metadata": {},
   "outputs": [],
   "source": [
    "report_table = report_table + [['Kernalized poly SVM Classifier', 'C=0.001 & gamma = 0.001' , best_svm_poly.score(X_train_sample, y_train_sample)*100, best_svm_poly.score(X_test_sample, y_test_sample)*100,f1_score(y_test_sample, best_svm_poly.predict(X_test_sample))]]"
   ]
  },
  {
   "cell_type": "markdown",
   "metadata": {},
   "source": [
    "<b>For Kernelized SVM poly classifier with small data, there are 0 False Positives and 91 False Negative, recall value 0.0 and F1 score is 0.0"
   ]
  },
  {
   "cell_type": "markdown",
   "metadata": {},
   "source": [
    "<h3>5. Decision Tree Classfier</h3>"
   ]
  },
  {
   "cell_type": "code",
   "execution_count": 168,
   "metadata": {},
   "outputs": [],
   "source": [
    "from sklearn.tree import DecisionTreeClassifier\n",
    "\n",
    "train_score_array_dtree = []\n",
    "test_score_array_dtree = []\n",
    "\n",
    "for depth in range(1,20):\n",
    "    dtree = DecisionTreeClassifier(max_depth = depth, random_state = 0)\n",
    "    dtree.fit(X_train, y_train)\n",
    "    train_score_array_dtree.append(dtree.score(X_train, y_train))\n",
    "    test_score_array_dtree.append(dtree.score(X_test, y_test))"
   ]
  },
  {
   "cell_type": "code",
   "execution_count": 169,
   "metadata": {},
   "outputs": [
    {
     "data": {
      "text/plain": [
       "<matplotlib.legend.Legend at 0x1e4eca633a0>"
      ]
     },
     "execution_count": 169,
     "metadata": {},
     "output_type": "execute_result"
    },
    {
     "data": {
      "image/png": "[encoded data removed]",
      "text/plain": [
       "<Figure size 432x288 with 1 Axes>"
      ]
     },
     "metadata": {
      "needs_background": "light"
     },
     "output_type": "display_data"
    }
   ],
   "source": [
    "x_axis = range(1,20)\n",
    "\n",
    "plt.plot(x_axis, train_score_array_dtree, label = 'Train Score', c = 'r')\n",
    "plt.plot(x_axis, test_score_array_dtree, label = 'Test Score', c = 'b')\n",
    "plt.xlabel('Max_depth')\n",
    "plt.ylabel('Accuracy')\n",
    "plt.legend()"
   ]
  },
  {
   "cell_type": "markdown",
   "metadata": {},
   "source": [
    ">  Approximately around max_depth = 6 test score is dropping and train score is increasing. So max_depth = 6 will be intital parameter"
   ]
  },
  {
   "cell_type": "code",
   "execution_count": 170,
   "metadata": {},
   "outputs": [
    {
     "name": "stdout",
     "output_type": "stream",
     "text": [
      "Train score: 82.6578 %\n",
      "Test score: 82.4667 %\n"
     ]
    }
   ],
   "source": [
    "dtree = DecisionTreeClassifier(max_depth = 6)\n",
    "\n",
    "dtree.fit(X_train, y_train)\n",
    "y_pred = dtree.predict(X_test)\n",
    "\n",
    "print('Train score: {:.4f} %'.format(dtree.score(X_train, y_train)*100))\n",
    "print('Test score: {:.4f} %'.format(dtree.score(X_test, y_test)*100))"
   ]
  },
  {
   "cell_type": "markdown",
   "metadata": {},
   "source": [
    "<b>Decision Tree Feature Selection</b>"
   ]
  },
  {
   "cell_type": "code",
   "execution_count": 171,
   "metadata": {},
   "outputs": [
    {
     "data": {
      "image/png": "[encoded data removed]",
      "text/plain": [
       "<Figure size 720x504 with 1 Axes>"
      ]
     },
     "metadata": {},
     "output_type": "display_data"
    }
   ],
   "source": [
    "%matplotlib inline\n",
    "def plot_feature_importances_CDH(model):\n",
    "    sns.set(rc={'figure.figsize':(10,7)})\n",
    "    n_features = X.shape[1]\n",
    "    plt.barh(range(n_features), model.feature_importances_, align='center')\n",
    "    plt.yticks(np.arange(n_features),X.columns)\n",
    "    plt.xlabel(\"Feature importance\")\n",
    "    plt.ylabel(\"Feature\")\n",
    "    plt.ylim(-1, n_features)\n",
    "\n",
    "plot_feature_importances_CDH(dtree)"
   ]
  },
  {
   "cell_type": "markdown",
   "metadata": {},
   "source": [
    "> PAY_1 is coming as most important feature"
   ]
  },
  {
   "cell_type": "markdown",
   "metadata": {},
   "source": [
    "<b>Cross validation scores for Decision Tree Classifier with folds</b>"
   ]
  },
  {
   "cell_type": "code",
   "execution_count": 172,
   "metadata": {},
   "outputs": [
    {
     "data": {
      "text/html": [
       "<div>\n",
       "<style scoped>\n",
       "    .dataframe tbody tr th:only-of-type {\n",
       "        vertical-align: middle;\n",
       "    }\n",
       "\n",
       "    .dataframe tbody tr th {\n",
       "        vertical-align: top;\n",
       "    }\n",
       "\n",
       "    .dataframe thead th {\n",
       "        text-align: right;\n",
       "    }\n",
       "</style>\n",
       "<table border=\"1\" class=\"dataframe\">\n",
       "  <thead>\n",
       "    <tr style=\"text-align: right;\">\n",
       "      <th></th>\n",
       "      <th>Cross-Validation scores</th>\n",
       "    </tr>\n",
       "  </thead>\n",
       "  <tbody>\n",
       "    <tr>\n",
       "      <th>0</th>\n",
       "      <td>0.820889</td>\n",
       "    </tr>\n",
       "    <tr>\n",
       "      <th>1</th>\n",
       "      <td>0.816444</td>\n",
       "    </tr>\n",
       "    <tr>\n",
       "      <th>2</th>\n",
       "      <td>0.820889</td>\n",
       "    </tr>\n",
       "    <tr>\n",
       "      <th>3</th>\n",
       "      <td>0.819111</td>\n",
       "    </tr>\n",
       "    <tr>\n",
       "      <th>4</th>\n",
       "      <td>0.823111</td>\n",
       "    </tr>\n",
       "    <tr>\n",
       "      <th>5</th>\n",
       "      <td>0.817778</td>\n",
       "    </tr>\n",
       "    <tr>\n",
       "      <th>6</th>\n",
       "      <td>0.817778</td>\n",
       "    </tr>\n",
       "    <tr>\n",
       "      <th>7</th>\n",
       "      <td>0.814667</td>\n",
       "    </tr>\n",
       "    <tr>\n",
       "      <th>8</th>\n",
       "      <td>0.819111</td>\n",
       "    </tr>\n",
       "    <tr>\n",
       "      <th>9</th>\n",
       "      <td>0.826222</td>\n",
       "    </tr>\n",
       "  </tbody>\n",
       "</table>\n",
       "</div>"
      ],
      "text/plain": [
       "   Cross-Validation scores\n",
       "0                 0.820889\n",
       "1                 0.816444\n",
       "2                 0.820889\n",
       "3                 0.819111\n",
       "4                 0.823111\n",
       "5                 0.817778\n",
       "6                 0.817778\n",
       "7                 0.814667\n",
       "8                 0.819111\n",
       "9                 0.826222"
      ]
     },
     "execution_count": 172,
     "metadata": {},
     "output_type": "execute_result"
    }
   ],
   "source": [
    "dtree_scores = cross_val_score(dtree, X_train,y_train, cv = 10)\n",
    "\n",
    "pd.DataFrame({\"Cross-Validation scores\": dtree_scores})"
   ]
  },
  {
   "cell_type": "code",
   "execution_count": 173,
   "metadata": {},
   "outputs": [
    {
     "name": "stdout",
     "output_type": "stream",
     "text": [
      "Average cross-validation score: 0.82\n"
     ]
    }
   ],
   "source": [
    "print(\"Average cross-validation score: {:.2f}\".format(dtree_scores.mean()))"
   ]
  },
  {
   "cell_type": "markdown",
   "metadata": {},
   "source": [
    "<b>Applying Grid Search with Decision Tree Classifier</b>"
   ]
  },
  {
   "cell_type": "code",
   "execution_count": 174,
   "metadata": {},
   "outputs": [
    {
     "name": "stdout",
     "output_type": "stream",
     "text": [
      "{'ccp_alpha': 0.0,\n",
      " 'class_weight': None,\n",
      " 'criterion': 'gini',\n",
      " 'max_depth': 6,\n",
      " 'max_features': None,\n",
      " 'max_leaf_nodes': None,\n",
      " 'min_impurity_decrease': 0.0,\n",
      " 'min_impurity_split': None,\n",
      " 'min_samples_leaf': 1,\n",
      " 'min_samples_split': 2,\n",
      " 'min_weight_fraction_leaf': 0.0,\n",
      " 'presort': 'deprecated',\n",
      " 'random_state': None,\n",
      " 'splitter': 'best'}\n"
     ]
    }
   ],
   "source": [
    "from pprint import pprint\n",
    "pprint(dtree.get_params())"
   ]
  },
  {
   "cell_type": "code",
   "execution_count": 175,
   "metadata": {},
   "outputs": [
    {
     "name": "stdout",
     "output_type": "stream",
     "text": [
      "Fitting 10 folds for each of 912 candidates, totalling 9120 fits\n"
     ]
    },
    {
     "name": "stderr",
     "output_type": "stream",
     "text": [
      "[Parallel(n_jobs=-1)]: Using backend LokyBackend with 8 concurrent workers.\n",
      "[Parallel(n_jobs=-1)]: Done  34 tasks      | elapsed:    5.1s\n",
      "[Parallel(n_jobs=-1)]: Done 184 tasks      | elapsed:    7.7s\n",
      "[Parallel(n_jobs=-1)]: Done 434 tasks      | elapsed:   11.9s\n",
      "[Parallel(n_jobs=-1)]: Done 784 tasks      | elapsed:   21.5s\n",
      "[Parallel(n_jobs=-1)]: Done 1234 tasks      | elapsed:   37.3s\n",
      "[Parallel(n_jobs=-1)]: Done 1784 tasks      | elapsed:  1.0min\n",
      "[Parallel(n_jobs=-1)]: Done 2434 tasks      | elapsed:  1.6min\n",
      "[Parallel(n_jobs=-1)]: Done 3184 tasks      | elapsed:  2.5min\n",
      "[Parallel(n_jobs=-1)]: Done 4034 tasks      | elapsed:  3.7min\n",
      "[Parallel(n_jobs=-1)]: Done 4984 tasks      | elapsed:  5.3min\n",
      "[Parallel(n_jobs=-1)]: Done 6034 tasks      | elapsed:  7.1min\n",
      "[Parallel(n_jobs=-1)]: Done 7184 tasks      | elapsed:  9.3min\n",
      "[Parallel(n_jobs=-1)]: Done 8434 tasks      | elapsed: 11.8min\n",
      "[Parallel(n_jobs=-1)]: Done 9120 out of 9120 | elapsed: 13.0min finished\n"
     ]
    },
    {
     "name": "stdout",
     "output_type": "stream",
     "text": [
      "{'max_depth': 4, 'min_samples_leaf': 2}\n"
     ]
    }
   ],
   "source": [
    "param_grid_dtree = {'max_depth' : range(1,20), 'min_samples_leaf' : range(2,50)}\n",
    "\n",
    "CV_dtree_class = GridSearchCV(estimator = dtree, cv = 10, param_grid = param_grid_dtree , scoring = 'recall', verbose = 1, n_jobs = -1)\n",
    "GS_results_dtree = CV_dtree_class.fit(X_train, y_train)\n",
    "\n",
    "best_parameters_dtree_class = CV_dtree_class.best_params_\n",
    "print(best_parameters_dtree_class)"
   ]
  },
  {
   "cell_type": "code",
   "execution_count": 176,
   "metadata": {},
   "outputs": [
    {
     "data": {
      "text/plain": [
       "0.3533"
      ]
     },
     "execution_count": 176,
     "metadata": {},
     "output_type": "execute_result"
    }
   ],
   "source": [
    "round(CV_dtree_class.score(X_test,y_test),4)"
   ]
  },
  {
   "cell_type": "code",
   "execution_count": 177,
   "metadata": {},
   "outputs": [
    {
     "name": "stdout",
     "output_type": "stream",
     "text": [
      "Best score- Decision Tree grid serach: \n"
     ]
    },
    {
     "data": {
      "text/plain": [
       "0.36748389962247396"
      ]
     },
     "execution_count": 177,
     "metadata": {},
     "output_type": "execute_result"
    }
   ],
   "source": [
    "print(\"Best score- Decision Tree grid serach: \")\n",
    "GS_results_dtree.best_score_\n"
   ]
  },
  {
   "cell_type": "code",
   "execution_count": 178,
   "metadata": {},
   "outputs": [
    {
     "name": "stdout",
     "output_type": "stream",
     "text": [
      "Best parameters- Decision Tree grid serach: \n"
     ]
    },
    {
     "data": {
      "text/plain": [
       "{'max_depth': 4, 'min_samples_leaf': 2}"
      ]
     },
     "execution_count": 178,
     "metadata": {},
     "output_type": "execute_result"
    }
   ],
   "source": [
    "print(\"Best parameters- Decision Tree grid serach: \")\n",
    "GS_results_dtree.best_params_"
   ]
  },
  {
   "cell_type": "markdown",
   "metadata": {},
   "source": [
    "<b>Using Best parameters from GridSearch for Decision Tree Classifier</b>"
   ]
  },
  {
   "cell_type": "code",
   "execution_count": 179,
   "metadata": {},
   "outputs": [
    {
     "name": "stdout",
     "output_type": "stream",
     "text": [
      "Train score: 82.2000 %\n",
      "Test score: 82.5733 %\n"
     ]
    }
   ],
   "source": [
    "best_dtree = DecisionTreeClassifier(max_depth = 4, min_samples_leaf = 2)\n",
    "\n",
    "best_dtree.fit(X_train, y_train)\n",
    "y_pred_dtree = best_dtree.predict(X_test)\n",
    "\n",
    "print('Train score: {:.4f} %'.format(best_dtree.score(X_train, y_train)*100))\n",
    "print('Test score: {:.4f} %'.format(best_dtree.score(X_test, y_test)*100))"
   ]
  },
  {
   "cell_type": "code",
   "execution_count": 180,
   "metadata": {},
   "outputs": [
    {
     "name": "stdout",
     "output_type": "stream",
     "text": [
      "              precision    recall  f1-score   support\n",
      "\n",
      "         0.0       0.85      0.95      0.90      5946\n",
      "         1.0       0.65      0.35      0.46      1554\n",
      "\n",
      "    accuracy                           0.83      7500\n",
      "   macro avg       0.75      0.65      0.68      7500\n",
      "weighted avg       0.81      0.83      0.81      7500\n",
      "\n"
     ]
    }
   ],
   "source": [
    "print(classification_report(y_pred = y_pred_dtree, y_true = y_test))"
   ]
  },
  {
   "cell_type": "code",
   "execution_count": 181,
   "metadata": {},
   "outputs": [
    {
     "name": "stdout",
     "output_type": "stream",
     "text": [
      "[[5644  302]\n",
      " [1005  549]]\n"
     ]
    }
   ],
   "source": [
    "print(confusion_matrix(y_pred = y_pred_dtree, y_true = y_test))"
   ]
  },
  {
   "cell_type": "code",
   "execution_count": 182,
   "metadata": {},
   "outputs": [
    {
     "data": {
      "image/png": "[encoded data removed]",
      "text/plain": [
       "<Figure size 432x288 with 1 Axes>"
      ]
     },
     "metadata": {
      "needs_background": "light"
     },
     "output_type": "display_data"
    }
   ],
   "source": [
    "%matplotlib inline\n",
    "\n",
    "scores_image = mglearn.tools.heatmap(\n",
    "    confusion_matrix(y_pred = y_pred_dtree, y_true = y_test), xlabel = 'Predicted label',\n",
    "    ylabel='True label', xticklabels = ['No Default','Default'],\n",
    "    yticklabels=['No Default','Default'], cmap = plt.cm.gray_r, fmt=\"%d\")\n",
    "plt.title(\"Confusion matrix (Decision Tree)\")\n",
    "plt.gca().invert_yaxis()"
   ]
  },
  {
   "cell_type": "code",
   "execution_count": 183,
   "metadata": {},
   "outputs": [
    {
     "name": "stdout",
     "output_type": "stream",
     "text": [
      "Recall score : 0.3533\n"
     ]
    }
   ],
   "source": [
    "Decision_recall_score = recall_score(y_test, best_dtree.predict(X_test))\n",
    "print('Recall score : {:.4f}'.format(recall_score(y_test, best_dtree.predict(X_test))))"
   ]
  },
  {
   "cell_type": "code",
   "execution_count": 184,
   "metadata": {},
   "outputs": [
    {
     "name": "stdout",
     "output_type": "stream",
     "text": [
      "precision score : 0.6451 \n"
     ]
    }
   ],
   "source": [
    "Decision_precision_score = precision_score(y_test,best_dtree.predict(X_test))\n",
    "print('precision score : {:.4f} '.format(precision_score(y_test, best_dtree.predict(X_test))))"
   ]
  },
  {
   "cell_type": "code",
   "execution_count": 185,
   "metadata": {},
   "outputs": [
    {
     "name": "stdout",
     "output_type": "stream",
     "text": [
      "f1 score : 0.4565 \n"
     ]
    }
   ],
   "source": [
    "Decision_f1_score = f1_score(y_test, best_dtree.predict(X_test))\n",
    "print('f1 score : {:.4f} '.format(f1_score(y_test, best_dtree.predict(X_test))))"
   ]
  },
  {
   "cell_type": "code",
   "execution_count": 186,
   "metadata": {},
   "outputs": [
    {
     "data": {
      "text/plain": [
       "<matplotlib.legend.Legend at 0x1e4db8de250>"
      ]
     },
     "execution_count": 186,
     "metadata": {},
     "output_type": "execute_result"
    },
    {
     "data": {
      "image/png": "[encoded data removed]",
      "text/plain": [
       "<Figure size 432x288 with 1 Axes>"
      ]
     },
     "metadata": {
      "needs_background": "light"
     },
     "output_type": "display_data"
    }
   ],
   "source": [
    "import mglearn\n",
    "%matplotlib inline\n",
    "\n",
    "precision, recall, thresholds = precision_recall_curve(y_test, best_dtree.predict_proba(X_test)[:,1])\n",
    "\n",
    "close_zero = np.argmin(np.abs(thresholds-0.5))\n",
    "\n",
    "plt.plot(precision[close_zero], recall[close_zero], 'o', markersize=10,\n",
    "         label=\"thresholds-0.5\", fillstyle=\"none\", c='k', mew=2)\n",
    "\n",
    "plt.plot(precision, recall, label=\"precision recall curve\")\n",
    "plt.xlabel(\"Precision\")\n",
    "plt.ylabel(\"Recall\")\n",
    "plt.legend(loc=\"best\")"
   ]
  },
  {
   "cell_type": "code",
   "execution_count": 187,
   "metadata": {},
   "outputs": [],
   "source": [
    "report_table = report_table + [['Decision Tress Classifier', 'Max depth =4', best_dtree.score(X_train, y_train)*100, best_dtree.score(X_test, y_test)*100, f1_score(y_test, best_dtree.predict(X_test)) ]]"
   ]
  },
  {
   "cell_type": "markdown",
   "metadata": {},
   "source": [
    "<b>For Decision Tree Classifier, there are 302 False Positives and 1005 False Negative. Recall is 0.3533 and F1 score is 0.4565</b>"
   ]
  },
  {
   "cell_type": "markdown",
   "metadata": {},
   "source": [
    "<center><h2> Conclusion</h2></center>"
   ]
  },
  {
   "cell_type": "code",
   "execution_count": 188,
   "metadata": {
    "scrolled": true
   },
   "outputs": [
    {
     "data": {
      "text/html": [
       "<div>\n",
       "<style scoped>\n",
       "    .dataframe tbody tr th:only-of-type {\n",
       "        vertical-align: middle;\n",
       "    }\n",
       "\n",
       "    .dataframe tbody tr th {\n",
       "        vertical-align: top;\n",
       "    }\n",
       "\n",
       "    .dataframe thead th {\n",
       "        text-align: right;\n",
       "    }\n",
       "</style>\n",
       "<table border=\"1\" class=\"dataframe\">\n",
       "  <thead>\n",
       "    <tr style=\"text-align: right;\">\n",
       "      <th></th>\n",
       "      <th>Model name</th>\n",
       "      <th>Model parameter</th>\n",
       "      <th>Train accuracy %</th>\n",
       "      <th>Test accuracy %</th>\n",
       "      <th>F1- score</th>\n",
       "    </tr>\n",
       "    <tr>\n",
       "      <th>Model name</th>\n",
       "      <th></th>\n",
       "      <th></th>\n",
       "      <th></th>\n",
       "      <th></th>\n",
       "      <th></th>\n",
       "    </tr>\n",
       "  </thead>\n",
       "  <tbody>\n",
       "    <tr>\n",
       "      <th>KNN Classification</th>\n",
       "      <td>KNN Classification</td>\n",
       "      <td>K=18</td>\n",
       "      <td>79.280</td>\n",
       "      <td>78.853</td>\n",
       "      <td>0.035</td>\n",
       "    </tr>\n",
       "    <tr>\n",
       "      <th>Logistic Regression</th>\n",
       "      <td>Logistic Regression</td>\n",
       "      <td>C=100 &amp; max iter =63</td>\n",
       "      <td>78.893</td>\n",
       "      <td>79.280</td>\n",
       "      <td>0.000</td>\n",
       "    </tr>\n",
       "    <tr>\n",
       "      <th>Linear SVM Classifier</th>\n",
       "      <td>Linear SVM Classifier</td>\n",
       "      <td>C=10 &amp; Max_iter=141</td>\n",
       "      <td>78.902</td>\n",
       "      <td>79.267</td>\n",
       "      <td>0.000</td>\n",
       "    </tr>\n",
       "    <tr>\n",
       "      <th>Kernalized SVM rbg Classifier</th>\n",
       "      <td>Kernalized SVM rbg Classifier</td>\n",
       "      <td>C=0.001 &amp; gamma = 0.001</td>\n",
       "      <td>78.933</td>\n",
       "      <td>75.733</td>\n",
       "      <td>0.000</td>\n",
       "    </tr>\n",
       "    <tr>\n",
       "      <th>Kernalized SVM Linear Classifier</th>\n",
       "      <td>Kernalized SVM Linear Classifier</td>\n",
       "      <td>C=0.001 &amp; gamma = 0.001</td>\n",
       "      <td>78.933</td>\n",
       "      <td>75.733</td>\n",
       "      <td>0.000</td>\n",
       "    </tr>\n",
       "    <tr>\n",
       "      <th>Kernalized poly SVM Classifier</th>\n",
       "      <td>Kernalized poly SVM Classifier</td>\n",
       "      <td>C=0.001 &amp; gamma = 0.001</td>\n",
       "      <td>78.933</td>\n",
       "      <td>75.733</td>\n",
       "      <td>0.000</td>\n",
       "    </tr>\n",
       "    <tr>\n",
       "      <th>Decision Tress Classifier</th>\n",
       "      <td>Decision Tress Classifier</td>\n",
       "      <td>Max depth =4</td>\n",
       "      <td>82.200</td>\n",
       "      <td>82.573</td>\n",
       "      <td>0.457</td>\n",
       "    </tr>\n",
       "  </tbody>\n",
       "</table>\n",
       "</div>"
      ],
      "text/plain": [
       "                                                        Model name  \\\n",
       "Model name                                                           \n",
       "KNN Classification                              KNN Classification   \n",
       "Logistic Regression                            Logistic Regression   \n",
       "Linear SVM Classifier                        Linear SVM Classifier   \n",
       "Kernalized SVM rbg Classifier        Kernalized SVM rbg Classifier   \n",
       "Kernalized SVM Linear Classifier  Kernalized SVM Linear Classifier   \n",
       "Kernalized poly SVM Classifier      Kernalized poly SVM Classifier   \n",
       "Decision Tress Classifier                Decision Tress Classifier   \n",
       "\n",
       "                                          Model parameter  Train accuracy %  \\\n",
       "Model name                                                                    \n",
       "KNN Classification                                   K=18            79.280   \n",
       "Logistic Regression                  C=100 & max iter =63            78.893   \n",
       "Linear SVM Classifier                 C=10 & Max_iter=141            78.902   \n",
       "Kernalized SVM rbg Classifier     C=0.001 & gamma = 0.001            78.933   \n",
       "Kernalized SVM Linear Classifier  C=0.001 & gamma = 0.001            78.933   \n",
       "Kernalized poly SVM Classifier    C=0.001 & gamma = 0.001            78.933   \n",
       "Decision Tress Classifier                    Max depth =4            82.200   \n",
       "\n",
       "                                  Test accuracy %  F1- score  \n",
       "Model name                                                    \n",
       "KNN Classification                         78.853      0.035  \n",
       "Logistic Regression                        79.280      0.000  \n",
       "Linear SVM Classifier                      79.267      0.000  \n",
       "Kernalized SVM rbg Classifier              75.733      0.000  \n",
       "Kernalized SVM Linear Classifier           75.733      0.000  \n",
       "Kernalized poly SVM Classifier             75.733      0.000  \n",
       "Decision Tress Classifier                  82.573      0.457  "
      ]
     },
     "execution_count": 188,
     "metadata": {},
     "output_type": "execute_result"
    }
   ],
   "source": [
    "report = pd.DataFrame(report_table,columns = ['Model name','Model parameter', 'Train accuracy %', 'Test accuracy %', 'F1- score'])\n",
    "report.index = report['Model name']\n",
    "report.round(3)"
   ]
  },
  {
   "cell_type": "markdown",
   "metadata": {},
   "source": [
    "From above results, F1 score for Logistic, linear SV and Kernelized SVM is 0,  as it accurately predicted true positives. But test accuracy for decision tree is highest.\n",
    "In this case, we need to know who will default so precision / F-1 score will be good parameter to select best model.\n",
    "We have used confusion matrix to determine best model because from that we can determine various characteristics of model like true positives, true negatives, false positive which helps to determine overall accuracy,precision, recall rate. We have used  Currently we dont have any false positive in logistic and SVM models so precision and recall are zero but addition of 1 false positive will result in small precision and very large recall. In order to avoid this discrepancy we have used F-1 score as indicator variable.\n",
    "So to conclude, for our data Logistic regression model has highest accuracy and best F1-score."
   ]
  },
  {
   "cell_type": "code",
   "execution_count": null,
   "metadata": {},
   "outputs": [],
   "source": []
  }
 ],
 "metadata": {
  "kernelspec": {
   "display_name": "Python 3",
   "language": "python",
   "name": "python3"
  },
  "language_info": {
   "codemirror_mode": {
    "name": "ipython",
    "version": 3
   },
   "file_extension": ".py",
   "mimetype": "text/x-python",
   "name": "python",
   "nbconvert_exporter": "python",
   "pygments_lexer": "ipython3",
   "version": "3.7.4"
  }
 },
 "nbformat": 4,
 "nbformat_minor": 2
}
